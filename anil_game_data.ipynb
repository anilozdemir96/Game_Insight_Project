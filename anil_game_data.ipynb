{
 "cells": [
  {
   "cell_type": "markdown",
   "metadata": {},
   "source": [
    "# GAME INSIGHTS  PROJECT\n",
    "\n",
    "                                                #### Anıl Özdemir\n",
    "\n",
    "I will apply a several discovery method to come up with insights based on the data you supplied me.I am going to decide whether the game should be launched or not while  finding the list of metrics you are expected to me to calculate. "
   ]
  },
  {
   "cell_type": "markdown",
   "metadata": {},
   "source": [
    "**Contents**\n",
    "\n",
    "[1. Dataset Loading and Importing Necessary Libraries & Modules](#1)    \n",
    "[2. Connection to Database](#2)    \n",
    "&nbsp;&nbsp;&nbsp;&nbsp;[2.1 Read a SQL Query out of your database and into a Pandas Dataframe](#2.1)    \n",
    "  [3. Cohorted Daily metrics ](#3)        \n",
    "&nbsp;&nbsp;&nbsp;&nbsp;[3.1 Daily / Monthly User Activity](#3.1)    \n",
    "&nbsp;&nbsp;&nbsp;&nbsp;[3.2 Installs & Organic vs. Paid User Acquisition](#3.2)    \n",
    "&nbsp;&nbsp;&nbsp;&nbsp;[3.3 Retention](#3.3)    \n",
    "  [4. Game Metrics](#4)        \n",
    "&nbsp;&nbsp;&nbsp;&nbsp;[4.1 Average Game Duration](#4.1)     \n",
    "&nbsp;&nbsp;&nbsp;&nbsp;[4.2 Average Game Score](#4.2)     \n",
    "&nbsp;&nbsp;&nbsp;&nbsp;[4.3 Session per User](#4.3)       \n",
    "&nbsp;&nbsp;&nbsp;&nbsp;[4.4 Games per User](#4.4)       \n",
    "&nbsp;&nbsp;&nbsp;&nbsp;[4.5 Average Session Duration](#4.5)       \n",
    "&nbsp;&nbsp;&nbsp;&nbsp;[4.6 Percentage of User that Finished Tutorial ](#4.6) \n",
    "  [5. Analysis of Number of Guns Registered Per State](#5)        \n",
    "      \n",
    "\n",
    "<br><br>\n",
    "\n",
    "## <a id=\"1\">1.  Dataset Loading and Importing Necessary libraries & Modules </a>\n",
    "\n",
    "As the first step, let me import the necessery libraries and , load the dataset. "
   ]
  },
  {
   "cell_type": "code",
   "execution_count": 1,
   "metadata": {},
   "outputs": [
    {
     "data": {
      "text/html": [
       "<script type=\"text/javascript\">window.PlotlyConfig = {MathJaxConfig: 'local'};</script><script type=\"text/javascript\">if (window.MathJax) {MathJax.Hub.Config({SVG: {font: \"STIX-Web\"}});}</script><script>requirejs.config({paths: { 'plotly': ['https://cdn.plot.ly/plotly-latest.min']},});if(!window._Plotly) {require(['plotly'],function(plotly) {window._Plotly=plotly;});}</script>"
      ],
      "text/vnd.plotly.v1+html": [
       "<script type=\"text/javascript\">window.PlotlyConfig = {MathJaxConfig: 'local'};</script><script type=\"text/javascript\">if (window.MathJax) {MathJax.Hub.Config({SVG: {font: \"STIX-Web\"}});}</script><script>requirejs.config({paths: { 'plotly': ['https://cdn.plot.ly/plotly-latest.min']},});if(!window._Plotly) {require(['plotly'],function(plotly) {window._Plotly=plotly;});}</script>"
      ]
     },
     "metadata": {},
     "output_type": "display_data"
    }
   ],
   "source": [
    "import pandas as pd  # module for data manipulation and analysis\n",
    "from __future__ import division # module for fancy printing\n",
    "import numpy as np # module for high-level mathematical functions \n",
    "import sqlite3 as sq  #Explain later.\n",
    "from datetime import datetime # module for manipulating dates and times \n",
    "import plotly.graph_objs as go # for visualization\n",
    "import calendar\n",
    "from plotly.offline import init_notebook_mode, iplot #for visualization\n",
    "init_notebook_mode(connected=True)\n",
    "from IPython.display import display_html # for display\n",
    "import matplotlib.pyplot as plt # for visualization\n",
    "import seaborn as sns # for visualization\n",
    "sns.set_style(\"darkgrid\")\n",
    "import warnings # for ignore unnecessery warnings.\n",
    "warnings.simplefilter('ignore')\n",
    "%matplotlib inline"
   ]
  },
  {
   "cell_type": "markdown",
   "metadata": {},
   "source": [
    "Importing- Data and .pynb file must be share common directory to using pd.read_csv with only name parameter."
   ]
  },
  {
   "cell_type": "code",
   "execution_count": 2,
   "metadata": {
    "collapsed": true
   },
   "outputs": [],
   "source": [
    "#read the CSVs\n",
    "\n",
    "start_info = pd.read_csv('start.csv')\n",
    "end_info=pd.read_csv(\"endgame.csv\")\n",
    "install_info=pd.read_csv(\"install.csv\")\n",
    "log_info=pd.read_csv(\"login.csv\")\n",
    "tutor_info=pd.read_csv(\"tutorial.csv\")\n",
    "\n"
   ]
  },
  {
   "cell_type": "markdown",
   "metadata": {},
   "source": [
    "<br><br>\n",
    "\n",
    "## <a id=\"2\">2.  Database Connection </a>\n",
    "\n",
    "### SQLite\n",
    "\n",
    "SQLite which is a C library that supports a lightweight disk-based database that doesn’t need a separate server process and allows accessing the database using a nonstandard variant of the SQL query language. Idea behind SQLite that it’s serverless. It doesn’t require a server to run.\n",
    "In this work, I used module called sqlite3 which provide integration between SQLlite and  Python.\n",
    "We can perform any operation on a SQLite database via  sqlite3  is to open a connection to an SQLite database file.\n",
    "More information can be found under following [link](https://docs.python.org/2/library/sqlite3.html)."
   ]
  },
  {
   "cell_type": "markdown",
   "metadata": {},
   "source": [
    "The below Python code enables us to connect to an existing database using connection \"objectconn\".If the database does not exist, then it will be create a Any_Database_Name.db file in the current directory. "
   ]
  },
  {
   "cell_type": "code",
   "execution_count": 3,
   "metadata": {
    "collapsed": true
   },
   "outputs": [],
   "source": [
    "#connect to a database\n",
    "connection = sq.connect(\"My.db_python_gram\") #if the db does not exist, this creates a Any_Database_Name.db file in the current directory\n",
    "try:\n",
    "    start_info.to_sql('start_table', connection)\n",
    "    end_info.to_sql('end_table', connection)\n",
    "    install_info.to_sql('install_table', connection)\n",
    "    log_info.to_sql('login_table', connection)\n",
    "    tutor_info.to_sql('tutorial_table', connection)\n",
    "except sq.OperationalError as e:\n",
    "    print('sqlite error:', e.args[0])  # table companies already exists\n",
    "    \n",
    "    "
   ]
  },
  {
   "cell_type": "markdown",
   "metadata": {},
   "source": [
    "<br><br>\n",
    "### <a id=\"2.1\">2.1 Read a SQL Query out of your database and into a Pandas Dataframe</a>\n",
    "By using pandas.read_sql function we can read SQL query or database table into a DataFrame. "
   ]
  },
  {
   "cell_type": "code",
   "execution_count": 4,
   "metadata": {
    "collapsed": true
   },
   "outputs": [],
   "source": [
    "#read a SQL Query out of your database and into a pandas dataframe\n",
    "query = 'SELECT * from start_table' #\n",
    "start_info = pd.read_sql(query, connection)"
   ]
  },
  {
   "cell_type": "code",
   "execution_count": 5,
   "metadata": {},
   "outputs": [
    {
     "data": {
      "text/html": [
       "<div>\n",
       "<style scoped>\n",
       "    .dataframe tbody tr th:only-of-type {\n",
       "        vertical-align: middle;\n",
       "    }\n",
       "\n",
       "    .dataframe tbody tr th {\n",
       "        vertical-align: top;\n",
       "    }\n",
       "\n",
       "    .dataframe thead th {\n",
       "        text-align: right;\n",
       "    }\n",
       "</style>\n",
       "<table border=\"1\" class=\"dataframe\">\n",
       "  <thead>\n",
       "    <tr style=\"text-align: right;\">\n",
       "      <th></th>\n",
       "      <th>index</th>\n",
       "      <th>event_id</th>\n",
       "      <th>uid</th>\n",
       "      <th>ts</th>\n",
       "      <th>dt</th>\n",
       "      <th>s_index</th>\n",
       "      <th>s_time</th>\n",
       "      <th>game_index</th>\n",
       "      <th>xp</th>\n",
       "      <th>xp_level</th>\n",
       "      <th>type</th>\n",
       "    </tr>\n",
       "  </thead>\n",
       "  <tbody>\n",
       "    <tr>\n",
       "      <th>0</th>\n",
       "      <td>0</td>\n",
       "      <td>22432c15-8977-1bb8-9df8-80a411c245ff</td>\n",
       "      <td>2581</td>\n",
       "      <td>1488635080</td>\n",
       "      <td>2017-03-04</td>\n",
       "      <td>62</td>\n",
       "      <td>851</td>\n",
       "      <td>138</td>\n",
       "      <td>695</td>\n",
       "      <td>8</td>\n",
       "      <td>newg</td>\n",
       "    </tr>\n",
       "    <tr>\n",
       "      <th>1</th>\n",
       "      <td>1</td>\n",
       "      <td>36866492-5a64-f7a5-794d-3790a0c38953</td>\n",
       "      <td>316</td>\n",
       "      <td>1487952786</td>\n",
       "      <td>2017-02-24</td>\n",
       "      <td>1</td>\n",
       "      <td>86</td>\n",
       "      <td>1</td>\n",
       "      <td>0</td>\n",
       "      <td>1</td>\n",
       "      <td>midg</td>\n",
       "    </tr>\n",
       "    <tr>\n",
       "      <th>2</th>\n",
       "      <td>2</td>\n",
       "      <td>89d13450-0566-d554-2ffd-8a3f4ff0db89</td>\n",
       "      <td>297</td>\n",
       "      <td>1489441403</td>\n",
       "      <td>2017-03-13</td>\n",
       "      <td>35</td>\n",
       "      <td>1215</td>\n",
       "      <td>129</td>\n",
       "      <td>220</td>\n",
       "      <td>7</td>\n",
       "      <td>midg</td>\n",
       "    </tr>\n",
       "    <tr>\n",
       "      <th>3</th>\n",
       "      <td>3</td>\n",
       "      <td>5eb3ad11-4eb9-9369-738d-43f143c844e3</td>\n",
       "      <td>1070</td>\n",
       "      <td>1488592543</td>\n",
       "      <td>2017-03-04</td>\n",
       "      <td>13</td>\n",
       "      <td>1414</td>\n",
       "      <td>38</td>\n",
       "      <td>29</td>\n",
       "      <td>6</td>\n",
       "      <td>midg</td>\n",
       "    </tr>\n",
       "    <tr>\n",
       "      <th>4</th>\n",
       "      <td>4</td>\n",
       "      <td>cfb62ac5-7d09-d2d1-943d-04d25255deb6</td>\n",
       "      <td>1967</td>\n",
       "      <td>1490550180</td>\n",
       "      <td>2017-03-26</td>\n",
       "      <td>3</td>\n",
       "      <td>163</td>\n",
       "      <td>3</td>\n",
       "      <td>2</td>\n",
       "      <td>1</td>\n",
       "      <td>midg</td>\n",
       "    </tr>\n",
       "  </tbody>\n",
       "</table>\n",
       "</div>"
      ],
      "text/plain": [
       "   index                              event_id   uid          ts          dt  \\\n",
       "0      0  22432c15-8977-1bb8-9df8-80a411c245ff  2581  1488635080  2017-03-04   \n",
       "1      1  36866492-5a64-f7a5-794d-3790a0c38953   316  1487952786  2017-02-24   \n",
       "2      2  89d13450-0566-d554-2ffd-8a3f4ff0db89   297  1489441403  2017-03-13   \n",
       "3      3  5eb3ad11-4eb9-9369-738d-43f143c844e3  1070  1488592543  2017-03-04   \n",
       "4      4  cfb62ac5-7d09-d2d1-943d-04d25255deb6  1967  1490550180  2017-03-26   \n",
       "\n",
       "   s_index  s_time  game_index   xp  xp_level  type  \n",
       "0       62     851         138  695         8  newg  \n",
       "1        1      86           1    0         1  midg  \n",
       "2       35    1215         129  220         7  midg  \n",
       "3       13    1414          38   29         6  midg  \n",
       "4        3     163           3    2         1  midg  "
      ]
     },
     "execution_count": 5,
     "metadata": {},
     "output_type": "execute_result"
    }
   ],
   "source": [
    "start_info.head(5)"
   ]
  },
  {
   "cell_type": "code",
   "execution_count": 6,
   "metadata": {
    "collapsed": true
   },
   "outputs": [],
   "source": [
    "query = 'SELECT * from end_table' #\n",
    "end_info = pd.read_sql(query, connection)\n"
   ]
  },
  {
   "cell_type": "code",
   "execution_count": 7,
   "metadata": {},
   "outputs": [
    {
     "data": {
      "text/html": [
       "<div>\n",
       "<style scoped>\n",
       "    .dataframe tbody tr th:only-of-type {\n",
       "        vertical-align: middle;\n",
       "    }\n",
       "\n",
       "    .dataframe tbody tr th {\n",
       "        vertical-align: top;\n",
       "    }\n",
       "\n",
       "    .dataframe thead th {\n",
       "        text-align: right;\n",
       "    }\n",
       "</style>\n",
       "<table border=\"1\" class=\"dataframe\">\n",
       "  <thead>\n",
       "    <tr style=\"text-align: right;\">\n",
       "      <th></th>\n",
       "      <th>index</th>\n",
       "      <th>event_id</th>\n",
       "      <th>uid</th>\n",
       "      <th>ts</th>\n",
       "      <th>dt</th>\n",
       "      <th>s_index</th>\n",
       "      <th>s_time</th>\n",
       "      <th>game_index</th>\n",
       "      <th>duration</th>\n",
       "      <th>score</th>\n",
       "      <th>...</th>\n",
       "      <th>chain_count</th>\n",
       "      <th>combo_count</th>\n",
       "      <th>max_tile_seen</th>\n",
       "      <th>merge_count</th>\n",
       "      <th>moves_count</th>\n",
       "      <th>rotate_count</th>\n",
       "      <th>upgrade_tiles</th>\n",
       "      <th>xp</th>\n",
       "      <th>xp_gained</th>\n",
       "      <th>xp_level</th>\n",
       "    </tr>\n",
       "  </thead>\n",
       "  <tbody>\n",
       "    <tr>\n",
       "      <th>0</th>\n",
       "      <td>0</td>\n",
       "      <td>52b83e6e-eae1-9c0b-ce33-31b809a26393</td>\n",
       "      <td>400</td>\n",
       "      <td>1489420016</td>\n",
       "      <td>13/03/17</td>\n",
       "      <td>64</td>\n",
       "      <td>3830</td>\n",
       "      <td>405</td>\n",
       "      <td>240.3142</td>\n",
       "      <td>1362</td>\n",
       "      <td>...</td>\n",
       "      <td>3</td>\n",
       "      <td>10</td>\n",
       "      <td>7</td>\n",
       "      <td>51</td>\n",
       "      <td>89</td>\n",
       "      <td>79</td>\n",
       "      <td>6</td>\n",
       "      <td>1629</td>\n",
       "      <td>10</td>\n",
       "      <td>9</td>\n",
       "    </tr>\n",
       "    <tr>\n",
       "      <th>1</th>\n",
       "      <td>1</td>\n",
       "      <td>2504ac73-8e70-e0c7-cb83-5dd9accddbe3</td>\n",
       "      <td>1885</td>\n",
       "      <td>1487730856</td>\n",
       "      <td>22/02/17</td>\n",
       "      <td>1</td>\n",
       "      <td>619</td>\n",
       "      <td>3</td>\n",
       "      <td>138.4912</td>\n",
       "      <td>307</td>\n",
       "      <td>...</td>\n",
       "      <td>0</td>\n",
       "      <td>2</td>\n",
       "      <td>6</td>\n",
       "      <td>25</td>\n",
       "      <td>52</td>\n",
       "      <td>30</td>\n",
       "      <td>0</td>\n",
       "      <td>7</td>\n",
       "      <td>0</td>\n",
       "      <td>1</td>\n",
       "    </tr>\n",
       "    <tr>\n",
       "      <th>2</th>\n",
       "      <td>2</td>\n",
       "      <td>7578f4ed-1f1f-6538-ee55-1cd07c665230</td>\n",
       "      <td>1987</td>\n",
       "      <td>1488338552</td>\n",
       "      <td>01/03/17</td>\n",
       "      <td>8</td>\n",
       "      <td>359</td>\n",
       "      <td>16</td>\n",
       "      <td>153.2273</td>\n",
       "      <td>611</td>\n",
       "      <td>...</td>\n",
       "      <td>2</td>\n",
       "      <td>4</td>\n",
       "      <td>7</td>\n",
       "      <td>28</td>\n",
       "      <td>53</td>\n",
       "      <td>34</td>\n",
       "      <td>6</td>\n",
       "      <td>13</td>\n",
       "      <td>8</td>\n",
       "      <td>4</td>\n",
       "    </tr>\n",
       "  </tbody>\n",
       "</table>\n",
       "<p>3 rows × 23 columns</p>\n",
       "</div>"
      ],
      "text/plain": [
       "   index                              event_id   uid          ts        dt  \\\n",
       "0      0  52b83e6e-eae1-9c0b-ce33-31b809a26393   400  1489420016  13/03/17   \n",
       "1      1  2504ac73-8e70-e0c7-cb83-5dd9accddbe3  1885  1487730856  22/02/17   \n",
       "2      2  7578f4ed-1f1f-6538-ee55-1cd07c665230  1987  1488338552  01/03/17   \n",
       "\n",
       "   s_index  s_time  game_index  duration  score    ...     chain_count  \\\n",
       "0       64    3830         405  240.3142   1362    ...               3   \n",
       "1        1     619           3  138.4912    307    ...               0   \n",
       "2        8     359          16  153.2273    611    ...               2   \n",
       "\n",
       "   combo_count  max_tile_seen  merge_count  moves_count  rotate_count  \\\n",
       "0           10              7           51           89            79   \n",
       "1            2              6           25           52            30   \n",
       "2            4              7           28           53            34   \n",
       "\n",
       "   upgrade_tiles    xp  xp_gained  xp_level  \n",
       "0              6  1629         10         9  \n",
       "1              0     7          0         1  \n",
       "2              6    13          8         4  \n",
       "\n",
       "[3 rows x 23 columns]"
      ]
     },
     "execution_count": 7,
     "metadata": {},
     "output_type": "execute_result"
    }
   ],
   "source": [
    "end_info.head(3)"
   ]
  },
  {
   "cell_type": "code",
   "execution_count": 8,
   "metadata": {
    "collapsed": true
   },
   "outputs": [],
   "source": [
    "query = 'SELECT * from install_table' #\n",
    "install_info = pd.read_sql(query, connection)\n"
   ]
  },
  {
   "cell_type": "code",
   "execution_count": 9,
   "metadata": {},
   "outputs": [
    {
     "data": {
      "text/html": [
       "<div>\n",
       "<style scoped>\n",
       "    .dataframe tbody tr th:only-of-type {\n",
       "        vertical-align: middle;\n",
       "    }\n",
       "\n",
       "    .dataframe tbody tr th {\n",
       "        vertical-align: top;\n",
       "    }\n",
       "\n",
       "    .dataframe thead th {\n",
       "        text-align: right;\n",
       "    }\n",
       "</style>\n",
       "<table border=\"1\" class=\"dataframe\">\n",
       "  <thead>\n",
       "    <tr style=\"text-align: right;\">\n",
       "      <th></th>\n",
       "      <th>index</th>\n",
       "      <th>event_id</th>\n",
       "      <th>uid</th>\n",
       "      <th>ts</th>\n",
       "      <th>dt</th>\n",
       "      <th>device</th>\n",
       "      <th>tz</th>\n",
       "      <th>is_organic</th>\n",
       "    </tr>\n",
       "  </thead>\n",
       "  <tbody>\n",
       "    <tr>\n",
       "      <th>0</th>\n",
       "      <td>0</td>\n",
       "      <td>41f5534e-d523-2062-be53-d55c69157824</td>\n",
       "      <td>747</td>\n",
       "      <td>1488070616</td>\n",
       "      <td>2017-02-26</td>\n",
       "      <td>iPad3,3</td>\n",
       "      <td>-08:00:00</td>\n",
       "      <td>0</td>\n",
       "    </tr>\n",
       "    <tr>\n",
       "      <th>1</th>\n",
       "      <td>1</td>\n",
       "      <td>cec2d96c-4dce-3099-6f78-4b3841170e54</td>\n",
       "      <td>1299</td>\n",
       "      <td>1487940482</td>\n",
       "      <td>2017-02-24</td>\n",
       "      <td>iPad4,1</td>\n",
       "      <td>-05:00:00</td>\n",
       "      <td>0</td>\n",
       "    </tr>\n",
       "    <tr>\n",
       "      <th>2</th>\n",
       "      <td>2</td>\n",
       "      <td>ad4fb0ea-6949-e253-0e6f-7fdef5369c5d</td>\n",
       "      <td>2439</td>\n",
       "      <td>1487904064</td>\n",
       "      <td>2017-02-24</td>\n",
       "      <td>iPhone7,1</td>\n",
       "      <td>-08:00:00</td>\n",
       "      <td>0</td>\n",
       "    </tr>\n",
       "    <tr>\n",
       "      <th>3</th>\n",
       "      <td>3</td>\n",
       "      <td>88539642-a518-3156-6efb-80897686c99f</td>\n",
       "      <td>2099</td>\n",
       "      <td>1487788550</td>\n",
       "      <td>2017-02-22</td>\n",
       "      <td>iPad6,7</td>\n",
       "      <td>01:00:00</td>\n",
       "      <td>0</td>\n",
       "    </tr>\n",
       "  </tbody>\n",
       "</table>\n",
       "</div>"
      ],
      "text/plain": [
       "   index                              event_id   uid          ts          dt  \\\n",
       "0      0  41f5534e-d523-2062-be53-d55c69157824   747  1488070616  2017-02-26   \n",
       "1      1  cec2d96c-4dce-3099-6f78-4b3841170e54  1299  1487940482  2017-02-24   \n",
       "2      2  ad4fb0ea-6949-e253-0e6f-7fdef5369c5d  2439  1487904064  2017-02-24   \n",
       "3      3  88539642-a518-3156-6efb-80897686c99f  2099  1487788550  2017-02-22   \n",
       "\n",
       "      device         tz  is_organic  \n",
       "0    iPad3,3  -08:00:00           0  \n",
       "1    iPad4,1  -05:00:00           0  \n",
       "2  iPhone7,1  -08:00:00           0  \n",
       "3    iPad6,7   01:00:00           0  "
      ]
     },
     "execution_count": 9,
     "metadata": {},
     "output_type": "execute_result"
    }
   ],
   "source": [
    "install_info.head(4)"
   ]
  },
  {
   "cell_type": "code",
   "execution_count": 10,
   "metadata": {
    "collapsed": true
   },
   "outputs": [],
   "source": [
    "query = 'SELECT * from login_table' #\n",
    "log_info = pd.read_sql(query, connection)"
   ]
  },
  {
   "cell_type": "code",
   "execution_count": 11,
   "metadata": {},
   "outputs": [
    {
     "data": {
      "text/html": [
       "<div>\n",
       "<style scoped>\n",
       "    .dataframe tbody tr th:only-of-type {\n",
       "        vertical-align: middle;\n",
       "    }\n",
       "\n",
       "    .dataframe tbody tr th {\n",
       "        vertical-align: top;\n",
       "    }\n",
       "\n",
       "    .dataframe thead th {\n",
       "        text-align: right;\n",
       "    }\n",
       "</style>\n",
       "<table border=\"1\" class=\"dataframe\">\n",
       "  <thead>\n",
       "    <tr style=\"text-align: right;\">\n",
       "      <th></th>\n",
       "      <th>index</th>\n",
       "      <th>event_id</th>\n",
       "      <th>ts</th>\n",
       "      <th>dt</th>\n",
       "      <th>uid</th>\n",
       "      <th>s_index</th>\n",
       "    </tr>\n",
       "  </thead>\n",
       "  <tbody>\n",
       "    <tr>\n",
       "      <th>0</th>\n",
       "      <td>0</td>\n",
       "      <td>11ac5826-45b2-2457-4015-1c6d9763ca67</td>\n",
       "      <td>1488799625</td>\n",
       "      <td>2017-03-06</td>\n",
       "      <td>400</td>\n",
       "      <td>36</td>\n",
       "    </tr>\n",
       "    <tr>\n",
       "      <th>1</th>\n",
       "      <td>1</td>\n",
       "      <td>c20e8b35-cb2f-3f19-19e8-b3fbdd8460cf</td>\n",
       "      <td>1488248772</td>\n",
       "      <td>2017-02-28</td>\n",
       "      <td>1080</td>\n",
       "      <td>20</td>\n",
       "    </tr>\n",
       "    <tr>\n",
       "      <th>2</th>\n",
       "      <td>2</td>\n",
       "      <td>c3921e11-9493-fc9b-d0c3-19673f734973</td>\n",
       "      <td>1488050711</td>\n",
       "      <td>2017-02-25</td>\n",
       "      <td>1485</td>\n",
       "      <td>1</td>\n",
       "    </tr>\n",
       "    <tr>\n",
       "      <th>3</th>\n",
       "      <td>3</td>\n",
       "      <td>fbe1a668-3b24-6c3d-b217-a07a4f8e391e</td>\n",
       "      <td>1490273605</td>\n",
       "      <td>2017-03-23</td>\n",
       "      <td>473</td>\n",
       "      <td>32</td>\n",
       "    </tr>\n",
       "    <tr>\n",
       "      <th>4</th>\n",
       "      <td>4</td>\n",
       "      <td>d06d8d64-b95c-b692-8e5f-823610ed57c3</td>\n",
       "      <td>1487892525</td>\n",
       "      <td>2017-02-23</td>\n",
       "      <td>1906</td>\n",
       "      <td>2</td>\n",
       "    </tr>\n",
       "  </tbody>\n",
       "</table>\n",
       "</div>"
      ],
      "text/plain": [
       "   index                              event_id          ts          dt   uid  \\\n",
       "0      0  11ac5826-45b2-2457-4015-1c6d9763ca67  1488799625  2017-03-06   400   \n",
       "1      1  c20e8b35-cb2f-3f19-19e8-b3fbdd8460cf  1488248772  2017-02-28  1080   \n",
       "2      2  c3921e11-9493-fc9b-d0c3-19673f734973  1488050711  2017-02-25  1485   \n",
       "3      3  fbe1a668-3b24-6c3d-b217-a07a4f8e391e  1490273605  2017-03-23   473   \n",
       "4      4  d06d8d64-b95c-b692-8e5f-823610ed57c3  1487892525  2017-02-23  1906   \n",
       "\n",
       "   s_index  \n",
       "0       36  \n",
       "1       20  \n",
       "2        1  \n",
       "3       32  \n",
       "4        2  "
      ]
     },
     "execution_count": 11,
     "metadata": {},
     "output_type": "execute_result"
    }
   ],
   "source": [
    "log_info.head(5)"
   ]
  },
  {
   "cell_type": "code",
   "execution_count": 12,
   "metadata": {
    "collapsed": true
   },
   "outputs": [],
   "source": [
    "query = 'SELECT * from tutorial_table' #\n",
    "tutorial_info = pd.read_sql(query, connection)"
   ]
  },
  {
   "cell_type": "code",
   "execution_count": 13,
   "metadata": {},
   "outputs": [
    {
     "data": {
      "text/html": [
       "<div>\n",
       "<style scoped>\n",
       "    .dataframe tbody tr th:only-of-type {\n",
       "        vertical-align: middle;\n",
       "    }\n",
       "\n",
       "    .dataframe tbody tr th {\n",
       "        vertical-align: top;\n",
       "    }\n",
       "\n",
       "    .dataframe thead th {\n",
       "        text-align: right;\n",
       "    }\n",
       "</style>\n",
       "<table border=\"1\" class=\"dataframe\">\n",
       "  <thead>\n",
       "    <tr style=\"text-align: right;\">\n",
       "      <th></th>\n",
       "      <th>index</th>\n",
       "      <th>event_id</th>\n",
       "      <th>ts</th>\n",
       "      <th>dt</th>\n",
       "      <th>uid</th>\n",
       "      <th>s_index</th>\n",
       "      <th>s_time</th>\n",
       "      <th>game_index</th>\n",
       "      <th>step</th>\n",
       "    </tr>\n",
       "  </thead>\n",
       "  <tbody>\n",
       "    <tr>\n",
       "      <th>0</th>\n",
       "      <td>0</td>\n",
       "      <td>fcd7a8bd-921e-5878-8a50-1e7f88b46d50</td>\n",
       "      <td>1488007754</td>\n",
       "      <td>2017-02-25</td>\n",
       "      <td>1356</td>\n",
       "      <td>1</td>\n",
       "      <td>93</td>\n",
       "      <td>1</td>\n",
       "      <td>8</td>\n",
       "    </tr>\n",
       "    <tr>\n",
       "      <th>1</th>\n",
       "      <td>1</td>\n",
       "      <td>a3fb3bdc-73bd-a1b6-760c-23afbafceacf</td>\n",
       "      <td>1487946568</td>\n",
       "      <td>2017-02-24</td>\n",
       "      <td>1259</td>\n",
       "      <td>1</td>\n",
       "      <td>143</td>\n",
       "      <td>1</td>\n",
       "      <td>5</td>\n",
       "    </tr>\n",
       "    <tr>\n",
       "      <th>2</th>\n",
       "      <td>2</td>\n",
       "      <td>f44c7c86-2485-4d3e-8f55-a42c2855ac0d</td>\n",
       "      <td>1488043101</td>\n",
       "      <td>2017-02-25</td>\n",
       "      <td>292</td>\n",
       "      <td>1</td>\n",
       "      <td>295</td>\n",
       "      <td>1</td>\n",
       "      <td>6</td>\n",
       "    </tr>\n",
       "  </tbody>\n",
       "</table>\n",
       "</div>"
      ],
      "text/plain": [
       "   index                              event_id          ts          dt   uid  \\\n",
       "0      0  fcd7a8bd-921e-5878-8a50-1e7f88b46d50  1488007754  2017-02-25  1356   \n",
       "1      1  a3fb3bdc-73bd-a1b6-760c-23afbafceacf  1487946568  2017-02-24  1259   \n",
       "2      2  f44c7c86-2485-4d3e-8f55-a42c2855ac0d  1488043101  2017-02-25   292   \n",
       "\n",
       "   s_index  s_time  game_index  step  \n",
       "0        1      93           1     8  \n",
       "1        1     143           1     5  \n",
       "2        1     295           1     6  "
      ]
     },
     "execution_count": 13,
     "metadata": {},
     "output_type": "execute_result"
    }
   ],
   "source": [
    "tutorial_info.head(3)"
   ]
  },
  {
   "cell_type": "markdown",
   "metadata": {},
   "source": [
    "<br><br>\n",
    "\n",
    "## <a id=\"3\">3.  Cohorted Daily Metrics </a>"
   ]
  },
  {
   "cell_type": "markdown",
   "metadata": {},
   "source": [
    "### <a id=\"3.1\">3.1 Daily/Monthly Active Users</a>\n",
    "\n",
    "DAU is the number of unique users that start at least one session in app on any given day. The real problem is with measuring “active users.” Active is a functionally ambiguous word. It is whatever we want it to be.\n",
    "\n",
    "My first definition of being active is \"Being login into the game\" and my second definiton is to start at least one game after logged in. I will start with numbers from  \"user that login the game\" and compare it with numbers from the users that \"at least start one a game\". Aim of this to answer the question whether there are users who do not play games despite logging into the game.\n",
    "\n",
    "The danger of defining your “active user” by a minimal metric like logins is that you’re just seeing a reflection of press and hype. It doesn’t measure real usage of your app.\n",
    "\n",
    "Monthly Active User metrics is basically aggregation of Daily User Activity metrics.\n"
   ]
  },
  {
   "cell_type": "code",
   "execution_count": 14,
   "metadata": {},
   "outputs": [
    {
     "data": {
      "text/html": [
       "<div>\n",
       "<style scoped>\n",
       "    .dataframe tbody tr th:only-of-type {\n",
       "        vertical-align: middle;\n",
       "    }\n",
       "\n",
       "    .dataframe tbody tr th {\n",
       "        vertical-align: top;\n",
       "    }\n",
       "\n",
       "    .dataframe thead th {\n",
       "        text-align: right;\n",
       "    }\n",
       "</style>\n",
       "<table border=\"1\" class=\"dataframe\">\n",
       "  <thead>\n",
       "    <tr style=\"text-align: right;\">\n",
       "      <th></th>\n",
       "      <th>uid</th>\n",
       "      <th>dt</th>\n",
       "    </tr>\n",
       "  </thead>\n",
       "  <tbody>\n",
       "    <tr>\n",
       "      <th>0</th>\n",
       "      <td>706</td>\n",
       "      <td>2017-02-14</td>\n",
       "    </tr>\n",
       "    <tr>\n",
       "      <th>1</th>\n",
       "      <td>324</td>\n",
       "      <td>2017-02-14</td>\n",
       "    </tr>\n",
       "    <tr>\n",
       "      <th>2</th>\n",
       "      <td>2550</td>\n",
       "      <td>2017-02-14</td>\n",
       "    </tr>\n",
       "    <tr>\n",
       "      <th>3</th>\n",
       "      <td>1067</td>\n",
       "      <td>2017-02-15</td>\n",
       "    </tr>\n",
       "    <tr>\n",
       "      <th>4</th>\n",
       "      <td>1998</td>\n",
       "      <td>2017-02-15</td>\n",
       "    </tr>\n",
       "  </tbody>\n",
       "</table>\n",
       "</div>"
      ],
      "text/plain": [
       "    uid          dt\n",
       "0   706  2017-02-14\n",
       "1   324  2017-02-14\n",
       "2  2550  2017-02-14\n",
       "3  1067  2017-02-15\n",
       "4  1998  2017-02-15"
      ]
     },
     "execution_count": 14,
     "metadata": {},
     "output_type": "execute_result"
    }
   ],
   "source": [
    "query = 'SELECT DISTINCT uid ,  dt  from login_table  ORDER by dt' # Because we need unique users for each days.\n",
    "a = pd.read_sql(query, connection)\n",
    "a.head(5)\n"
   ]
  },
  {
   "cell_type": "code",
   "execution_count": 15,
   "metadata": {},
   "outputs": [
    {
     "data": {
      "text/html": [
       "<div>\n",
       "<style scoped>\n",
       "    .dataframe tbody tr th:only-of-type {\n",
       "        vertical-align: middle;\n",
       "    }\n",
       "\n",
       "    .dataframe tbody tr th {\n",
       "        vertical-align: top;\n",
       "    }\n",
       "\n",
       "    .dataframe thead th {\n",
       "        text-align: right;\n",
       "    }\n",
       "</style>\n",
       "<table border=\"1\" class=\"dataframe\">\n",
       "  <thead>\n",
       "    <tr style=\"text-align: right;\">\n",
       "      <th></th>\n",
       "      <th>users_login_game</th>\n",
       "      <th>dt</th>\n",
       "    </tr>\n",
       "  </thead>\n",
       "  <tbody>\n",
       "    <tr>\n",
       "      <th>0</th>\n",
       "      <td>3</td>\n",
       "      <td>2017-02-14</td>\n",
       "    </tr>\n",
       "    <tr>\n",
       "      <th>1</th>\n",
       "      <td>5</td>\n",
       "      <td>2017-02-15</td>\n",
       "    </tr>\n",
       "    <tr>\n",
       "      <th>2</th>\n",
       "      <td>3</td>\n",
       "      <td>2017-02-16</td>\n",
       "    </tr>\n",
       "  </tbody>\n",
       "</table>\n",
       "</div>"
      ],
      "text/plain": [
       "   users_login_game          dt\n",
       "0                 3  2017-02-14\n",
       "1                 5  2017-02-15\n",
       "2                 3  2017-02-16"
      ]
     },
     "execution_count": 15,
     "metadata": {},
     "output_type": "execute_result"
    }
   ],
   "source": [
    "#Below query returns distinct uid's at least one login the game.\n",
    "\n",
    "query = 'SELECT COUNT(DISTINCT uid) as users_login_game,  dt  from login_table GROUP BY dt  ORDER by dt' # Because we need unique users for each days.\n",
    "log_day = pd.read_sql(query, connection)\n",
    "log_day.head(3)"
   ]
  },
  {
   "cell_type": "code",
   "execution_count": 16,
   "metadata": {},
   "outputs": [
    {
     "data": {
      "text/html": [
       "<div>\n",
       "<style scoped>\n",
       "    .dataframe tbody tr th:only-of-type {\n",
       "        vertical-align: middle;\n",
       "    }\n",
       "\n",
       "    .dataframe tbody tr th {\n",
       "        vertical-align: top;\n",
       "    }\n",
       "\n",
       "    .dataframe thead th {\n",
       "        text-align: right;\n",
       "    }\n",
       "</style>\n",
       "<table border=\"1\" class=\"dataframe\">\n",
       "  <thead>\n",
       "    <tr style=\"text-align: right;\">\n",
       "      <th></th>\n",
       "      <th>users_login_game</th>\n",
       "      <th>dt</th>\n",
       "      <th>date</th>\n",
       "      <th>month</th>\n",
       "      <th>monthday</th>\n",
       "      <th>weekday</th>\n",
       "    </tr>\n",
       "  </thead>\n",
       "  <tbody>\n",
       "    <tr>\n",
       "      <th>0</th>\n",
       "      <td>3</td>\n",
       "      <td>2017-02-14</td>\n",
       "      <td>2017-02-14</td>\n",
       "      <td>2</td>\n",
       "      <td>14</td>\n",
       "      <td>1</td>\n",
       "    </tr>\n",
       "    <tr>\n",
       "      <th>1</th>\n",
       "      <td>5</td>\n",
       "      <td>2017-02-15</td>\n",
       "      <td>2017-02-15</td>\n",
       "      <td>2</td>\n",
       "      <td>15</td>\n",
       "      <td>2</td>\n",
       "    </tr>\n",
       "    <tr>\n",
       "      <th>2</th>\n",
       "      <td>3</td>\n",
       "      <td>2017-02-16</td>\n",
       "      <td>2017-02-16</td>\n",
       "      <td>2</td>\n",
       "      <td>16</td>\n",
       "      <td>3</td>\n",
       "    </tr>\n",
       "  </tbody>\n",
       "</table>\n",
       "</div>"
      ],
      "text/plain": [
       "   users_login_game          dt       date  month  monthday  weekday\n",
       "0                 3  2017-02-14 2017-02-14      2        14        1\n",
       "1                 5  2017-02-15 2017-02-15      2        15        2\n",
       "2                 3  2017-02-16 2017-02-16      2        16        3"
      ]
     },
     "execution_count": 16,
     "metadata": {},
     "output_type": "execute_result"
    }
   ],
   "source": [
    "# I will add below features to use in visuazaliton, make horizontal axis to be function of time.\n",
    "log_day['date'] = pd.to_datetime(log_day['dt'])\n",
    "log_day['month'] = log_day['date'].dt.month\n",
    "log_day['monthday'] = log_day['date'].dt.day\n",
    "log_day['weekday'] = log_day['date'].dt.weekday # Which day is it ?\n",
    "\n",
    "log_day.head(3)"
   ]
  },
  {
   "cell_type": "markdown",
   "metadata": {},
   "source": [
    "## Let's Visualize it!"
   ]
  },
  {
   "cell_type": "code",
   "execution_count": 17,
   "metadata": {},
   "outputs": [
    {
     "data": {
      "application/vnd.plotly.v1+json": {
       "config": {
        "linkText": "Export to plot.ly",
        "plotlyServerURL": "https://plot.ly",
        "showLink": false
       },
       "data": [
        {
         "marker": {
          "color": "#000000"
         },
         "name": "Monthly Active Users",
         "opacity": 0.85,
         "type": "bar",
         "uid": "779cac96-cd31-4109-9a4a-1860c9e6c5c1",
         "x": [
          "2017-02-14",
          "2017-02-15",
          "2017-02-16",
          "2017-02-18",
          "2017-02-20",
          "2017-02-21",
          "2017-02-22",
          "2017-02-23",
          "2017-02-24",
          "2017-02-25",
          "2017-02-26",
          "2017-02-27",
          "2017-02-28",
          "2017-03-01",
          "2017-03-02",
          "2017-03-03",
          "2017-03-04",
          "2017-03-05",
          "2017-03-06",
          "2017-03-07",
          "2017-03-08",
          "2017-03-09",
          "2017-03-10",
          "2017-03-11",
          "2017-03-12",
          "2017-03-13",
          "2017-03-14",
          "2017-03-15",
          "2017-03-16",
          "2017-03-17",
          "2017-03-18",
          "2017-03-19",
          "2017-03-20",
          "2017-03-21",
          "2017-03-22",
          "2017-03-23",
          "2017-03-24",
          "2017-03-25",
          "2017-03-26",
          "2017-03-27",
          "2017-03-28",
          "2017-03-29",
          "2017-03-30",
          "2017-03-31",
          "2017-04-01",
          "2017-04-02",
          "2017-04-03",
          "2017-04-04",
          "2017-04-05",
          "2017-04-06",
          "2017-04-07",
          "2017-04-08",
          "2017-04-09",
          "2017-04-10",
          "2017-04-11",
          "2017-04-12",
          "2017-04-13",
          "2017-04-14"
         ],
         "y": [
          3,
          5,
          3,
          2,
          13,
          123,
          331,
          422,
          590,
          785,
          809,
          618,
          386,
          348,
          311,
          297,
          263,
          255,
          221,
          191,
          187,
          163,
          164,
          155,
          161,
          129,
          121,
          123,
          118,
          113,
          130,
          115,
          92,
          90,
          92,
          97,
          92,
          115,
          106,
          85,
          84,
          83,
          86,
          83,
          86,
          87,
          76,
          67,
          71,
          59,
          69,
          67,
          75,
          65,
          65,
          59,
          59,
          72
         ]
        }
       ],
       "layout": {
        "height": 800,
        "legend": {
         "orientation": "h"
        },
        "title": {
         "text": "Daily Unique User Login Numbers"
        }
       }
      },
      "text/html": [
       "<div id=\"c7a3be93-0812-4353-ae0e-08d18bb90d64\" style=\"height: 800px; width: 100%;\" class=\"plotly-graph-div\"></div><script type=\"text/javascript\">require([\"plotly\"], function(Plotly) { window.PLOTLYENV=window.PLOTLYENV || {};window.PLOTLYENV.BASE_URL=\"https://plot.ly\";Plotly.newPlot(\"c7a3be93-0812-4353-ae0e-08d18bb90d64\", [{\"marker\": {\"color\": \"#000000\"}, \"name\": \"Monthly Active Users\", \"opacity\": 0.85, \"x\": [\"2017-02-14\", \"2017-02-15\", \"2017-02-16\", \"2017-02-18\", \"2017-02-20\", \"2017-02-21\", \"2017-02-22\", \"2017-02-23\", \"2017-02-24\", \"2017-02-25\", \"2017-02-26\", \"2017-02-27\", \"2017-02-28\", \"2017-03-01\", \"2017-03-02\", \"2017-03-03\", \"2017-03-04\", \"2017-03-05\", \"2017-03-06\", \"2017-03-07\", \"2017-03-08\", \"2017-03-09\", \"2017-03-10\", \"2017-03-11\", \"2017-03-12\", \"2017-03-13\", \"2017-03-14\", \"2017-03-15\", \"2017-03-16\", \"2017-03-17\", \"2017-03-18\", \"2017-03-19\", \"2017-03-20\", \"2017-03-21\", \"2017-03-22\", \"2017-03-23\", \"2017-03-24\", \"2017-03-25\", \"2017-03-26\", \"2017-03-27\", \"2017-03-28\", \"2017-03-29\", \"2017-03-30\", \"2017-03-31\", \"2017-04-01\", \"2017-04-02\", \"2017-04-03\", \"2017-04-04\", \"2017-04-05\", \"2017-04-06\", \"2017-04-07\", \"2017-04-08\", \"2017-04-09\", \"2017-04-10\", \"2017-04-11\", \"2017-04-12\", \"2017-04-13\", \"2017-04-14\"], \"y\": [3, 5, 3, 2, 13, 123, 331, 422, 590, 785, 809, 618, 386, 348, 311, 297, 263, 255, 221, 191, 187, 163, 164, 155, 161, 129, 121, 123, 118, 113, 130, 115, 92, 90, 92, 97, 92, 115, 106, 85, 84, 83, 86, 83, 86, 87, 76, 67, 71, 59, 69, 67, 75, 65, 65, 59, 59, 72], \"type\": \"bar\", \"uid\": \"779cac96-cd31-4109-9a4a-1860c9e6c5c1\"}], {\"height\": 800, \"legend\": {\"orientation\": \"h\"}, \"title\": {\"text\": \"Daily Unique User Login Numbers\"}}, {\"showLink\": false, \"linkText\": \"Export to plot.ly\", \"plotlyServerURL\": \"https://plot.ly\"})});</script><script type=\"text/javascript\">window.addEventListener(\"resize\", function(){window._Plotly.Plots.resize(document.getElementById(\"c7a3be93-0812-4353-ae0e-08d18bb90d64\"));});</script>"
      ],
      "text/vnd.plotly.v1+html": [
       "<div id=\"c7a3be93-0812-4353-ae0e-08d18bb90d64\" style=\"height: 800px; width: 100%;\" class=\"plotly-graph-div\"></div><script type=\"text/javascript\">require([\"plotly\"], function(Plotly) { window.PLOTLYENV=window.PLOTLYENV || {};window.PLOTLYENV.BASE_URL=\"https://plot.ly\";Plotly.newPlot(\"c7a3be93-0812-4353-ae0e-08d18bb90d64\", [{\"marker\": {\"color\": \"#000000\"}, \"name\": \"Monthly Active Users\", \"opacity\": 0.85, \"x\": [\"2017-02-14\", \"2017-02-15\", \"2017-02-16\", \"2017-02-18\", \"2017-02-20\", \"2017-02-21\", \"2017-02-22\", \"2017-02-23\", \"2017-02-24\", \"2017-02-25\", \"2017-02-26\", \"2017-02-27\", \"2017-02-28\", \"2017-03-01\", \"2017-03-02\", \"2017-03-03\", \"2017-03-04\", \"2017-03-05\", \"2017-03-06\", \"2017-03-07\", \"2017-03-08\", \"2017-03-09\", \"2017-03-10\", \"2017-03-11\", \"2017-03-12\", \"2017-03-13\", \"2017-03-14\", \"2017-03-15\", \"2017-03-16\", \"2017-03-17\", \"2017-03-18\", \"2017-03-19\", \"2017-03-20\", \"2017-03-21\", \"2017-03-22\", \"2017-03-23\", \"2017-03-24\", \"2017-03-25\", \"2017-03-26\", \"2017-03-27\", \"2017-03-28\", \"2017-03-29\", \"2017-03-30\", \"2017-03-31\", \"2017-04-01\", \"2017-04-02\", \"2017-04-03\", \"2017-04-04\", \"2017-04-05\", \"2017-04-06\", \"2017-04-07\", \"2017-04-08\", \"2017-04-09\", \"2017-04-10\", \"2017-04-11\", \"2017-04-12\", \"2017-04-13\", \"2017-04-14\"], \"y\": [3, 5, 3, 2, 13, 123, 331, 422, 590, 785, 809, 618, 386, 348, 311, 297, 263, 255, 221, 191, 187, 163, 164, 155, 161, 129, 121, 123, 118, 113, 130, 115, 92, 90, 92, 97, 92, 115, 106, 85, 84, 83, 86, 83, 86, 87, 76, 67, 71, 59, 69, 67, 75, 65, 65, 59, 59, 72], \"type\": \"bar\", \"uid\": \"779cac96-cd31-4109-9a4a-1860c9e6c5c1\"}], {\"height\": 800, \"legend\": {\"orientation\": \"h\"}, \"title\": {\"text\": \"Daily Unique User Login Numbers\"}}, {\"showLink\": false, \"linkText\": \"Export to plot.ly\", \"plotlyServerURL\": \"https://plot.ly\"})});</script><script type=\"text/javascript\">window.addEventListener(\"resize\", function(){window._Plotly.Plots.resize(document.getElementById(\"c7a3be93-0812-4353-ae0e-08d18bb90d64\"));});</script>"
      ]
     },
     "metadata": {},
     "output_type": "display_data"
    }
   ],
   "source": [
    "trace1 = go.Bar(x=log_day['dt'], y=log_day['users_login_game'], opacity=0.85, name=\"Monthly Active Users\", marker=dict(color ='#000000'))\n",
    "layout = dict(height=800, title='Daily Unique User Login Numbers', legend=dict(orientation=\"h\"));\n",
    "fig = go.Figure(data=[trace1], layout=layout);\n",
    "iplot(fig)"
   ]
  },
  {
   "cell_type": "code",
   "execution_count": 18,
   "metadata": {},
   "outputs": [
    {
     "data": {
      "text/html": [
       "<div>\n",
       "<style scoped>\n",
       "    .dataframe tbody tr th:only-of-type {\n",
       "        vertical-align: middle;\n",
       "    }\n",
       "\n",
       "    .dataframe tbody tr th {\n",
       "        vertical-align: top;\n",
       "    }\n",
       "\n",
       "    .dataframe thead th {\n",
       "        text-align: right;\n",
       "    }\n",
       "</style>\n",
       "<table border=\"1\" class=\"dataframe\">\n",
       "  <thead>\n",
       "    <tr style=\"text-align: right;\">\n",
       "      <th></th>\n",
       "      <th>users_login_game</th>\n",
       "      <th>dt</th>\n",
       "      <th>date</th>\n",
       "      <th>month</th>\n",
       "      <th>monthday</th>\n",
       "      <th>weekday</th>\n",
       "    </tr>\n",
       "  </thead>\n",
       "  <tbody>\n",
       "    <tr>\n",
       "      <th>0</th>\n",
       "      <td>3</td>\n",
       "      <td>2017-02-14</td>\n",
       "      <td>2017-02-14</td>\n",
       "      <td>2</td>\n",
       "      <td>14</td>\n",
       "      <td>1</td>\n",
       "    </tr>\n",
       "    <tr>\n",
       "      <th>1</th>\n",
       "      <td>5</td>\n",
       "      <td>2017-02-15</td>\n",
       "      <td>2017-02-15</td>\n",
       "      <td>2</td>\n",
       "      <td>15</td>\n",
       "      <td>2</td>\n",
       "    </tr>\n",
       "    <tr>\n",
       "      <th>2</th>\n",
       "      <td>3</td>\n",
       "      <td>2017-02-16</td>\n",
       "      <td>2017-02-16</td>\n",
       "      <td>2</td>\n",
       "      <td>16</td>\n",
       "      <td>3</td>\n",
       "    </tr>\n",
       "    <tr>\n",
       "      <th>3</th>\n",
       "      <td>2</td>\n",
       "      <td>2017-02-18</td>\n",
       "      <td>2017-02-18</td>\n",
       "      <td>2</td>\n",
       "      <td>18</td>\n",
       "      <td>5</td>\n",
       "    </tr>\n",
       "  </tbody>\n",
       "</table>\n",
       "</div>"
      ],
      "text/plain": [
       "   users_login_game          dt       date  month  monthday  weekday\n",
       "0                 3  2017-02-14 2017-02-14      2        14        1\n",
       "1                 5  2017-02-15 2017-02-15      2        15        2\n",
       "2                 3  2017-02-16 2017-02-16      2        16        3\n",
       "3                 2  2017-02-18 2017-02-18      2        18        5"
      ]
     },
     "execution_count": 18,
     "metadata": {},
     "output_type": "execute_result"
    }
   ],
   "source": [
    "# We calculated DAU with login now calculate MAU\n",
    "log_day.head(4)\n",
    "\n"
   ]
  },
  {
   "cell_type": "markdown",
   "metadata": {},
   "source": [
    "## Monthly User Activity by Login"
   ]
  },
  {
   "cell_type": "code",
   "execution_count": 19,
   "metadata": {},
   "outputs": [
    {
     "data": {
      "application/vnd.plotly.v1+json": {
       "config": {
        "linkText": "Export to plot.ly",
        "plotlyServerURL": "https://plot.ly",
        "showLink": false
       },
       "data": [
        {
         "marker": {
          "color": "rgba(100, 100, 10, 0.6)"
         },
         "name": "month",
         "opacity": 0.75,
         "type": "bar",
         "uid": "6f24bb7a-244c-4136-9554-5f2fa68af0e0",
         "x": [
          "Feb",
          "Mar",
          "Apr"
         ],
         "y": [
          4090,
          4670,
          977
         ]
        }
       ],
       "layout": {
        "height": 400,
        "legend": {
         "orientation": "h"
        },
        "title": {
         "text": "Monthly Active Users (According to the Login)"
        }
       }
      },
      "text/html": [
       "<div id=\"85b40c69-123b-490e-8d02-1f89801f7479\" style=\"height: 400px; width: 100%;\" class=\"plotly-graph-div\"></div><script type=\"text/javascript\">require([\"plotly\"], function(Plotly) { window.PLOTLYENV=window.PLOTLYENV || {};window.PLOTLYENV.BASE_URL=\"https://plot.ly\";Plotly.newPlot(\"85b40c69-123b-490e-8d02-1f89801f7479\", [{\"marker\": {\"color\": \"rgba(100, 100, 10, 0.6)\"}, \"name\": \"month\", \"opacity\": 0.75, \"x\": [\"Feb\", \"Mar\", \"Apr\"], \"y\": [4090, 4670, 977], \"type\": \"bar\", \"uid\": \"6f24bb7a-244c-4136-9554-5f2fa68af0e0\"}], {\"height\": 400, \"legend\": {\"orientation\": \"h\"}, \"title\": {\"text\": \"Monthly Active Users (According to the Login)\"}}, {\"showLink\": false, \"linkText\": \"Export to plot.ly\", \"plotlyServerURL\": \"https://plot.ly\"})});</script><script type=\"text/javascript\">window.addEventListener(\"resize\", function(){window._Plotly.Plots.resize(document.getElementById(\"85b40c69-123b-490e-8d02-1f89801f7479\"));});</script>"
      ],
      "text/vnd.plotly.v1+html": [
       "<div id=\"85b40c69-123b-490e-8d02-1f89801f7479\" style=\"height: 400px; width: 100%;\" class=\"plotly-graph-div\"></div><script type=\"text/javascript\">require([\"plotly\"], function(Plotly) { window.PLOTLYENV=window.PLOTLYENV || {};window.PLOTLYENV.BASE_URL=\"https://plot.ly\";Plotly.newPlot(\"85b40c69-123b-490e-8d02-1f89801f7479\", [{\"marker\": {\"color\": \"rgba(100, 100, 10, 0.6)\"}, \"name\": \"month\", \"opacity\": 0.75, \"x\": [\"Feb\", \"Mar\", \"Apr\"], \"y\": [4090, 4670, 977], \"type\": \"bar\", \"uid\": \"6f24bb7a-244c-4136-9554-5f2fa68af0e0\"}], {\"height\": 400, \"legend\": {\"orientation\": \"h\"}, \"title\": {\"text\": \"Monthly Active Users (According to the Login)\"}}, {\"showLink\": false, \"linkText\": \"Export to plot.ly\", \"plotlyServerURL\": \"https://plot.ly\"})});</script><script type=\"text/javascript\">window.addEventListener(\"resize\", function(){window._Plotly.Plots.resize(document.getElementById(\"85b40c69-123b-490e-8d02-1f89801f7479\"));});</script>"
      ]
     },
     "metadata": {},
     "output_type": "display_data"
    }
   ],
   "source": [
    "dummy = log_day.groupby(['month']).agg({'month' : 'count'}).rename(columns={'month': 'm_c'}).reset_index()\n",
    "agg = dummy.groupby(['month']).agg({'m_c' : 'mean'})\n",
    "x2 = agg.index.tolist()\n",
    "y2 = agg.m_c.tolist()\n",
    "dum = {}\n",
    "\n",
    "for a,b in zip(x2, y2):\n",
    "    dum[a] = b\n",
    "horz = [calendar.month_abbr[int(x)] for x in sorted(x2)]\n",
    "\n",
    "trace1 = go.Bar(x=horz, y=log_day.groupby(['month'])['users_login_game'].sum(), opacity=0.75, name=\"month\", marker=dict(color='rgba(100, 100, 10, 0.6)'))\n",
    "layout = dict(height=400, title='Monthly Active Users (According to the Login)', legend=dict(orientation=\"h\"));\n",
    "fig = go.Figure(data=[trace1], layout=layout)\n",
    "iplot(fig)"
   ]
  },
  {
   "cell_type": "markdown",
   "metadata": {},
   "source": [
    "One thing to take attention is , We have approximately 15 day for February, 31 day for March, and 14 day for April. Therefore, if we put aside March and compare February to April, it is impossible not to notice the sharp fall in the User Activity.\n",
    "\n",
    "Now repeat same process for finding users that at least start a game."
   ]
  },
  {
   "cell_type": "code",
   "execution_count": 20,
   "metadata": {},
   "outputs": [
    {
     "data": {
      "text/html": [
       "<div>\n",
       "<style scoped>\n",
       "    .dataframe tbody tr th:only-of-type {\n",
       "        vertical-align: middle;\n",
       "    }\n",
       "\n",
       "    .dataframe tbody tr th {\n",
       "        vertical-align: top;\n",
       "    }\n",
       "\n",
       "    .dataframe thead th {\n",
       "        text-align: right;\n",
       "    }\n",
       "</style>\n",
       "<table border=\"1\" class=\"dataframe\">\n",
       "  <thead>\n",
       "    <tr style=\"text-align: right;\">\n",
       "      <th></th>\n",
       "      <th>users_start_game</th>\n",
       "      <th>dt</th>\n",
       "    </tr>\n",
       "  </thead>\n",
       "  <tbody>\n",
       "    <tr>\n",
       "      <th>0</th>\n",
       "      <td>3</td>\n",
       "      <td>2017-02-14</td>\n",
       "    </tr>\n",
       "    <tr>\n",
       "      <th>1</th>\n",
       "      <td>2</td>\n",
       "      <td>2017-02-15</td>\n",
       "    </tr>\n",
       "    <tr>\n",
       "      <th>2</th>\n",
       "      <td>3</td>\n",
       "      <td>2017-02-16</td>\n",
       "    </tr>\n",
       "  </tbody>\n",
       "</table>\n",
       "</div>"
      ],
      "text/plain": [
       "   users_start_game          dt\n",
       "0                 3  2017-02-14\n",
       "1                 2  2017-02-15\n",
       "2                 3  2017-02-16"
      ]
     },
     "execution_count": 20,
     "metadata": {},
     "output_type": "execute_result"
    }
   ],
   "source": [
    "\n",
    "query = 'SELECT COUNT(DISTINCT uid) as users_start_game ,  dt  from start_table GROUP BY dt  ORDER by dt'\n",
    "start_day = pd.read_sql(query, connection)\n",
    "start_day.head(3)"
   ]
  },
  {
   "cell_type": "code",
   "execution_count": 21,
   "metadata": {},
   "outputs": [
    {
     "data": {
      "text/html": [
       "<div>\n",
       "<style scoped>\n",
       "    .dataframe tbody tr th:only-of-type {\n",
       "        vertical-align: middle;\n",
       "    }\n",
       "\n",
       "    .dataframe tbody tr th {\n",
       "        vertical-align: top;\n",
       "    }\n",
       "\n",
       "    .dataframe thead th {\n",
       "        text-align: right;\n",
       "    }\n",
       "</style>\n",
       "<table border=\"1\" class=\"dataframe\">\n",
       "  <thead>\n",
       "    <tr style=\"text-align: right;\">\n",
       "      <th></th>\n",
       "      <th>users_end_game</th>\n",
       "      <th>dt</th>\n",
       "    </tr>\n",
       "  </thead>\n",
       "  <tbody>\n",
       "    <tr>\n",
       "      <th>0</th>\n",
       "      <td>314</td>\n",
       "      <td>01/03/17</td>\n",
       "    </tr>\n",
       "    <tr>\n",
       "      <th>1</th>\n",
       "      <td>78</td>\n",
       "      <td>01/04/17</td>\n",
       "    </tr>\n",
       "    <tr>\n",
       "      <th>2</th>\n",
       "      <td>281</td>\n",
       "      <td>02/03/17</td>\n",
       "    </tr>\n",
       "  </tbody>\n",
       "</table>\n",
       "</div>"
      ],
      "text/plain": [
       "   users_end_game        dt\n",
       "0             314  01/03/17\n",
       "1              78  01/04/17\n",
       "2             281  02/03/17"
      ]
     },
     "execution_count": 21,
     "metadata": {},
     "output_type": "execute_result"
    }
   ],
   "source": [
    "query = 'SELECT COUNT(DISTINCT uid) as users_end_game ,  dt  from end_table GROUP BY dt  ORDER by dt' \n",
    "end_day = pd.read_sql(query, connection)\n",
    "end_day.head(3)"
   ]
  },
  {
   "cell_type": "code",
   "execution_count": 22,
   "metadata": {},
   "outputs": [
    {
     "data": {
      "application/vnd.plotly.v1+json": {
       "config": {
        "linkText": "Export to plot.ly",
        "plotlyServerURL": "https://plot.ly",
        "showLink": false
       },
       "data": [
        {
         "marker": {
          "color": "#000000"
         },
         "name": "Start",
         "opacity": 0.85,
         "type": "bar",
         "uid": "7536b477-7894-454c-804f-09f78421a012",
         "x": [
          "2017-02-14",
          "2017-02-15",
          "2017-02-16",
          "2017-02-20",
          "2017-02-21",
          "2017-02-22",
          "2017-02-23",
          "2017-02-24",
          "2017-02-25",
          "2017-02-26",
          "2017-02-27",
          "2017-02-28",
          "2017-03-01",
          "2017-03-02",
          "2017-03-03",
          "2017-03-04",
          "2017-03-05",
          "2017-03-06",
          "2017-03-07",
          "2017-03-08",
          "2017-03-09",
          "2017-03-10",
          "2017-03-11",
          "2017-03-12",
          "2017-03-13",
          "2017-03-14",
          "2017-03-15",
          "2017-03-16",
          "2017-03-17",
          "2017-03-18",
          "2017-03-19",
          "2017-03-20",
          "2017-03-21",
          "2017-03-22",
          "2017-03-23",
          "2017-03-24",
          "2017-03-25",
          "2017-03-26",
          "2017-03-27",
          "2017-03-28",
          "2017-03-29",
          "2017-03-30",
          "2017-03-31",
          "2017-04-01",
          "2017-04-02",
          "2017-04-03",
          "2017-04-04",
          "2017-04-05",
          "2017-04-06",
          "2017-04-07",
          "2017-04-08",
          "2017-04-09",
          "2017-04-10",
          "2017-04-11",
          "2017-04-12",
          "2017-04-13",
          "2017-04-14"
         ],
         "y": [
          3,
          2,
          3,
          13,
          121,
          327,
          415,
          576,
          774,
          791,
          607,
          374,
          341,
          300,
          289,
          254,
          247,
          212,
          183,
          173,
          158,
          158,
          150,
          155,
          125,
          119,
          120,
          111,
          107,
          125,
          110,
          86,
          82,
          89,
          96,
          90,
          108,
          100,
          84,
          81,
          81,
          84,
          78,
          82,
          83,
          70,
          63,
          67,
          58,
          66,
          64,
          73,
          64,
          62,
          56,
          55,
          71
         ]
        },
        {
         "marker": {
          "color": "#CB4335"
         },
         "name": "Login",
         "opacity": 0.85,
         "type": "bar",
         "uid": "f0448edf-246f-4f48-8cc4-1390d4ffd923",
         "x": [
          "2017-02-14",
          "2017-02-15",
          "2017-02-16",
          "2017-02-18",
          "2017-02-20",
          "2017-02-21",
          "2017-02-22",
          "2017-02-23",
          "2017-02-24",
          "2017-02-25",
          "2017-02-26",
          "2017-02-27",
          "2017-02-28",
          "2017-03-01",
          "2017-03-02",
          "2017-03-03",
          "2017-03-04",
          "2017-03-05",
          "2017-03-06",
          "2017-03-07",
          "2017-03-08",
          "2017-03-09",
          "2017-03-10",
          "2017-03-11",
          "2017-03-12",
          "2017-03-13",
          "2017-03-14",
          "2017-03-15",
          "2017-03-16",
          "2017-03-17",
          "2017-03-18",
          "2017-03-19",
          "2017-03-20",
          "2017-03-21",
          "2017-03-22",
          "2017-03-23",
          "2017-03-24",
          "2017-03-25",
          "2017-03-26",
          "2017-03-27",
          "2017-03-28",
          "2017-03-29",
          "2017-03-30",
          "2017-03-31",
          "2017-04-01",
          "2017-04-02",
          "2017-04-03",
          "2017-04-04",
          "2017-04-05",
          "2017-04-06",
          "2017-04-07",
          "2017-04-08",
          "2017-04-09",
          "2017-04-10",
          "2017-04-11",
          "2017-04-12",
          "2017-04-13",
          "2017-04-14"
         ],
         "y": [
          3,
          5,
          3,
          2,
          13,
          123,
          331,
          422,
          590,
          785,
          809,
          618,
          386,
          348,
          311,
          297,
          263,
          255,
          221,
          191,
          187,
          163,
          164,
          155,
          161,
          129,
          121,
          123,
          118,
          113,
          130,
          115,
          92,
          90,
          92,
          97,
          92,
          115,
          106,
          85,
          84,
          83,
          86,
          83,
          86,
          87,
          76,
          67,
          71,
          59,
          69,
          67,
          75,
          65,
          65,
          59,
          59,
          72
         ]
        }
       ],
       "layout": {
        "height": 1000,
        "legend": {
         "orientation": "h"
        },
        "title": {
         "text": "Daily User Activity"
        }
       }
      },
      "text/html": [
       "<div id=\"8cbdb32f-8b63-4ba5-b489-e5f0a02b226a\" style=\"height: 1000px; width: 100%;\" class=\"plotly-graph-div\"></div><script type=\"text/javascript\">require([\"plotly\"], function(Plotly) { window.PLOTLYENV=window.PLOTLYENV || {};window.PLOTLYENV.BASE_URL=\"https://plot.ly\";Plotly.newPlot(\"8cbdb32f-8b63-4ba5-b489-e5f0a02b226a\", [{\"marker\": {\"color\": \"#000000\"}, \"name\": \"Start\", \"opacity\": 0.85, \"x\": [\"2017-02-14\", \"2017-02-15\", \"2017-02-16\", \"2017-02-20\", \"2017-02-21\", \"2017-02-22\", \"2017-02-23\", \"2017-02-24\", \"2017-02-25\", \"2017-02-26\", \"2017-02-27\", \"2017-02-28\", \"2017-03-01\", \"2017-03-02\", \"2017-03-03\", \"2017-03-04\", \"2017-03-05\", \"2017-03-06\", \"2017-03-07\", \"2017-03-08\", \"2017-03-09\", \"2017-03-10\", \"2017-03-11\", \"2017-03-12\", \"2017-03-13\", \"2017-03-14\", \"2017-03-15\", \"2017-03-16\", \"2017-03-17\", \"2017-03-18\", \"2017-03-19\", \"2017-03-20\", \"2017-03-21\", \"2017-03-22\", \"2017-03-23\", \"2017-03-24\", \"2017-03-25\", \"2017-03-26\", \"2017-03-27\", \"2017-03-28\", \"2017-03-29\", \"2017-03-30\", \"2017-03-31\", \"2017-04-01\", \"2017-04-02\", \"2017-04-03\", \"2017-04-04\", \"2017-04-05\", \"2017-04-06\", \"2017-04-07\", \"2017-04-08\", \"2017-04-09\", \"2017-04-10\", \"2017-04-11\", \"2017-04-12\", \"2017-04-13\", \"2017-04-14\"], \"y\": [3, 2, 3, 13, 121, 327, 415, 576, 774, 791, 607, 374, 341, 300, 289, 254, 247, 212, 183, 173, 158, 158, 150, 155, 125, 119, 120, 111, 107, 125, 110, 86, 82, 89, 96, 90, 108, 100, 84, 81, 81, 84, 78, 82, 83, 70, 63, 67, 58, 66, 64, 73, 64, 62, 56, 55, 71], \"type\": \"bar\", \"uid\": \"7536b477-7894-454c-804f-09f78421a012\"}, {\"marker\": {\"color\": \"#CB4335\"}, \"name\": \"Login\", \"opacity\": 0.85, \"x\": [\"2017-02-14\", \"2017-02-15\", \"2017-02-16\", \"2017-02-18\", \"2017-02-20\", \"2017-02-21\", \"2017-02-22\", \"2017-02-23\", \"2017-02-24\", \"2017-02-25\", \"2017-02-26\", \"2017-02-27\", \"2017-02-28\", \"2017-03-01\", \"2017-03-02\", \"2017-03-03\", \"2017-03-04\", \"2017-03-05\", \"2017-03-06\", \"2017-03-07\", \"2017-03-08\", \"2017-03-09\", \"2017-03-10\", \"2017-03-11\", \"2017-03-12\", \"2017-03-13\", \"2017-03-14\", \"2017-03-15\", \"2017-03-16\", \"2017-03-17\", \"2017-03-18\", \"2017-03-19\", \"2017-03-20\", \"2017-03-21\", \"2017-03-22\", \"2017-03-23\", \"2017-03-24\", \"2017-03-25\", \"2017-03-26\", \"2017-03-27\", \"2017-03-28\", \"2017-03-29\", \"2017-03-30\", \"2017-03-31\", \"2017-04-01\", \"2017-04-02\", \"2017-04-03\", \"2017-04-04\", \"2017-04-05\", \"2017-04-06\", \"2017-04-07\", \"2017-04-08\", \"2017-04-09\", \"2017-04-10\", \"2017-04-11\", \"2017-04-12\", \"2017-04-13\", \"2017-04-14\"], \"y\": [3, 5, 3, 2, 13, 123, 331, 422, 590, 785, 809, 618, 386, 348, 311, 297, 263, 255, 221, 191, 187, 163, 164, 155, 161, 129, 121, 123, 118, 113, 130, 115, 92, 90, 92, 97, 92, 115, 106, 85, 84, 83, 86, 83, 86, 87, 76, 67, 71, 59, 69, 67, 75, 65, 65, 59, 59, 72], \"type\": \"bar\", \"uid\": \"f0448edf-246f-4f48-8cc4-1390d4ffd923\"}], {\"height\": 1000, \"legend\": {\"orientation\": \"h\"}, \"title\": {\"text\": \"Daily User Activity\"}}, {\"showLink\": false, \"linkText\": \"Export to plot.ly\", \"plotlyServerURL\": \"https://plot.ly\"})});</script><script type=\"text/javascript\">window.addEventListener(\"resize\", function(){window._Plotly.Plots.resize(document.getElementById(\"8cbdb32f-8b63-4ba5-b489-e5f0a02b226a\"));});</script>"
      ],
      "text/vnd.plotly.v1+html": [
       "<div id=\"8cbdb32f-8b63-4ba5-b489-e5f0a02b226a\" style=\"height: 1000px; width: 100%;\" class=\"plotly-graph-div\"></div><script type=\"text/javascript\">require([\"plotly\"], function(Plotly) { window.PLOTLYENV=window.PLOTLYENV || {};window.PLOTLYENV.BASE_URL=\"https://plot.ly\";Plotly.newPlot(\"8cbdb32f-8b63-4ba5-b489-e5f0a02b226a\", [{\"marker\": {\"color\": \"#000000\"}, \"name\": \"Start\", \"opacity\": 0.85, \"x\": [\"2017-02-14\", \"2017-02-15\", \"2017-02-16\", \"2017-02-20\", \"2017-02-21\", \"2017-02-22\", \"2017-02-23\", \"2017-02-24\", \"2017-02-25\", \"2017-02-26\", \"2017-02-27\", \"2017-02-28\", \"2017-03-01\", \"2017-03-02\", \"2017-03-03\", \"2017-03-04\", \"2017-03-05\", \"2017-03-06\", \"2017-03-07\", \"2017-03-08\", \"2017-03-09\", \"2017-03-10\", \"2017-03-11\", \"2017-03-12\", \"2017-03-13\", \"2017-03-14\", \"2017-03-15\", \"2017-03-16\", \"2017-03-17\", \"2017-03-18\", \"2017-03-19\", \"2017-03-20\", \"2017-03-21\", \"2017-03-22\", \"2017-03-23\", \"2017-03-24\", \"2017-03-25\", \"2017-03-26\", \"2017-03-27\", \"2017-03-28\", \"2017-03-29\", \"2017-03-30\", \"2017-03-31\", \"2017-04-01\", \"2017-04-02\", \"2017-04-03\", \"2017-04-04\", \"2017-04-05\", \"2017-04-06\", \"2017-04-07\", \"2017-04-08\", \"2017-04-09\", \"2017-04-10\", \"2017-04-11\", \"2017-04-12\", \"2017-04-13\", \"2017-04-14\"], \"y\": [3, 2, 3, 13, 121, 327, 415, 576, 774, 791, 607, 374, 341, 300, 289, 254, 247, 212, 183, 173, 158, 158, 150, 155, 125, 119, 120, 111, 107, 125, 110, 86, 82, 89, 96, 90, 108, 100, 84, 81, 81, 84, 78, 82, 83, 70, 63, 67, 58, 66, 64, 73, 64, 62, 56, 55, 71], \"type\": \"bar\", \"uid\": \"7536b477-7894-454c-804f-09f78421a012\"}, {\"marker\": {\"color\": \"#CB4335\"}, \"name\": \"Login\", \"opacity\": 0.85, \"x\": [\"2017-02-14\", \"2017-02-15\", \"2017-02-16\", \"2017-02-18\", \"2017-02-20\", \"2017-02-21\", \"2017-02-22\", \"2017-02-23\", \"2017-02-24\", \"2017-02-25\", \"2017-02-26\", \"2017-02-27\", \"2017-02-28\", \"2017-03-01\", \"2017-03-02\", \"2017-03-03\", \"2017-03-04\", \"2017-03-05\", \"2017-03-06\", \"2017-03-07\", \"2017-03-08\", \"2017-03-09\", \"2017-03-10\", \"2017-03-11\", \"2017-03-12\", \"2017-03-13\", \"2017-03-14\", \"2017-03-15\", \"2017-03-16\", \"2017-03-17\", \"2017-03-18\", \"2017-03-19\", \"2017-03-20\", \"2017-03-21\", \"2017-03-22\", \"2017-03-23\", \"2017-03-24\", \"2017-03-25\", \"2017-03-26\", \"2017-03-27\", \"2017-03-28\", \"2017-03-29\", \"2017-03-30\", \"2017-03-31\", \"2017-04-01\", \"2017-04-02\", \"2017-04-03\", \"2017-04-04\", \"2017-04-05\", \"2017-04-06\", \"2017-04-07\", \"2017-04-08\", \"2017-04-09\", \"2017-04-10\", \"2017-04-11\", \"2017-04-12\", \"2017-04-13\", \"2017-04-14\"], \"y\": [3, 5, 3, 2, 13, 123, 331, 422, 590, 785, 809, 618, 386, 348, 311, 297, 263, 255, 221, 191, 187, 163, 164, 155, 161, 129, 121, 123, 118, 113, 130, 115, 92, 90, 92, 97, 92, 115, 106, 85, 84, 83, 86, 83, 86, 87, 76, 67, 71, 59, 69, 67, 75, 65, 65, 59, 59, 72], \"type\": \"bar\", \"uid\": \"f0448edf-246f-4f48-8cc4-1390d4ffd923\"}], {\"height\": 1000, \"legend\": {\"orientation\": \"h\"}, \"title\": {\"text\": \"Daily User Activity\"}}, {\"showLink\": false, \"linkText\": \"Export to plot.ly\", \"plotlyServerURL\": \"https://plot.ly\"})});</script><script type=\"text/javascript\">window.addEventListener(\"resize\", function(){window._Plotly.Plots.resize(document.getElementById(\"8cbdb32f-8b63-4ba5-b489-e5f0a02b226a\"));});</script>"
      ]
     },
     "metadata": {},
     "output_type": "display_data"
    }
   ],
   "source": [
    "\n",
    "# Create some additional features\n",
    "start_day['date'] = pd.to_datetime(start_day['dt'])\n",
    "start_day['month'] = start_day['date'].dt.month\n",
    "start_day['monthday'] = start_day['date'].dt.day\n",
    "start_day['weekday'] = start_day['date'].dt.weekday # Which day is it ?\n",
    "#####################################################\n",
    "end_day['date'] = pd.to_datetime(end_day['dt'])\n",
    "end_day['month'] = end_day['date'].dt.month\n",
    "end_day['monthday'] = end_day['date'].dt.day\n",
    "end_day['weekday'] = end_day['date'].dt.weekday \n",
    "\n",
    "trace1 = go.Bar(x=start_day['dt'], y=start_day['users_start_game'], opacity=0.85, name=\"Start\", marker=dict(color='#000000'))\n",
    "trace2 =go.Bar(x=log_day['dt'], y=log_day['users_login_game'], opacity=0.85, name=\"Login\", marker=dict(color='#CB4335'))\n",
    "layout = dict(height=1000, title='Daily User Activity', legend=dict(orientation=\"h\"));\n",
    "fig = go.Figure(data=[trace1,trace2], layout=layout);\n",
    "iplot(fig)\n"
   ]
  },
  {
   "cell_type": "markdown",
   "metadata": {},
   "source": [
    " Numbers seems very close. Difference between login and start game numbers  represent the users that login to the application but not playing any round in this game. Let's find its numbers\n",
    " \n"
   ]
  },
  {
   "cell_type": "code",
   "execution_count": 23,
   "metadata": {},
   "outputs": [
    {
     "data": {
      "text/html": [
       "<div>\n",
       "<style scoped>\n",
       "    .dataframe tbody tr th:only-of-type {\n",
       "        vertical-align: middle;\n",
       "    }\n",
       "\n",
       "    .dataframe tbody tr th {\n",
       "        vertical-align: top;\n",
       "    }\n",
       "\n",
       "    .dataframe thead th {\n",
       "        text-align: right;\n",
       "    }\n",
       "</style>\n",
       "<table border=\"1\" class=\"dataframe\">\n",
       "  <thead>\n",
       "    <tr style=\"text-align: right;\">\n",
       "      <th></th>\n",
       "      <th>users_start_game</th>\n",
       "      <th>date</th>\n",
       "      <th>users_login_game</th>\n",
       "      <th>Difference</th>\n",
       "    </tr>\n",
       "  </thead>\n",
       "  <tbody>\n",
       "    <tr>\n",
       "      <th>0</th>\n",
       "      <td>3</td>\n",
       "      <td>2017-02-14</td>\n",
       "      <td>3</td>\n",
       "      <td>0</td>\n",
       "    </tr>\n",
       "    <tr>\n",
       "      <th>1</th>\n",
       "      <td>2</td>\n",
       "      <td>2017-02-15</td>\n",
       "      <td>5</td>\n",
       "      <td>3</td>\n",
       "    </tr>\n",
       "    <tr>\n",
       "      <th>2</th>\n",
       "      <td>3</td>\n",
       "      <td>2017-02-16</td>\n",
       "      <td>3</td>\n",
       "      <td>0</td>\n",
       "    </tr>\n",
       "    <tr>\n",
       "      <th>3</th>\n",
       "      <td>13</td>\n",
       "      <td>2017-02-20</td>\n",
       "      <td>13</td>\n",
       "      <td>0</td>\n",
       "    </tr>\n",
       "    <tr>\n",
       "      <th>4</th>\n",
       "      <td>121</td>\n",
       "      <td>2017-02-21</td>\n",
       "      <td>123</td>\n",
       "      <td>2</td>\n",
       "    </tr>\n",
       "    <tr>\n",
       "      <th>5</th>\n",
       "      <td>327</td>\n",
       "      <td>2017-02-22</td>\n",
       "      <td>331</td>\n",
       "      <td>4</td>\n",
       "    </tr>\n",
       "    <tr>\n",
       "      <th>6</th>\n",
       "      <td>415</td>\n",
       "      <td>2017-02-23</td>\n",
       "      <td>422</td>\n",
       "      <td>7</td>\n",
       "    </tr>\n",
       "    <tr>\n",
       "      <th>7</th>\n",
       "      <td>576</td>\n",
       "      <td>2017-02-24</td>\n",
       "      <td>590</td>\n",
       "      <td>14</td>\n",
       "    </tr>\n",
       "    <tr>\n",
       "      <th>8</th>\n",
       "      <td>774</td>\n",
       "      <td>2017-02-25</td>\n",
       "      <td>785</td>\n",
       "      <td>11</td>\n",
       "    </tr>\n",
       "    <tr>\n",
       "      <th>9</th>\n",
       "      <td>791</td>\n",
       "      <td>2017-02-26</td>\n",
       "      <td>809</td>\n",
       "      <td>18</td>\n",
       "    </tr>\n",
       "  </tbody>\n",
       "</table>\n",
       "</div>"
      ],
      "text/plain": [
       "   users_start_game       date  users_login_game  Difference\n",
       "0                 3 2017-02-14                 3           0\n",
       "1                 2 2017-02-15                 5           3\n",
       "2                 3 2017-02-16                 3           0\n",
       "3                13 2017-02-20                13           0\n",
       "4               121 2017-02-21               123           2\n",
       "5               327 2017-02-22               331           4\n",
       "6               415 2017-02-23               422           7\n",
       "7               576 2017-02-24               590          14\n",
       "8               774 2017-02-25               785          11\n",
       "9               791 2017-02-26               809          18"
      ]
     },
     "execution_count": 23,
     "metadata": {},
     "output_type": "execute_result"
    }
   ],
   "source": [
    "a=start_day[['users_start_game','date']]\n",
    "b=log_day[['users_login_game','date']]\n",
    "\n",
    "#print(\"Mean Difference between Login a game and Start a game numbers :\" ,b.mean()-a.mean())\n",
    "dum=pd.merge(a,b[['date','users_login_game']],on='date', how='left').head(10)\n",
    "dum['Difference']=dum['users_login_game'] - dum['users_start_game']\n",
    "dum.head(10)"
   ]
  },
  {
   "cell_type": "code",
   "execution_count": 24,
   "metadata": {},
   "outputs": [
    {
     "name": "stdout",
     "output_type": "stream",
     "text": [
      "Mean number of users that login the game but not playing any round is : 5.9\n"
     ]
    }
   ],
   "source": [
    "print(\"Mean number of users that login the game but not playing any round is :\",dum['Difference'].mean())"
   ]
  },
  {
   "cell_type": "markdown",
   "metadata": {},
   "source": [
    "<br>\n",
    "### <a id=\"3.2\">3.2 Organic vs Paid User Acquisition</a>\n",
    "General overview about installing organic or with paid\n"
   ]
  },
  {
   "cell_type": "code",
   "execution_count": 25,
   "metadata": {},
   "outputs": [
    {
     "data": {
      "text/html": [
       "<div>\n",
       "<style scoped>\n",
       "    .dataframe tbody tr th:only-of-type {\n",
       "        vertical-align: middle;\n",
       "    }\n",
       "\n",
       "    .dataframe tbody tr th {\n",
       "        vertical-align: top;\n",
       "    }\n",
       "\n",
       "    .dataframe thead th {\n",
       "        text-align: right;\n",
       "    }\n",
       "</style>\n",
       "<table border=\"1\" class=\"dataframe\">\n",
       "  <thead>\n",
       "    <tr style=\"text-align: right;\">\n",
       "      <th></th>\n",
       "      <th>count(*)</th>\n",
       "      <th>is_organic</th>\n",
       "    </tr>\n",
       "  </thead>\n",
       "  <tbody>\n",
       "    <tr>\n",
       "      <th>0</th>\n",
       "      <td>2196</td>\n",
       "      <td>0</td>\n",
       "    </tr>\n",
       "    <tr>\n",
       "      <th>1</th>\n",
       "      <td>362</td>\n",
       "      <td>1</td>\n",
       "    </tr>\n",
       "  </tbody>\n",
       "</table>\n",
       "</div>"
      ],
      "text/plain": [
       "   count(*)  is_organic\n",
       "0      2196           0\n",
       "1       362           1"
      ]
     },
     "execution_count": 25,
     "metadata": {},
     "output_type": "execute_result"
    }
   ],
   "source": [
    "\n",
    "query = 'SELECT  count(*) ,Is_organic from install_table group by Is_organic' # Because we need unique users for each days.\n",
    "inst = pd.read_sql(query, connection)\n",
    "inst"
   ]
  },
  {
   "cell_type": "code",
   "execution_count": 26,
   "metadata": {},
   "outputs": [
    {
     "data": {
      "application/vnd.plotly.v1+json": {
       "config": {
        "linkText": "Export to plot.ly",
        "plotlyServerURL": "https://plot.ly",
        "showLink": false
       },
       "data": [
        {
         "marker": {
          "color": "rgba(100, 20, 10, 0.6)"
         },
         "name": "month",
         "opacity": 0.75,
         "type": "bar",
         "uid": "f85a2e05-9998-4952-be07-113942d9a423",
         "x": [
          "Paid",
          "Organic"
         ],
         "y": [
          2196,
          362
         ]
        }
       ],
       "layout": {
        "height": 400,
        "legend": {
         "orientation": "h"
        },
        "title": {
         "text": "Monthly-based Organic vs Paid User Acquisition"
        }
       }
      },
      "text/html": [
       "<div id=\"e6cd38a5-0c74-4a2b-8db2-c9460fadf763\" style=\"height: 400px; width: 100%;\" class=\"plotly-graph-div\"></div><script type=\"text/javascript\">require([\"plotly\"], function(Plotly) { window.PLOTLYENV=window.PLOTLYENV || {};window.PLOTLYENV.BASE_URL=\"https://plot.ly\";Plotly.newPlot(\"e6cd38a5-0c74-4a2b-8db2-c9460fadf763\", [{\"marker\": {\"color\": \"rgba(100, 20, 10, 0.6)\"}, \"name\": \"month\", \"opacity\": 0.75, \"x\": [\"Paid\", \"Organic\"], \"y\": [2196, 362], \"type\": \"bar\", \"uid\": \"f85a2e05-9998-4952-be07-113942d9a423\"}], {\"height\": 400, \"legend\": {\"orientation\": \"h\"}, \"title\": {\"text\": \"Monthly-based Organic vs Paid User Acquisition\"}}, {\"showLink\": false, \"linkText\": \"Export to plot.ly\", \"plotlyServerURL\": \"https://plot.ly\"})});</script><script type=\"text/javascript\">window.addEventListener(\"resize\", function(){window._Plotly.Plots.resize(document.getElementById(\"e6cd38a5-0c74-4a2b-8db2-c9460fadf763\"));});</script>"
      ],
      "text/vnd.plotly.v1+html": [
       "<div id=\"e6cd38a5-0c74-4a2b-8db2-c9460fadf763\" style=\"height: 400px; width: 100%;\" class=\"plotly-graph-div\"></div><script type=\"text/javascript\">require([\"plotly\"], function(Plotly) { window.PLOTLYENV=window.PLOTLYENV || {};window.PLOTLYENV.BASE_URL=\"https://plot.ly\";Plotly.newPlot(\"e6cd38a5-0c74-4a2b-8db2-c9460fadf763\", [{\"marker\": {\"color\": \"rgba(100, 20, 10, 0.6)\"}, \"name\": \"month\", \"opacity\": 0.75, \"x\": [\"Paid\", \"Organic\"], \"y\": [2196, 362], \"type\": \"bar\", \"uid\": \"f85a2e05-9998-4952-be07-113942d9a423\"}], {\"height\": 400, \"legend\": {\"orientation\": \"h\"}, \"title\": {\"text\": \"Monthly-based Organic vs Paid User Acquisition\"}}, {\"showLink\": false, \"linkText\": \"Export to plot.ly\", \"plotlyServerURL\": \"https://plot.ly\"})});</script><script type=\"text/javascript\">window.addEventListener(\"resize\", function(){window._Plotly.Plots.resize(document.getElementById(\"e6cd38a5-0c74-4a2b-8db2-c9460fadf763\"));});</script>"
      ]
     },
     "metadata": {},
     "output_type": "display_data"
    }
   ],
   "source": [
    "trace1 = go.Bar(x=['Paid','Organic'], y= inst['count(*)'], opacity=0.75, name=\"month\", marker=dict(color='rgba(100, 20, 10, 0.6)'))\n",
    "layout = dict(height=400, title='Monthly-based Organic vs Paid User Acquisition', legend=dict(orientation=\"h\"));\n",
    "fig = go.Figure(data=[trace1], layout=layout)\n",
    "iplot(fig, filename='stacked-bar')"
   ]
  },
  {
   "cell_type": "code",
   "execution_count": 27,
   "metadata": {},
   "outputs": [
    {
     "data": {
      "text/html": [
       "<table style=\"display:inline\" border=\"1\" class=\"dataframe\">\n",
       "  <thead>\n",
       "    <tr style=\"text-align: right;\">\n",
       "      <th></th>\n",
       "      <th>userCount</th>\n",
       "      <th>dt</th>\n",
       "      <th>is_organic</th>\n",
       "    </tr>\n",
       "  </thead>\n",
       "  <tbody>\n",
       "    <tr>\n",
       "      <th>0</th>\n",
       "      <td>8</td>\n",
       "      <td>2017-02-20</td>\n",
       "      <td>0</td>\n",
       "    </tr>\n",
       "    <tr>\n",
       "      <th>1</th>\n",
       "      <td>103</td>\n",
       "      <td>2017-02-21</td>\n",
       "      <td>0</td>\n",
       "    </tr>\n",
       "    <tr>\n",
       "      <th>2</th>\n",
       "      <td>283</td>\n",
       "      <td>2017-02-22</td>\n",
       "      <td>0</td>\n",
       "    </tr>\n",
       "    <tr>\n",
       "      <th>3</th>\n",
       "      <td>291</td>\n",
       "      <td>2017-02-23</td>\n",
       "      <td>0</td>\n",
       "    </tr>\n",
       "    <tr>\n",
       "      <th>4</th>\n",
       "      <td>386</td>\n",
       "      <td>2017-02-24</td>\n",
       "      <td>0</td>\n",
       "    </tr>\n",
       "    <tr>\n",
       "      <th>5</th>\n",
       "      <td>470</td>\n",
       "      <td>2017-02-25</td>\n",
       "      <td>0</td>\n",
       "    </tr>\n",
       "    <tr>\n",
       "      <th>6</th>\n",
       "      <td>415</td>\n",
       "      <td>2017-02-26</td>\n",
       "      <td>0</td>\n",
       "    </tr>\n",
       "    <tr>\n",
       "      <th>7</th>\n",
       "      <td>178</td>\n",
       "      <td>2017-02-27</td>\n",
       "      <td>0</td>\n",
       "    </tr>\n",
       "    <tr>\n",
       "      <th>8</th>\n",
       "      <td>27</td>\n",
       "      <td>2017-02-28</td>\n",
       "      <td>0</td>\n",
       "    </tr>\n",
       "    <tr>\n",
       "      <th>9</th>\n",
       "      <td>10</td>\n",
       "      <td>2017-03-01</td>\n",
       "      <td>0</td>\n",
       "    </tr>\n",
       "    <tr>\n",
       "      <th>10</th>\n",
       "      <td>5</td>\n",
       "      <td>2017-03-02</td>\n",
       "      <td>0</td>\n",
       "    </tr>\n",
       "    <tr>\n",
       "      <th>11</th>\n",
       "      <td>7</td>\n",
       "      <td>2017-03-03</td>\n",
       "      <td>0</td>\n",
       "    </tr>\n",
       "    <tr>\n",
       "      <th>12</th>\n",
       "      <td>3</td>\n",
       "      <td>2017-03-04</td>\n",
       "      <td>0</td>\n",
       "    </tr>\n",
       "    <tr>\n",
       "      <th>13</th>\n",
       "      <td>2</td>\n",
       "      <td>2017-03-05</td>\n",
       "      <td>0</td>\n",
       "    </tr>\n",
       "    <tr>\n",
       "      <th>14</th>\n",
       "      <td>1</td>\n",
       "      <td>2017-03-06</td>\n",
       "      <td>0</td>\n",
       "    </tr>\n",
       "    <tr>\n",
       "      <th>15</th>\n",
       "      <td>1</td>\n",
       "      <td>2017-03-07</td>\n",
       "      <td>0</td>\n",
       "    </tr>\n",
       "    <tr>\n",
       "      <th>16</th>\n",
       "      <td>1</td>\n",
       "      <td>2017-03-14</td>\n",
       "      <td>0</td>\n",
       "    </tr>\n",
       "    <tr>\n",
       "      <th>17</th>\n",
       "      <td>1</td>\n",
       "      <td>2017-03-17</td>\n",
       "      <td>0</td>\n",
       "    </tr>\n",
       "    <tr>\n",
       "      <th>18</th>\n",
       "      <td>1</td>\n",
       "      <td>2017-03-22</td>\n",
       "      <td>0</td>\n",
       "    </tr>\n",
       "    <tr>\n",
       "      <th>19</th>\n",
       "      <td>1</td>\n",
       "      <td>2017-04-07</td>\n",
       "      <td>0</td>\n",
       "    </tr>\n",
       "    <tr>\n",
       "      <th>20</th>\n",
       "      <td>2</td>\n",
       "      <td>2017-04-11</td>\n",
       "      <td>0</td>\n",
       "    </tr>\n",
       "  </tbody>\n",
       "</table style=\"display:inline\"><table style=\"display:inline\" border=\"1\" class=\"dataframe\">\n",
       "  <thead>\n",
       "    <tr style=\"text-align: right;\">\n",
       "      <th></th>\n",
       "      <th>userCount</th>\n",
       "      <th>dt</th>\n",
       "      <th>is_organic</th>\n",
       "    </tr>\n",
       "  </thead>\n",
       "  <tbody>\n",
       "    <tr>\n",
       "      <th>0</th>\n",
       "      <td>2</td>\n",
       "      <td>2017-02-20</td>\n",
       "      <td>1</td>\n",
       "    </tr>\n",
       "    <tr>\n",
       "      <th>1</th>\n",
       "      <td>9</td>\n",
       "      <td>2017-02-21</td>\n",
       "      <td>1</td>\n",
       "    </tr>\n",
       "    <tr>\n",
       "      <th>2</th>\n",
       "      <td>7</td>\n",
       "      <td>2017-02-22</td>\n",
       "      <td>1</td>\n",
       "    </tr>\n",
       "    <tr>\n",
       "      <th>3</th>\n",
       "      <td>8</td>\n",
       "      <td>2017-02-23</td>\n",
       "      <td>1</td>\n",
       "    </tr>\n",
       "    <tr>\n",
       "      <th>4</th>\n",
       "      <td>26</td>\n",
       "      <td>2017-02-24</td>\n",
       "      <td>1</td>\n",
       "    </tr>\n",
       "    <tr>\n",
       "      <th>5</th>\n",
       "      <td>30</td>\n",
       "      <td>2017-02-25</td>\n",
       "      <td>1</td>\n",
       "    </tr>\n",
       "    <tr>\n",
       "      <th>6</th>\n",
       "      <td>37</td>\n",
       "      <td>2017-02-26</td>\n",
       "      <td>1</td>\n",
       "    </tr>\n",
       "    <tr>\n",
       "      <th>7</th>\n",
       "      <td>33</td>\n",
       "      <td>2017-02-27</td>\n",
       "      <td>1</td>\n",
       "    </tr>\n",
       "    <tr>\n",
       "      <th>8</th>\n",
       "      <td>15</td>\n",
       "      <td>2017-02-28</td>\n",
       "      <td>1</td>\n",
       "    </tr>\n",
       "    <tr>\n",
       "      <th>9</th>\n",
       "      <td>18</td>\n",
       "      <td>2017-03-01</td>\n",
       "      <td>1</td>\n",
       "    </tr>\n",
       "    <tr>\n",
       "      <th>10</th>\n",
       "      <td>17</td>\n",
       "      <td>2017-03-02</td>\n",
       "      <td>1</td>\n",
       "    </tr>\n",
       "    <tr>\n",
       "      <th>11</th>\n",
       "      <td>20</td>\n",
       "      <td>2017-03-03</td>\n",
       "      <td>1</td>\n",
       "    </tr>\n",
       "    <tr>\n",
       "      <th>12</th>\n",
       "      <td>17</td>\n",
       "      <td>2017-03-04</td>\n",
       "      <td>1</td>\n",
       "    </tr>\n",
       "    <tr>\n",
       "      <th>13</th>\n",
       "      <td>19</td>\n",
       "      <td>2017-03-05</td>\n",
       "      <td>1</td>\n",
       "    </tr>\n",
       "    <tr>\n",
       "      <th>14</th>\n",
       "      <td>21</td>\n",
       "      <td>2017-03-06</td>\n",
       "      <td>1</td>\n",
       "    </tr>\n",
       "    <tr>\n",
       "      <th>15</th>\n",
       "      <td>17</td>\n",
       "      <td>2017-03-07</td>\n",
       "      <td>1</td>\n",
       "    </tr>\n",
       "    <tr>\n",
       "      <th>16</th>\n",
       "      <td>2</td>\n",
       "      <td>2017-03-08</td>\n",
       "      <td>1</td>\n",
       "    </tr>\n",
       "    <tr>\n",
       "      <th>17</th>\n",
       "      <td>6</td>\n",
       "      <td>2017-03-09</td>\n",
       "      <td>1</td>\n",
       "    </tr>\n",
       "    <tr>\n",
       "      <th>18</th>\n",
       "      <td>1</td>\n",
       "      <td>2017-03-10</td>\n",
       "      <td>1</td>\n",
       "    </tr>\n",
       "    <tr>\n",
       "      <th>19</th>\n",
       "      <td>4</td>\n",
       "      <td>2017-03-11</td>\n",
       "      <td>1</td>\n",
       "    </tr>\n",
       "    <tr>\n",
       "      <th>20</th>\n",
       "      <td>4</td>\n",
       "      <td>2017-03-12</td>\n",
       "      <td>1</td>\n",
       "    </tr>\n",
       "    <tr>\n",
       "      <th>21</th>\n",
       "      <td>4</td>\n",
       "      <td>2017-03-13</td>\n",
       "      <td>1</td>\n",
       "    </tr>\n",
       "    <tr>\n",
       "      <th>22</th>\n",
       "      <td>2</td>\n",
       "      <td>2017-03-15</td>\n",
       "      <td>1</td>\n",
       "    </tr>\n",
       "    <tr>\n",
       "      <th>23</th>\n",
       "      <td>2</td>\n",
       "      <td>2017-03-16</td>\n",
       "      <td>1</td>\n",
       "    </tr>\n",
       "    <tr>\n",
       "      <th>24</th>\n",
       "      <td>4</td>\n",
       "      <td>2017-03-17</td>\n",
       "      <td>1</td>\n",
       "    </tr>\n",
       "    <tr>\n",
       "      <th>25</th>\n",
       "      <td>3</td>\n",
       "      <td>2017-03-18</td>\n",
       "      <td>1</td>\n",
       "    </tr>\n",
       "    <tr>\n",
       "      <th>26</th>\n",
       "      <td>1</td>\n",
       "      <td>2017-03-19</td>\n",
       "      <td>1</td>\n",
       "    </tr>\n",
       "    <tr>\n",
       "      <th>27</th>\n",
       "      <td>3</td>\n",
       "      <td>2017-03-20</td>\n",
       "      <td>1</td>\n",
       "    </tr>\n",
       "    <tr>\n",
       "      <th>28</th>\n",
       "      <td>1</td>\n",
       "      <td>2017-03-21</td>\n",
       "      <td>1</td>\n",
       "    </tr>\n",
       "    <tr>\n",
       "      <th>29</th>\n",
       "      <td>3</td>\n",
       "      <td>2017-03-23</td>\n",
       "      <td>1</td>\n",
       "    </tr>\n",
       "    <tr>\n",
       "      <th>30</th>\n",
       "      <td>1</td>\n",
       "      <td>2017-03-24</td>\n",
       "      <td>1</td>\n",
       "    </tr>\n",
       "    <tr>\n",
       "      <th>31</th>\n",
       "      <td>2</td>\n",
       "      <td>2017-03-25</td>\n",
       "      <td>1</td>\n",
       "    </tr>\n",
       "    <tr>\n",
       "      <th>32</th>\n",
       "      <td>3</td>\n",
       "      <td>2017-03-26</td>\n",
       "      <td>1</td>\n",
       "    </tr>\n",
       "    <tr>\n",
       "      <th>33</th>\n",
       "      <td>1</td>\n",
       "      <td>2017-03-28</td>\n",
       "      <td>1</td>\n",
       "    </tr>\n",
       "    <tr>\n",
       "      <th>34</th>\n",
       "      <td>2</td>\n",
       "      <td>2017-03-30</td>\n",
       "      <td>1</td>\n",
       "    </tr>\n",
       "    <tr>\n",
       "      <th>35</th>\n",
       "      <td>1</td>\n",
       "      <td>2017-03-31</td>\n",
       "      <td>1</td>\n",
       "    </tr>\n",
       "    <tr>\n",
       "      <th>36</th>\n",
       "      <td>2</td>\n",
       "      <td>2017-04-01</td>\n",
       "      <td>1</td>\n",
       "    </tr>\n",
       "    <tr>\n",
       "      <th>37</th>\n",
       "      <td>3</td>\n",
       "      <td>2017-04-02</td>\n",
       "      <td>1</td>\n",
       "    </tr>\n",
       "    <tr>\n",
       "      <th>38</th>\n",
       "      <td>3</td>\n",
       "      <td>2017-04-04</td>\n",
       "      <td>1</td>\n",
       "    </tr>\n",
       "    <tr>\n",
       "      <th>39</th>\n",
       "      <td>1</td>\n",
       "      <td>2017-04-05</td>\n",
       "      <td>1</td>\n",
       "    </tr>\n",
       "    <tr>\n",
       "      <th>40</th>\n",
       "      <td>1</td>\n",
       "      <td>2017-04-06</td>\n",
       "      <td>1</td>\n",
       "    </tr>\n",
       "    <tr>\n",
       "      <th>41</th>\n",
       "      <td>1</td>\n",
       "      <td>2017-04-07</td>\n",
       "      <td>1</td>\n",
       "    </tr>\n",
       "    <tr>\n",
       "      <th>42</th>\n",
       "      <td>2</td>\n",
       "      <td>2017-04-09</td>\n",
       "      <td>1</td>\n",
       "    </tr>\n",
       "    <tr>\n",
       "      <th>43</th>\n",
       "      <td>1</td>\n",
       "      <td>2017-04-11</td>\n",
       "      <td>1</td>\n",
       "    </tr>\n",
       "    <tr>\n",
       "      <th>44</th>\n",
       "      <td>2</td>\n",
       "      <td>2017-04-12</td>\n",
       "      <td>1</td>\n",
       "    </tr>\n",
       "  </tbody>\n",
       "</table style=\"display:inline\">"
      ]
     },
     "metadata": {},
     "output_type": "display_data"
    }
   ],
   "source": [
    "from IPython.display import display_html #Only for fancy showing\n",
    "def mult_disp(*args):\n",
    "    html_str=''\n",
    "    for arg in args:\n",
    "        html_str+=arg.to_html()\n",
    "    display_html(html_str.replace('table','table style=\"display:inline\"'),raw=True)\n",
    "    \n",
    "query= 'SELECT  count(*) as userCount,dt ,Is_organic from install_table where is_organic=0 group by dt' \n",
    "query2= 'SELECT  count(*) as userCount,dt ,Is_organic from install_table where is_organic=1 group by dt' \n",
    "inst_day0 = pd.read_sql(query, connection)\n",
    "inst_day1 =pd.read_sql(query2, connection)\n",
    "mult_disp(inst_day0,inst_day1)\n"
   ]
  },
  {
   "cell_type": "code",
   "execution_count": 28,
   "metadata": {},
   "outputs": [
    {
     "data": {
      "application/vnd.plotly.v1+json": {
       "config": {
        "linkText": "Export to plot.ly",
        "plotlyServerURL": "https://plot.ly",
        "showLink": false
       },
       "data": [
        {
         "marker": {
          "color": "#c5d9f9"
         },
         "mode": "lines",
         "name": "Paid",
         "type": "scatter",
         "uid": "38515c73-0071-4519-ad16-da037dbea952",
         "x": [
          "2017-02-20",
          "2017-02-21",
          "2017-02-22",
          "2017-02-23",
          "2017-02-24",
          "2017-02-25",
          "2017-02-26",
          "2017-02-27",
          "2017-02-28",
          "2017-03-01",
          "2017-03-02",
          "2017-03-03",
          "2017-03-04",
          "2017-03-05",
          "2017-03-06",
          "2017-03-07",
          "2017-03-14",
          "2017-03-17",
          "2017-03-22",
          "2017-04-07",
          "2017-04-11"
         ],
         "y": [
          8,
          103,
          283,
          291,
          386,
          470,
          415,
          178,
          27,
          10,
          5,
          7,
          3,
          2,
          1,
          1,
          1,
          1,
          1,
          1,
          2
         ]
        },
        {
         "marker": {
          "color": "#ff9f87"
         },
         "mode": "lines",
         "name": "Organic",
         "type": "scatter",
         "uid": "3c5de1fa-5418-44eb-bce9-8864751162f1",
         "x": [
          "2017-02-20",
          "2017-02-21",
          "2017-02-22",
          "2017-02-23",
          "2017-02-24",
          "2017-02-25",
          "2017-02-26",
          "2017-02-27",
          "2017-02-28",
          "2017-03-01",
          "2017-03-02",
          "2017-03-03",
          "2017-03-04",
          "2017-03-05",
          "2017-03-06",
          "2017-03-07",
          "2017-03-08",
          "2017-03-09",
          "2017-03-10",
          "2017-03-11",
          "2017-03-12",
          "2017-03-13",
          "2017-03-15",
          "2017-03-16",
          "2017-03-17",
          "2017-03-18",
          "2017-03-19",
          "2017-03-20",
          "2017-03-21",
          "2017-03-23",
          "2017-03-24",
          "2017-03-25",
          "2017-03-26",
          "2017-03-28",
          "2017-03-30",
          "2017-03-31",
          "2017-04-01",
          "2017-04-02",
          "2017-04-04",
          "2017-04-05",
          "2017-04-06",
          "2017-04-07",
          "2017-04-09",
          "2017-04-11",
          "2017-04-12"
         ],
         "y": [
          2,
          9,
          7,
          8,
          26,
          30,
          37,
          33,
          15,
          18,
          17,
          20,
          17,
          19,
          21,
          17,
          2,
          6,
          1,
          4,
          4,
          4,
          2,
          2,
          4,
          3,
          1,
          3,
          1,
          3,
          1,
          2,
          3,
          1,
          2,
          1,
          2,
          3,
          3,
          1,
          1,
          1,
          2,
          1,
          2
         ]
        }
       ],
       "layout": {
        "height": 750,
        "legend": {
         "orientation": "h",
         "x": -0.01,
         "y": 1
        },
        "title": {
         "text": "Daily Organic vs Paid User Acquisition"
        },
        "xaxis": {
         "ticklen": 1,
         "title": {
          "text": "Date Time"
         }
        }
       }
      },
      "text/html": [
       "<div id=\"e84e7066-528c-4be3-bd04-e9aa3f2375fb\" style=\"height: 750px; width: 100%;\" class=\"plotly-graph-div\"></div><script type=\"text/javascript\">require([\"plotly\"], function(Plotly) { window.PLOTLYENV=window.PLOTLYENV || {};window.PLOTLYENV.BASE_URL=\"https://plot.ly\";Plotly.newPlot(\"e84e7066-528c-4be3-bd04-e9aa3f2375fb\", [{\"marker\": {\"color\": \"#c5d9f9\"}, \"mode\": \"lines\", \"name\": \"Paid\", \"x\": [\"2017-02-20\", \"2017-02-21\", \"2017-02-22\", \"2017-02-23\", \"2017-02-24\", \"2017-02-25\", \"2017-02-26\", \"2017-02-27\", \"2017-02-28\", \"2017-03-01\", \"2017-03-02\", \"2017-03-03\", \"2017-03-04\", \"2017-03-05\", \"2017-03-06\", \"2017-03-07\", \"2017-03-14\", \"2017-03-17\", \"2017-03-22\", \"2017-04-07\", \"2017-04-11\"], \"y\": [8, 103, 283, 291, 386, 470, 415, 178, 27, 10, 5, 7, 3, 2, 1, 1, 1, 1, 1, 1, 2], \"type\": \"scatter\", \"uid\": \"1a519900-d37d-4095-b7b2-df3b088bb4b2\"}, {\"marker\": {\"color\": \"#ff9f87\"}, \"mode\": \"lines\", \"name\": \"Organic\", \"x\": [\"2017-02-20\", \"2017-02-21\", \"2017-02-22\", \"2017-02-23\", \"2017-02-24\", \"2017-02-25\", \"2017-02-26\", \"2017-02-27\", \"2017-02-28\", \"2017-03-01\", \"2017-03-02\", \"2017-03-03\", \"2017-03-04\", \"2017-03-05\", \"2017-03-06\", \"2017-03-07\", \"2017-03-08\", \"2017-03-09\", \"2017-03-10\", \"2017-03-11\", \"2017-03-12\", \"2017-03-13\", \"2017-03-15\", \"2017-03-16\", \"2017-03-17\", \"2017-03-18\", \"2017-03-19\", \"2017-03-20\", \"2017-03-21\", \"2017-03-23\", \"2017-03-24\", \"2017-03-25\", \"2017-03-26\", \"2017-03-28\", \"2017-03-30\", \"2017-03-31\", \"2017-04-01\", \"2017-04-02\", \"2017-04-04\", \"2017-04-05\", \"2017-04-06\", \"2017-04-07\", \"2017-04-09\", \"2017-04-11\", \"2017-04-12\"], \"y\": [2, 9, 7, 8, 26, 30, 37, 33, 15, 18, 17, 20, 17, 19, 21, 17, 2, 6, 1, 4, 4, 4, 2, 2, 4, 3, 1, 3, 1, 3, 1, 2, 3, 1, 2, 1, 2, 3, 3, 1, 1, 1, 2, 1, 2], \"type\": \"scatter\", \"uid\": \"0aba0724-a10f-482f-a9b5-1964dde52e8d\"}], {\"height\": 750, \"legend\": {\"orientation\": \"h\", \"x\": -0.01, \"y\": 1}, \"title\": {\"text\": \"Daily Organic vs Paid User Acquisition\"}, \"xaxis\": {\"ticklen\": 1, \"title\": {\"text\": \"Date Time\"}}}, {\"showLink\": false, \"linkText\": \"Export to plot.ly\", \"plotlyServerURL\": \"https://plot.ly\"})});</script><script type=\"text/javascript\">window.addEventListener(\"resize\", function(){window._Plotly.Plots.resize(document.getElementById(\"e84e7066-528c-4be3-bd04-e9aa3f2375fb\"));});</script>"
      ],
      "text/vnd.plotly.v1+html": [
       "<div id=\"e84e7066-528c-4be3-bd04-e9aa3f2375fb\" style=\"height: 750px; width: 100%;\" class=\"plotly-graph-div\"></div><script type=\"text/javascript\">require([\"plotly\"], function(Plotly) { window.PLOTLYENV=window.PLOTLYENV || {};window.PLOTLYENV.BASE_URL=\"https://plot.ly\";Plotly.newPlot(\"e84e7066-528c-4be3-bd04-e9aa3f2375fb\", [{\"marker\": {\"color\": \"#c5d9f9\"}, \"mode\": \"lines\", \"name\": \"Paid\", \"x\": [\"2017-02-20\", \"2017-02-21\", \"2017-02-22\", \"2017-02-23\", \"2017-02-24\", \"2017-02-25\", \"2017-02-26\", \"2017-02-27\", \"2017-02-28\", \"2017-03-01\", \"2017-03-02\", \"2017-03-03\", \"2017-03-04\", \"2017-03-05\", \"2017-03-06\", \"2017-03-07\", \"2017-03-14\", \"2017-03-17\", \"2017-03-22\", \"2017-04-07\", \"2017-04-11\"], \"y\": [8, 103, 283, 291, 386, 470, 415, 178, 27, 10, 5, 7, 3, 2, 1, 1, 1, 1, 1, 1, 2], \"type\": \"scatter\", \"uid\": \"1a519900-d37d-4095-b7b2-df3b088bb4b2\"}, {\"marker\": {\"color\": \"#ff9f87\"}, \"mode\": \"lines\", \"name\": \"Organic\", \"x\": [\"2017-02-20\", \"2017-02-21\", \"2017-02-22\", \"2017-02-23\", \"2017-02-24\", \"2017-02-25\", \"2017-02-26\", \"2017-02-27\", \"2017-02-28\", \"2017-03-01\", \"2017-03-02\", \"2017-03-03\", \"2017-03-04\", \"2017-03-05\", \"2017-03-06\", \"2017-03-07\", \"2017-03-08\", \"2017-03-09\", \"2017-03-10\", \"2017-03-11\", \"2017-03-12\", \"2017-03-13\", \"2017-03-15\", \"2017-03-16\", \"2017-03-17\", \"2017-03-18\", \"2017-03-19\", \"2017-03-20\", \"2017-03-21\", \"2017-03-23\", \"2017-03-24\", \"2017-03-25\", \"2017-03-26\", \"2017-03-28\", \"2017-03-30\", \"2017-03-31\", \"2017-04-01\", \"2017-04-02\", \"2017-04-04\", \"2017-04-05\", \"2017-04-06\", \"2017-04-07\", \"2017-04-09\", \"2017-04-11\", \"2017-04-12\"], \"y\": [2, 9, 7, 8, 26, 30, 37, 33, 15, 18, 17, 20, 17, 19, 21, 17, 2, 6, 1, 4, 4, 4, 2, 2, 4, 3, 1, 3, 1, 3, 1, 2, 3, 1, 2, 1, 2, 3, 3, 1, 1, 1, 2, 1, 2], \"type\": \"scatter\", \"uid\": \"0aba0724-a10f-482f-a9b5-1964dde52e8d\"}], {\"height\": 750, \"legend\": {\"orientation\": \"h\", \"x\": -0.01, \"y\": 1}, \"title\": {\"text\": \"Daily Organic vs Paid User Acquisition\"}, \"xaxis\": {\"ticklen\": 1, \"title\": {\"text\": \"Date Time\"}}}, {\"showLink\": false, \"linkText\": \"Export to plot.ly\", \"plotlyServerURL\": \"https://plot.ly\"})});</script><script type=\"text/javascript\">window.addEventListener(\"resize\", function(){window._Plotly.Plots.resize(document.getElementById(\"e84e7066-528c-4be3-bd04-e9aa3f2375fb\"));});</script>"
      ]
     },
     "metadata": {},
     "output_type": "display_data"
    }
   ],
   "source": [
    "inst_day0['date'] = pd.to_datetime(inst_day0['dt'])\n",
    "inst_day1['date'] = pd.to_datetime(inst_day1['dt'])\n",
    "\n",
    "trace1 = go.Scatter(x = inst_day0.date, y = inst_day0['userCount'], name='Paid', mode = \"lines\", marker = dict(color = '#c5d9f9'))\n",
    "trace2 = go.Scatter(x = inst_day1.date, y = inst_day1['userCount'], name=\"Organic\", mode = \"lines\", marker = dict(color = '#ff9f87'))\n",
    "\n",
    "data = [trace1, trace2]\n",
    "layout = dict(height=750, title = 'Daily Organic vs Paid User Acquisition', legend=dict(orientation=\"h\", x=-.01, y=1), xaxis= dict(title='Date Time', ticklen= 1))\n",
    "fig = dict(data = data, layout = layout)\n",
    "iplot(fig)\n"
   ]
  },
  {
   "cell_type": "markdown",
   "metadata": {},
   "source": [
    "<br>\n",
    "### <a id=\"3.3\">3.3 Retention</a>"
   ]
  },
  {
   "cell_type": "markdown",
   "metadata": {},
   "source": [
    "For calculating retention, I followed two different way. First Classical Retention and Range Retention as a second.\n",
    "\n",
    "### Classical Retention\n",
    "\n",
    "It is # of users who use/play/login the app the nth day after day 0 /# of users who first used the app on day 0 \n",
    "\n",
    "\n",
    "\n",
    "![](https://www.braze.com/wp-content/uploads/2016/10/AB1016_BLOG_USER-RETENTION_7_826x250R.jpg)\n",
    "\n",
    "Then, the first step is to identify the original pool of customers:"
   ]
  },
  {
   "cell_type": "code",
   "execution_count": 29,
   "metadata": {},
   "outputs": [
    {
     "name": "stdout",
     "output_type": "stream",
     "text": [
      "Total number of unique users that has at least logged once between 14 February to 14 April : 2710\n"
     ]
    }
   ],
   "source": [
    "query = 'SELECT  * from login_table group by uid' \n",
    "ret1 = pd.read_sql(query, connection)\n",
    "\n",
    "print(\"Total number of unique users that has at least logged once between 14 February to 14 April :\",  len(ret1))"
   ]
  },
  {
   "cell_type": "markdown",
   "metadata": {},
   "source": [
    "Let's find the first-initial login date of users, I  can do this by looking install table but there can be users that install but not login."
   ]
  },
  {
   "cell_type": "code",
   "execution_count": 30,
   "metadata": {},
   "outputs": [
    {
     "data": {
      "text/html": [
       "<div>\n",
       "<style scoped>\n",
       "    .dataframe tbody tr th:only-of-type {\n",
       "        vertical-align: middle;\n",
       "    }\n",
       "\n",
       "    .dataframe tbody tr th {\n",
       "        vertical-align: top;\n",
       "    }\n",
       "\n",
       "    .dataframe thead th {\n",
       "        text-align: right;\n",
       "    }\n",
       "</style>\n",
       "<table border=\"1\" class=\"dataframe\">\n",
       "  <thead>\n",
       "    <tr style=\"text-align: right;\">\n",
       "      <th></th>\n",
       "      <th>uid</th>\n",
       "      <th>First_Login_Date</th>\n",
       "    </tr>\n",
       "  </thead>\n",
       "  <tbody>\n",
       "    <tr>\n",
       "      <th>0</th>\n",
       "      <td>1</td>\n",
       "      <td>2017-02-25</td>\n",
       "    </tr>\n",
       "    <tr>\n",
       "      <th>1</th>\n",
       "      <td>2</td>\n",
       "      <td>2017-02-24</td>\n",
       "    </tr>\n",
       "    <tr>\n",
       "      <th>2</th>\n",
       "      <td>3</td>\n",
       "      <td>2017-02-25</td>\n",
       "    </tr>\n",
       "    <tr>\n",
       "      <th>3</th>\n",
       "      <td>4</td>\n",
       "      <td>2017-02-21</td>\n",
       "    </tr>\n",
       "    <tr>\n",
       "      <th>4</th>\n",
       "      <td>5</td>\n",
       "      <td>2017-02-26</td>\n",
       "    </tr>\n",
       "    <tr>\n",
       "      <th>5</th>\n",
       "      <td>6</td>\n",
       "      <td>2017-02-22</td>\n",
       "    </tr>\n",
       "    <tr>\n",
       "      <th>6</th>\n",
       "      <td>7</td>\n",
       "      <td>2017-02-24</td>\n",
       "    </tr>\n",
       "    <tr>\n",
       "      <th>7</th>\n",
       "      <td>8</td>\n",
       "      <td>2017-02-23</td>\n",
       "    </tr>\n",
       "    <tr>\n",
       "      <th>8</th>\n",
       "      <td>9</td>\n",
       "      <td>2017-02-24</td>\n",
       "    </tr>\n",
       "    <tr>\n",
       "      <th>9</th>\n",
       "      <td>10</td>\n",
       "      <td>2017-02-27</td>\n",
       "    </tr>\n",
       "  </tbody>\n",
       "</table>\n",
       "</div>"
      ],
      "text/plain": [
       "   uid First_Login_Date\n",
       "0    1       2017-02-25\n",
       "1    2       2017-02-24\n",
       "2    3       2017-02-25\n",
       "3    4       2017-02-21\n",
       "4    5       2017-02-26\n",
       "5    6       2017-02-22\n",
       "6    7       2017-02-24\n",
       "7    8       2017-02-23\n",
       "8    9       2017-02-24\n",
       "9   10       2017-02-27"
      ]
     },
     "execution_count": 30,
     "metadata": {},
     "output_type": "execute_result"
    }
   ],
   "source": [
    "#Purpose of this query is find the First_login date for entire user pool in the duration of 14 February to 14 April.\n",
    "query = 'SELECT uid,min(dt) as First_Login_Date from login_table   group by uid  ' \n",
    "ret1 = pd.read_sql(query, connection)\n",
    "ret1.head(10)"
   ]
  },
  {
   "cell_type": "markdown",
   "metadata": {},
   "source": [
    "Tricky point in here is, when we join the login table by itself under the uid primary key , we have two different date , lets name  them as a  A.date and B.date. If we know the minimum A.date this means  that i have the information of first login time  of that particular user's life time, as well as the other login date's as a second column\n",
    "\n",
    "After necessary deletions table become first date column as a First login date and second is a any after login date.\n",
    "\n",
    "Now we can find the difference between two dates using  SQLite3's julianday function and figure out that this difference equals 1 ,3 5, 10, 30 etc.\n",
    "If particular query returns row under any difference size, this means that this user return the game after 1 ,3 5, 10, etc day later.\n",
    "\n",
    "So algorithm became following for retention:\n",
    "\n",
    "Find the user numbers that  return after 1 or 3 ,5 ,10, 20,30 day.   \n",
    "Divide the this number to the numbers of unique users that first login  in that range.\n",
    "if we calculate the 10 day retention\n",
    "\n",
    "10th retention is :  # of users return after 10 that after their first login / Total user until  4 April. ( Not 14 April because we have to ignore them , they do not have chance to return after 10 day there is not any data for them.)\n",
    "                   \n",
    "\n",
    "\n",
    "This was for the classical retention.\n",
    "\n",
    "\n",
    "    "
   ]
  },
  {
   "cell_type": "code",
   "execution_count": 31,
   "metadata": {},
   "outputs": [
    {
     "data": {
      "text/html": [
       "<div>\n",
       "<style scoped>\n",
       "    .dataframe tbody tr th:only-of-type {\n",
       "        vertical-align: middle;\n",
       "    }\n",
       "\n",
       "    .dataframe tbody tr th {\n",
       "        vertical-align: top;\n",
       "    }\n",
       "\n",
       "    .dataframe thead th {\n",
       "        text-align: right;\n",
       "    }\n",
       "</style>\n",
       "<table border=\"1\" class=\"dataframe\">\n",
       "  <thead>\n",
       "    <tr style=\"text-align: right;\">\n",
       "      <th></th>\n",
       "      <th>uid</th>\n",
       "      <th>First_Date</th>\n",
       "    </tr>\n",
       "  </thead>\n",
       "  <tbody>\n",
       "    <tr>\n",
       "      <th>0</th>\n",
       "      <td>1</td>\n",
       "      <td>2017-02-25</td>\n",
       "    </tr>\n",
       "    <tr>\n",
       "      <th>1</th>\n",
       "      <td>2</td>\n",
       "      <td>2017-02-24</td>\n",
       "    </tr>\n",
       "    <tr>\n",
       "      <th>2</th>\n",
       "      <td>3</td>\n",
       "      <td>2017-02-25</td>\n",
       "    </tr>\n",
       "    <tr>\n",
       "      <th>3</th>\n",
       "      <td>4</td>\n",
       "      <td>2017-02-21</td>\n",
       "    </tr>\n",
       "    <tr>\n",
       "      <th>4</th>\n",
       "      <td>5</td>\n",
       "      <td>2017-02-26</td>\n",
       "    </tr>\n",
       "    <tr>\n",
       "      <th>5</th>\n",
       "      <td>6</td>\n",
       "      <td>2017-02-22</td>\n",
       "    </tr>\n",
       "    <tr>\n",
       "      <th>6</th>\n",
       "      <td>7</td>\n",
       "      <td>2017-02-24</td>\n",
       "    </tr>\n",
       "    <tr>\n",
       "      <th>7</th>\n",
       "      <td>8</td>\n",
       "      <td>2017-02-23</td>\n",
       "    </tr>\n",
       "    <tr>\n",
       "      <th>8</th>\n",
       "      <td>9</td>\n",
       "      <td>2017-02-24</td>\n",
       "    </tr>\n",
       "    <tr>\n",
       "      <th>9</th>\n",
       "      <td>10</td>\n",
       "      <td>2017-02-27</td>\n",
       "    </tr>\n",
       "  </tbody>\n",
       "</table>\n",
       "</div>"
      ],
      "text/plain": [
       "   uid  First_Date\n",
       "0    1  2017-02-25\n",
       "1    2  2017-02-24\n",
       "2    3  2017-02-25\n",
       "3    4  2017-02-21\n",
       "4    5  2017-02-26\n",
       "5    6  2017-02-22\n",
       "6    7  2017-02-24\n",
       "7    8  2017-02-23\n",
       "8    9  2017-02-24\n",
       "9   10  2017-02-27"
      ]
     },
     "execution_count": 31,
     "metadata": {},
     "output_type": "execute_result"
    }
   ],
   "source": [
    "#Purpose of this query is find the First_login date for entire user pool in the duration of 14 February to 14 April\n",
    "query = 'SELECT A.uid, min(A.dt) as First_Date from login_table as A INNER JOIN login_table as B on A.uid=B.uid   group by A.uid   ' \n",
    "ret1 = pd.read_sql(query, connection)\n",
    "ret1.head(10)"
   ]
  },
  {
   "cell_type": "markdown",
   "metadata": {},
   "source": [
    "### Classical Retention Calculation Phase\n",
    "\n",
    "Two query required for calculation of n'th retention. On every step, first query finds the # of users that logged first time  in corresponding  range and second one is the check whether they are logged again after n'Th day"
   ]
  },
  {
   "cell_type": "code",
   "execution_count": 32,
   "metadata": {},
   "outputs": [
    {
     "name": "stdout",
     "output_type": "stream",
     "text": [
      "Total new unique users between (2017/02/14-2017/04/14 ):  2710\n",
      "# of Users that return the game after 1 day : 790\n",
      "Retention for 1st day is : 0.2915129151291513\n",
      "Total new unique users between (2017/02/14-2017/04/11 ):  2707\n",
      "# of Users that return the game after 3 day : 412\n",
      "Retention for 3rd day is : 0.15219800517177687\n",
      "Total new unique users between (2017/02/14-2017/04/07 ):  2701\n",
      "# of Users that return the game after 7 day : 236\n",
      "Retention for 7st day is : 0.08737504627915586\n",
      "Total new unique users between (2017/02/14-2017/04/04 ):  2697\n",
      "# of Users that return the game after 10 day : 165\n",
      "Retention for 10th day is : 0.06117908787541713\n",
      "Total new unique users between (2017/02/14-2017/03/30 ):  2688\n",
      "# of Users that return the game after 15 day : 140\n",
      "Retention for 15th day is : 0.052083333333333336\n",
      "Total new unique users between (2017/02/14-2017/03/14 ):  2656\n",
      "# of Users that return the game after 30 day : 86\n",
      "Retention for 30th day is : 0.03237951807228916\n",
      "Total new unique users between (2017/02/14-2017/02/28 ):  2455\n",
      "# of Users that return the game after 45 day : 61\n",
      "Retention for 45th day is : 0.02484725050916497\n"
     ]
    }
   ],
   "source": [
    "#day1 \n",
    "\n",
    "query1 = 'SELECT A.uid , min(A.dt) as First_Date from login_table as A INNER JOIN login_table as B on A.uid=B.uid where A.dt <= \"2017-04-14\" group by A.uid ' \n",
    "tot = pd.read_sql(query1, connection)\n",
    "print(\"Total new unique users between (2017/02/14-2017/04/14 ): \", len(tot))\n",
    "len(tot)\n",
    "\n",
    "query2 = 'SELECT C.uid  from login_table as C INNER JOIN login_table as B on C.uid=B.uid where C.dt <= \"2017-04-14\" and C.uid in (select X.uid from (select A.uid, min(A.ts),A.dt as First_date from login_table as A GROUP BY A.uid) as X INNER JOIN login_table B on X.uid=B.uid where X.First_date != B.dt AND (SELECT julianday(B.dt) - julianday(X.First_date)=1) order by First_date ASC) group by C.uid ' \n",
    "ret1 = pd.read_sql(query2, connection)\n",
    "\n",
    "print(\"# of Users that return the game after 1 day :\", len(ret1))\n",
    "print(\"Retention for 1st day is :\", len(ret1)/len(tot))\n",
    "#############################################################################3\n",
    "query3 = 'SELECT A.uid , min(A.dt) as First_Date from login_table as A INNER JOIN login_table as B on A.uid=B.uid where A.dt <= \"2017-04-11\" group by A.uid ' \n",
    "tot3 = pd.read_sql(query3, connection)\n",
    "print(\"Total new unique users between (2017/02/14-2017/04/11 ): \", len(tot3))\n",
    "len(tot3)\n",
    "\n",
    "query4 = 'SELECT C.uid  from login_table as C INNER JOIN login_table as B on C.uid=B.uid where C.dt <= \"2017-04-11\" and C.uid in (select X.uid from (select A.uid, min(A.ts),A.dt as First_date from login_table as A GROUP BY A.uid) as X INNER JOIN login_table B on X.uid=B.uid where X.First_date != B.dt AND (SELECT julianday(B.dt) - julianday(X.First_date)=3) order by First_date ASC) group by C.uid ' \n",
    "ret3 = pd.read_sql(query4, connection)\n",
    "\n",
    "print(\"# of Users that return the game after 3 day :\", len(ret3))\n",
    "print(\"Retention for 3rd day is :\", len(ret3)/len(tot3))\n",
    "##############################################################################\n",
    "\n",
    "query5 = 'SELECT A.uid , min(A.dt) as First_Date from login_table as A INNER JOIN login_table as B on A.uid=B.uid where A.dt <= \"2017-04-07\" group by A.uid ' \n",
    "tot7 = pd.read_sql(query5, connection)\n",
    "print(\"Total new unique users between (2017/02/14-2017/04/07 ): \", len(tot7))\n",
    "len(tot3)\n",
    "\n",
    "query6 = 'SELECT C.uid  from login_table as C INNER JOIN login_table as B on C.uid=B.uid where C.dt <= \"2017-04-07\" and C.uid in (select X.uid from (select A.uid, min(A.ts),A.dt as First_date from login_table as A GROUP BY A.uid) as X INNER JOIN login_table B on X.uid=B.uid where X.First_date != B.dt AND (SELECT julianday(B.dt) - julianday(X.First_date)=7) order by First_date ASC) group by C.uid' \n",
    "ret7 = pd.read_sql(query6, connection)\n",
    "\n",
    "print(\"# of Users that return the game after 7 day :\", len(ret7))\n",
    "print(\"Retention for 7st day is :\", len(ret7)/len(tot7))\n",
    "#################################################################################\n",
    "query7 = 'SELECT A.uid , min(A.dt) as First_Date from login_table as A INNER JOIN login_table as B on A.uid=B.uid where A.dt <= \"2017-04-04\" group by A.uid ' \n",
    "tot10 = pd.read_sql(query7, connection)\n",
    "print(\"Total new unique users between (2017/02/14-2017/04/04 ): \", len(tot10))\n",
    "len(tot10)\n",
    "\n",
    "query8 = 'SELECT C.uid  from login_table as C INNER JOIN login_table as B on C.uid=B.uid where C.dt <= \"2017-04-04\" and C.uid in (select X.uid from (select A.uid, min(A.ts),A.dt as First_date from login_table as A GROUP BY A.uid) as X INNER JOIN login_table B on X.uid=B.uid where X.First_date != B.dt AND (SELECT julianday(B.dt) - julianday(X.First_date)=10) order by First_date ASC) group by C.uid' \n",
    "ret10 = pd.read_sql(query8, connection)\n",
    "\n",
    "print(\"# of Users that return the game after 10 day :\", len(ret10))\n",
    "print(\"Retention for 10th day is :\", len(ret10)/len(tot10))\n",
    "#################################################################################\n",
    "query9 = 'SELECT A.uid , min(A.dt) as First_Date from login_table as A INNER JOIN login_table as B on A.uid=B.uid where A.dt <= \"2017-03-30\" group by A.uid ' \n",
    "tot15 = pd.read_sql(query9, connection)\n",
    "print(\"Total new unique users between (2017/02/14-2017/03/30 ): \", len(tot15))\n",
    "len(tot15)\n",
    "\n",
    "query10 = 'SELECT C.uid  from login_table as C INNER JOIN login_table as B on C.uid=B.uid where C.dt <= \"2017-03-30\" and C.uid in (select X.uid from (select A.uid, min(A.ts),A.dt as First_date from login_table as A GROUP BY A.uid) as X INNER JOIN login_table B on X.uid=B.uid where X.First_date != B.dt AND (SELECT julianday(B.dt) - julianday(X.First_date)=15) order by First_date ASC) group by C.uid' \n",
    "ret15 = pd.read_sql(query10, connection)\n",
    "\n",
    "print(\"# of Users that return the game after 15 day :\", len(ret15))\n",
    "print(\"Retention for 15th day is :\", len(ret15)/len(tot15))\n",
    "#################################################################################\n",
    "query10 = 'SELECT A.uid , min(A.dt) as First_Date from login_table as A INNER JOIN login_table as B on A.uid=B.uid where A.dt <= \"2017-03-14\" group by A.uid ' \n",
    "tot30 = pd.read_sql(query10, connection)\n",
    "print(\"Total new unique users between (2017/02/14-2017/03/14 ): \", len(tot30))\n",
    "\n",
    "query11 = 'SELECT C.uid  from login_table as C INNER JOIN login_table as B on C.uid=B.uid where C.dt <= \"2017-03-14\" and C.uid in (select X.uid from (select A.uid, min(A.ts),A.dt as First_date from login_table as A GROUP BY A.uid) as X INNER JOIN login_table B on X.uid=B.uid where X.First_date != B.dt AND (SELECT julianday(B.dt) - julianday(X.First_date)=30) order by First_date ASC) group by C.uid' \n",
    "ret30 = pd.read_sql(query11, connection)\n",
    "\n",
    "print(\"# of Users that return the game after 30 day :\", len(ret30))\n",
    "print(\"Retention for 30th day is :\", len(ret30)/len(tot30))\n",
    "\n",
    "#################################################################################\n",
    "query11 = 'SELECT A.uid , min(A.dt) as First_Date from login_table as A INNER JOIN login_table as B on A.uid=B.uid where A.dt <= \"2017-02-28\" group by A.uid ' \n",
    "tot45 = pd.read_sql(query11, connection)\n",
    "print(\"Total new unique users between (2017/02/14-2017/02/28 ): \", len(tot45))\n",
    "\n",
    "query12 = 'SELECT C.uid  from login_table as C INNER JOIN login_table as B on C.uid=B.uid where C.dt <= \"2017-02-28\" and C.uid in (select X.uid from (select A.uid, min(A.ts),A.dt as First_date from login_table as A GROUP BY A.uid) as X INNER JOIN login_table B on X.uid=B.uid where X.First_date != B.dt AND (SELECT julianday(B.dt) - julianday(X.First_date)=45) order by First_date ASC) group by C.uid' \n",
    "ret45 = pd.read_sql(query12, connection)\n",
    "\n",
    "print(\"# of Users that return the game after 45 day :\", len(ret45))\n",
    "print(\"Retention for 45th day is :\", len(ret45)/len(tot45))"
   ]
  },
  {
   "cell_type": "code",
   "execution_count": 33,
   "metadata": {},
   "outputs": [
    {
     "data": {
      "application/vnd.plotly.v1+json": {
       "config": {
        "linkText": "Export to plot.ly",
        "plotlyServerURL": "https://plot.ly",
        "showLink": false
       },
       "data": [
        {
         "marker": {
          "color": "#598AC6"
         },
         "mode": "lines",
         "name": "Week1",
         "type": "scatter",
         "uid": "5606078b-e7c3-412f-9095-bd10dd71e6b1",
         "x": [
          1,
          3,
          7,
          10,
          15,
          30,
          45
         ],
         "y": [
          29.15129151291513,
          15.219800517177687,
          8.737504627915586,
          6.117908787541713,
          5.208333333333334,
          3.2379518072289155,
          2.484725050916497
         ]
        }
       ],
       "layout": {
        "height": 750,
        "legend": {
         "orientation": "h",
         "x": -0.01,
         "y": 1
        },
        "title": {
         "text": "Classic Retention (%)"
        },
        "xaxis": {
         "ticklen": 1,
         "title": {
          "text": " n'th Day Later "
         }
        }
       }
      },
      "text/html": [
       "<div id=\"c13d7a12-3a6e-4e6f-b595-ecd6a0216405\" style=\"height: 750px; width: 100%;\" class=\"plotly-graph-div\"></div><script type=\"text/javascript\">require([\"plotly\"], function(Plotly) { window.PLOTLYENV=window.PLOTLYENV || {};window.PLOTLYENV.BASE_URL=\"https://plot.ly\";Plotly.newPlot(\"c13d7a12-3a6e-4e6f-b595-ecd6a0216405\", [{\"marker\": {\"color\": \"#598AC6\"}, \"mode\": \"lines\", \"name\": \"Week1\", \"x\": [1, 3, 7, 10, 15, 30, 45], \"y\": [29.15129151291513, 15.219800517177687, 8.737504627915586, 6.117908787541713, 5.208333333333334, 3.2379518072289155, 2.484725050916497], \"type\": \"scatter\", \"uid\": \"6a692ffd-e19f-493f-94d7-5a433d16634b\"}], {\"height\": 750, \"legend\": {\"orientation\": \"h\", \"x\": -0.01, \"y\": 1}, \"title\": {\"text\": \"Classic Retention (%)\"}, \"xaxis\": {\"ticklen\": 1, \"title\": {\"text\": \" n'th Day Later \"}}}, {\"showLink\": false, \"linkText\": \"Export to plot.ly\", \"plotlyServerURL\": \"https://plot.ly\"})});</script><script type=\"text/javascript\">window.addEventListener(\"resize\", function(){window._Plotly.Plots.resize(document.getElementById(\"c13d7a12-3a6e-4e6f-b595-ecd6a0216405\"));});</script>"
      ],
      "text/vnd.plotly.v1+html": [
       "<div id=\"c13d7a12-3a6e-4e6f-b595-ecd6a0216405\" style=\"height: 750px; width: 100%;\" class=\"plotly-graph-div\"></div><script type=\"text/javascript\">require([\"plotly\"], function(Plotly) { window.PLOTLYENV=window.PLOTLYENV || {};window.PLOTLYENV.BASE_URL=\"https://plot.ly\";Plotly.newPlot(\"c13d7a12-3a6e-4e6f-b595-ecd6a0216405\", [{\"marker\": {\"color\": \"#598AC6\"}, \"mode\": \"lines\", \"name\": \"Week1\", \"x\": [1, 3, 7, 10, 15, 30, 45], \"y\": [29.15129151291513, 15.219800517177687, 8.737504627915586, 6.117908787541713, 5.208333333333334, 3.2379518072289155, 2.484725050916497], \"type\": \"scatter\", \"uid\": \"6a692ffd-e19f-493f-94d7-5a433d16634b\"}], {\"height\": 750, \"legend\": {\"orientation\": \"h\", \"x\": -0.01, \"y\": 1}, \"title\": {\"text\": \"Classic Retention (%)\"}, \"xaxis\": {\"ticklen\": 1, \"title\": {\"text\": \" n'th Day Later \"}}}, {\"showLink\": false, \"linkText\": \"Export to plot.ly\", \"plotlyServerURL\": \"https://plot.ly\"})});</script><script type=\"text/javascript\">window.addEventListener(\"resize\", function(){window._Plotly.Plots.resize(document.getElementById(\"c13d7a12-3a6e-4e6f-b595-ecd6a0216405\"));});</script>"
      ]
     },
     "metadata": {},
     "output_type": "display_data"
    }
   ],
   "source": [
    "\n",
    "ret=[len(ret1)/len(tot),len(ret3)/len(tot3),len(ret7)/len(tot7),len(ret10)/len(tot10),len(ret15)/len(tot15),len(ret30)/len(tot30),len(ret45)/len(tot45)]\n",
    "\n",
    "\n",
    "d = {'Retention': np.array(ret),  'Day': [1,3,7,10,15,30,45]}\n",
    "dummy = pd.DataFrame(data=d)\n",
    "\n",
    "\n",
    "trace1 = go.Scatter(x = dummy['Day'], y = dummy['Retention']*100, name='Week1', mode = \"lines\", marker = dict(color = '#598AC6'))\n",
    "\n",
    "\n",
    "data = [trace1]\n",
    "layout = dict(height=750, title = 'Classic Retention (%)', legend=dict(orientation=\"h\", x=-.01, y=1), xaxis= dict(title=\" n'th Day Later \", ticklen= 1))\n",
    "fig = dict(data = data, layout = layout)\n",
    "iplot(fig)\n"
   ]
  },
  {
   "cell_type": "markdown",
   "metadata": {},
   "source": [
    "<br>\n",
    "\n",
    "### Range Retention\n",
    "<br>\n",
    "\n",
    "### Important Note: This section has  an cumulative error due to logical expressions in datetime parts of queries. The numbers from First week is correct however 2,3,4,5 is not correct. You can ignore it. Due to figure out my mistake very lately , there is no chance to fix it.\n",
    "\n",
    "![](https://www.braze.com/wp-content/uploads/2016/10/AB1016_BLOG_USER-RETENTION_8_826x250R.jpg)\n",
    "\n",
    "\n",
    "\n",
    "\n",
    "\n",
    "For Range Retention, I followed another way. I calculated the users that logged first  in ( first week (14 February to 21 February) , second week ( 21 February to 28 February) , third week, forth week and fifth week).\n",
    "\n",
    "Then,for each week of users , There are different pools and different total number exist.\n",
    "Then, I calculate retention for each different week then compare it.\n",
    "\n",
    "Let's illustrate it: \n",
    "\n",
    "There are 140 new users  first logged in the game (or installed it) in the range of 14 February to 21 February (First Week).\n",
    "Then i calculated the their first day retention , for example if someone install the game in 16 February, i check whether he/She is enterred the game in 17 February and so on.\n",
    "\n",
    "Then figure out that users that belongs in first week pool, approximately 31% of them return in first day. Then retention becomes 31% for them.\n",
    "\n",
    "For every week pool i calculated another retentions.\n"
   ]
  },
  {
   "cell_type": "code",
   "execution_count": 34,
   "metadata": {},
   "outputs": [
    {
     "name": "stdout",
     "output_type": "stream",
     "text": [
      "Above query returns all the unique users that Login the game on First day\n"
     ]
    },
    {
     "data": {
      "text/html": [
       "<div>\n",
       "<style scoped>\n",
       "    .dataframe tbody tr th:only-of-type {\n",
       "        vertical-align: middle;\n",
       "    }\n",
       "\n",
       "    .dataframe tbody tr th {\n",
       "        vertical-align: top;\n",
       "    }\n",
       "\n",
       "    .dataframe thead th {\n",
       "        text-align: right;\n",
       "    }\n",
       "</style>\n",
       "<table border=\"1\" class=\"dataframe\">\n",
       "  <thead>\n",
       "    <tr style=\"text-align: right;\">\n",
       "      <th></th>\n",
       "      <th>uid</th>\n",
       "      <th>min(A.ts)</th>\n",
       "      <th>First_date</th>\n",
       "      <th>index</th>\n",
       "      <th>event_id</th>\n",
       "      <th>ts</th>\n",
       "      <th>dt</th>\n",
       "      <th>uid</th>\n",
       "      <th>s_index</th>\n",
       "    </tr>\n",
       "  </thead>\n",
       "  <tbody>\n",
       "    <tr>\n",
       "      <th>0</th>\n",
       "      <td>324</td>\n",
       "      <td>1487087785</td>\n",
       "      <td>2017-02-14</td>\n",
       "      <td>12196</td>\n",
       "      <td>bf4ac84d-233e-5e01-683b-4842f57153e0</td>\n",
       "      <td>1487183150</td>\n",
       "      <td>2017-02-15</td>\n",
       "      <td>324</td>\n",
       "      <td>6</td>\n",
       "    </tr>\n",
       "    <tr>\n",
       "      <th>1</th>\n",
       "      <td>1998</td>\n",
       "      <td>1487173671</td>\n",
       "      <td>2017-02-15</td>\n",
       "      <td>18287</td>\n",
       "      <td>cf9f6fab-683e-abfb-5268-2ddbbf3ed86e</td>\n",
       "      <td>1487235539</td>\n",
       "      <td>2017-02-16</td>\n",
       "      <td>1998</td>\n",
       "      <td>7</td>\n",
       "    </tr>\n",
       "    <tr>\n",
       "      <th>2</th>\n",
       "      <td>1998</td>\n",
       "      <td>1487173671</td>\n",
       "      <td>2017-02-15</td>\n",
       "      <td>18776</td>\n",
       "      <td>6d6622d1-1479-d262-a2b2-f8b3df80aede</td>\n",
       "      <td>1487235539</td>\n",
       "      <td>2017-02-16</td>\n",
       "      <td>1998</td>\n",
       "      <td>8</td>\n",
       "    </tr>\n",
       "    <tr>\n",
       "      <th>3</th>\n",
       "      <td>1260</td>\n",
       "      <td>1487633183</td>\n",
       "      <td>2017-02-20</td>\n",
       "      <td>1135</td>\n",
       "      <td>00294ac6-9f2b-2893-e93e-6f848c8f0824</td>\n",
       "      <td>1487653510</td>\n",
       "      <td>2017-02-21</td>\n",
       "      <td>1260</td>\n",
       "      <td>2</td>\n",
       "    </tr>\n",
       "    <tr>\n",
       "      <th>4</th>\n",
       "      <td>784</td>\n",
       "      <td>1487630148</td>\n",
       "      <td>2017-02-20</td>\n",
       "      <td>1705</td>\n",
       "      <td>d59a15da-6b3e-fd04-5973-01291e635c74</td>\n",
       "      <td>1487698857</td>\n",
       "      <td>2017-02-21</td>\n",
       "      <td>784</td>\n",
       "      <td>7</td>\n",
       "    </tr>\n",
       "  </tbody>\n",
       "</table>\n",
       "</div>"
      ],
      "text/plain": [
       "    uid   min(A.ts)  First_date  index                              event_id  \\\n",
       "0   324  1487087785  2017-02-14  12196  bf4ac84d-233e-5e01-683b-4842f57153e0   \n",
       "1  1998  1487173671  2017-02-15  18287  cf9f6fab-683e-abfb-5268-2ddbbf3ed86e   \n",
       "2  1998  1487173671  2017-02-15  18776  6d6622d1-1479-d262-a2b2-f8b3df80aede   \n",
       "3  1260  1487633183  2017-02-20   1135  00294ac6-9f2b-2893-e93e-6f848c8f0824   \n",
       "4   784  1487630148  2017-02-20   1705  d59a15da-6b3e-fd04-5973-01291e635c74   \n",
       "\n",
       "           ts          dt   uid  s_index  \n",
       "0  1487183150  2017-02-15   324        6  \n",
       "1  1487235539  2017-02-16  1998        7  \n",
       "2  1487235539  2017-02-16  1998        8  \n",
       "3  1487653510  2017-02-21  1260        2  \n",
       "4  1487698857  2017-02-21   784        7  "
      ]
     },
     "execution_count": 34,
     "metadata": {},
     "output_type": "execute_result"
    }
   ],
   "source": [
    "query = 'select * from (select A.uid, min(A.ts),A.dt as First_date from login_table as A GROUP BY A.uid) as X INNER JOIN login_table B on X.uid=B.uid where X.First_date != B.dt AND (SELECT julianday(B.dt) - julianday(X.First_date)=1) order by First_date ASC;' \n",
    "ret1 = pd.read_sql(query, connection)\n",
    "print(\"Above query returns all the unique users that Login the game on First day\")\n",
    "ret1.head(5)\n"
   ]
  },
  {
   "cell_type": "markdown",
   "metadata": {
    "collapsed": true
   },
   "source": [
    "Start with Range Retention , First Calculate New users in 14-21/02 , then 22-29/02, 30/02-07/03, 08-15/03, 16-23/03 "
   ]
  },
  {
   "cell_type": "code",
   "execution_count": 35,
   "metadata": {},
   "outputs": [
    {
     "name": "stdout",
     "output_type": "stream",
     "text": [
      "Total new unique users in week 1 (2017/02/14-2017/02/21 ):  140\n"
     ]
    },
    {
     "data": {
      "text/plain": [
       "140"
      ]
     },
     "execution_count": 35,
     "metadata": {},
     "output_type": "execute_result"
    }
   ],
   "source": [
    "# New users in (First order within 14-21/02 )\n",
    "query = 'SELECT A.uid , min(A.ts),A.dt as First_Date from login_table as A INNER JOIN login_table as B on A.uid=B.uid where A.dt <= \"2017-02-21\" group by A.uid ' \n",
    "w1 = pd.read_sql(query, connection)\n",
    "print(\"Total new unique users in week 1 (2017/02/14-2017/02/21 ): \", len(w1))\n",
    "len(w1)"
   ]
  },
  {
   "cell_type": "markdown",
   "metadata": {},
   "source": [
    "This means there are 140 new user login in First week\n",
    "First week -> 140 New user and we know their id.\n",
    "Let's check  whether how many of these user login back after one day. We already find the unique users that login after their first login just search uid's in those."
   ]
  },
  {
   "cell_type": "code",
   "execution_count": 36,
   "metadata": {},
   "outputs": [
    {
     "name": "stdout",
     "output_type": "stream",
     "text": [
      "Total New Week 1 users : 140, and Users that login on First day: : 44  Retention on First Day of Week 1 Users:  0.3142857142857143\n"
     ]
    }
   ],
   "source": [
    "# Below query return user n\n",
    "query = 'SELECT C.uid  from login_table as C INNER JOIN login_table as B on C.uid=B.uid where C.dt <= \"2017-02-21\" and C.uid in (select X.uid from (select A.uid, min(A.ts),A.dt as First_date from login_table as A GROUP BY A.uid) as X INNER JOIN login_table B on X.uid=B.uid where X.First_date != B.dt AND (SELECT julianday(B.dt) - julianday(X.First_date)=1) order by First_date ASC) group by C.uid  ' \n",
    "ret1w1 = pd.read_sql(query, connection)\n",
    "print(\"Total New Week 1 users : 140, and Users that login on First day: :\" ,len(ret1w1),\" Retention on First Day of Week 1 Users: \",len(ret1w1)/140)\n"
   ]
  },
  {
   "cell_type": "code",
   "execution_count": 37,
   "metadata": {},
   "outputs": [
    {
     "name": "stdout",
     "output_type": "stream",
     "text": [
      "Total New Week 1 users : 140, and Users that login on Third day: : 17  Retention on Third Day of Week 1 Users:  0.12142857142857143\n"
     ]
    }
   ],
   "source": [
    "# We can see 43 People logged in again in one day later.\n",
    "# Now calculate 3 days later.\n",
    "\n",
    "query = '''SELECT C.uid  \n",
    "        from login_table as C INNER JOIN login_table as B on C.uid=B.uid \n",
    "        where C.dt <= \"2017-02-21\" and C.uid in \n",
    "        (select X.uid from (select A.uid, min(A.ts),A.dt as First_date from login_table as A \n",
    "            GROUP BY A.uid) as X INNER JOIN login_table B on X.uid=B.uid \n",
    "                where X.First_date != B.dt AND (SELECT julianday(B.dt) - julianday(X.First_date)=3)\n",
    "                    order by First_date ASC) group by C.uid ''' \n",
    "\n",
    "ret3w1 = pd.read_sql(query, connection)\n",
    "print(\"Total New Week 1 users : 140, and Users that login on Third day: :\" ,len(ret3w1),\" Retention on Third Day of Week 1 Users: \",len(ret3w1)/140)\n"
   ]
  },
  {
   "cell_type": "code",
   "execution_count": 38,
   "metadata": {},
   "outputs": [
    {
     "name": "stdout",
     "output_type": "stream",
     "text": [
      "Total New Week 1 users : 140, and Users that login on 5th day: : 13  Retention on 5th Day of Week 1 Users:  0.09285714285714286\n",
      "Total New Week 1 users : 140, and Users that login on 7th day: : 7  Retention on 7th Day of Week 1 Users:  0.05\n"
     ]
    },
    {
     "data": {
      "text/html": [
       "<div>\n",
       "<style scoped>\n",
       "    .dataframe tbody tr th:only-of-type {\n",
       "        vertical-align: middle;\n",
       "    }\n",
       "\n",
       "    .dataframe tbody tr th {\n",
       "        vertical-align: top;\n",
       "    }\n",
       "\n",
       "    .dataframe thead th {\n",
       "        text-align: right;\n",
       "    }\n",
       "</style>\n",
       "<table border=\"1\" class=\"dataframe\">\n",
       "  <thead>\n",
       "    <tr style=\"text-align: right;\">\n",
       "      <th></th>\n",
       "      <th>uid</th>\n",
       "    </tr>\n",
       "  </thead>\n",
       "  <tbody>\n",
       "    <tr>\n",
       "      <th>0</th>\n",
       "      <td>449</td>\n",
       "    </tr>\n",
       "    <tr>\n",
       "      <th>1</th>\n",
       "      <td>530</td>\n",
       "    </tr>\n",
       "    <tr>\n",
       "      <th>2</th>\n",
       "      <td>784</td>\n",
       "    </tr>\n",
       "    <tr>\n",
       "      <th>3</th>\n",
       "      <td>1807</td>\n",
       "    </tr>\n",
       "    <tr>\n",
       "      <th>4</th>\n",
       "      <td>2154</td>\n",
       "    </tr>\n",
       "    <tr>\n",
       "      <th>5</th>\n",
       "      <td>2403</td>\n",
       "    </tr>\n",
       "    <tr>\n",
       "      <th>6</th>\n",
       "      <td>2603</td>\n",
       "    </tr>\n",
       "  </tbody>\n",
       "</table>\n",
       "</div>"
      ],
      "text/plain": [
       "    uid\n",
       "0   449\n",
       "1   530\n",
       "2   784\n",
       "3  1807\n",
       "4  2154\n",
       "5  2403\n",
       "6  2603"
      ]
     },
     "execution_count": 38,
     "metadata": {},
     "output_type": "execute_result"
    }
   ],
   "source": [
    "query1 = '''SELECT C.uid  from login_table as C\n",
    "            INNER JOIN login_table as B \n",
    "            on C.uid=B.uid where C.dt <= \"2017-02-21\" and C.uid in \n",
    "                (select X.uid from (select A.uid, min(A.ts),A.dt as First_date from login_table as A GROUP BY A.uid) as X\n",
    "                INNER JOIN login_table B on X.uid=B.uid \n",
    "                where X.First_date != B.dt AND \n",
    "                (SELECT julianday(B.dt) - julianday(X.First_date)=5) \n",
    "                order by First_date ASC) group by C.uid ''' \n",
    "\n",
    "ret5w1 = pd.read_sql(query1, connection)\n",
    "print(\"Total New Week 1 users : 140, and Users that login on 5th day: :\" ,len(ret5w1),\" Retention on 5th Day of Week 1 Users: \",len(ret5w1)/140)\n",
    "ret1w1\n",
    "\n",
    "\n",
    "query2 = '''SELECT C.uid  from login_table as C\n",
    "            INNER JOIN login_table as B \n",
    "            on C.uid=B.uid where C.dt <= \"2017-02-21\" and C.uid in \n",
    "                (select X.uid from (select A.uid, min(A.ts),A.dt as First_date from login_table as A GROUP BY A.uid) as X\n",
    "                INNER JOIN login_table B on X.uid=B.uid \n",
    "                where X.First_date != B.dt AND \n",
    "                (SELECT julianday(B.dt) - julianday(X.First_date)=7) \n",
    "                order by First_date ASC) group by C.uid ''' \n",
    "\n",
    "ret7w1 = pd.read_sql(query2, connection)\n",
    "print(\"Total New Week 1 users : 140, and Users that login on 7th day: :\" ,len(ret7w1),\" Retention on 7th Day of Week 1 Users: \",len(ret7w1)/140)\n",
    "ret7w1"
   ]
  },
  {
   "cell_type": "code",
   "execution_count": 39,
   "metadata": {},
   "outputs": [
    {
     "name": "stdout",
     "output_type": "stream",
     "text": [
      "Total New Week 1 users : 140, and Users that login on Tenth day: : 5  Retention on Tenth Day of Week 1 Users:  0.05\n"
     ]
    },
    {
     "data": {
      "text/html": [
       "<div>\n",
       "<style scoped>\n",
       "    .dataframe tbody tr th:only-of-type {\n",
       "        vertical-align: middle;\n",
       "    }\n",
       "\n",
       "    .dataframe tbody tr th {\n",
       "        vertical-align: top;\n",
       "    }\n",
       "\n",
       "    .dataframe thead th {\n",
       "        text-align: right;\n",
       "    }\n",
       "</style>\n",
       "<table border=\"1\" class=\"dataframe\">\n",
       "  <thead>\n",
       "    <tr style=\"text-align: right;\">\n",
       "      <th></th>\n",
       "      <th>uid</th>\n",
       "    </tr>\n",
       "  </thead>\n",
       "  <tbody>\n",
       "    <tr>\n",
       "      <th>0</th>\n",
       "      <td>449</td>\n",
       "    </tr>\n",
       "    <tr>\n",
       "      <th>1</th>\n",
       "      <td>785</td>\n",
       "    </tr>\n",
       "    <tr>\n",
       "      <th>2</th>\n",
       "      <td>1912</td>\n",
       "    </tr>\n",
       "    <tr>\n",
       "      <th>3</th>\n",
       "      <td>2403</td>\n",
       "    </tr>\n",
       "    <tr>\n",
       "      <th>4</th>\n",
       "      <td>2743</td>\n",
       "    </tr>\n",
       "  </tbody>\n",
       "</table>\n",
       "</div>"
      ],
      "text/plain": [
       "    uid\n",
       "0   449\n",
       "1   785\n",
       "2  1912\n",
       "3  2403\n",
       "4  2743"
      ]
     },
     "execution_count": 39,
     "metadata": {},
     "output_type": "execute_result"
    }
   ],
   "source": [
    "query = '''SELECT C.uid  from login_table as C\n",
    "            INNER JOIN login_table as B \n",
    "            on C.uid=B.uid where C.dt <= \"2017-02-21\" and C.uid in \n",
    "                (select X.uid from (select A.uid, min(A.ts),A.dt as First_date from login_table as A GROUP BY A.uid) as X\n",
    "                INNER JOIN login_table B on X.uid=B.uid \n",
    "                where X.First_date != B.dt AND \n",
    "                (SELECT julianday(B.dt) - julianday(X.First_date)=10) \n",
    "                order by First_date ASC) group by C.uid ''' \n",
    "\n",
    "ret10w1 = pd.read_sql(query, connection)\n",
    "print(\"Total New Week 1 users : 140, and Users that login on Tenth day: :\" ,len(ret10w1),\" Retention on Tenth Day of Week 1 Users: \",len(ret7w1)/140)\n",
    "ret10w1"
   ]
  },
  {
   "cell_type": "code",
   "execution_count": 40,
   "metadata": {},
   "outputs": [
    {
     "name": "stdout",
     "output_type": "stream",
     "text": [
      "Total New Week 1 users : 140, and Users that login on Fifteenth day: : 5  Retention on Fifteenth Day of Week 1 Users:  0.05\n"
     ]
    },
    {
     "data": {
      "text/html": [
       "<div>\n",
       "<style scoped>\n",
       "    .dataframe tbody tr th:only-of-type {\n",
       "        vertical-align: middle;\n",
       "    }\n",
       "\n",
       "    .dataframe tbody tr th {\n",
       "        vertical-align: top;\n",
       "    }\n",
       "\n",
       "    .dataframe thead th {\n",
       "        text-align: right;\n",
       "    }\n",
       "</style>\n",
       "<table border=\"1\" class=\"dataframe\">\n",
       "  <thead>\n",
       "    <tr style=\"text-align: right;\">\n",
       "      <th></th>\n",
       "      <th>uid</th>\n",
       "    </tr>\n",
       "  </thead>\n",
       "  <tbody>\n",
       "    <tr>\n",
       "      <th>0</th>\n",
       "      <td>449</td>\n",
       "    </tr>\n",
       "    <tr>\n",
       "      <th>1</th>\n",
       "      <td>530</td>\n",
       "    </tr>\n",
       "    <tr>\n",
       "      <th>2</th>\n",
       "      <td>784</td>\n",
       "    </tr>\n",
       "    <tr>\n",
       "      <th>3</th>\n",
       "      <td>1153</td>\n",
       "    </tr>\n",
       "    <tr>\n",
       "      <th>4</th>\n",
       "      <td>1636</td>\n",
       "    </tr>\n",
       "    <tr>\n",
       "      <th>5</th>\n",
       "      <td>1912</td>\n",
       "    </tr>\n",
       "  </tbody>\n",
       "</table>\n",
       "</div>"
      ],
      "text/plain": [
       "    uid\n",
       "0   449\n",
       "1   530\n",
       "2   784\n",
       "3  1153\n",
       "4  1636\n",
       "5  1912"
      ]
     },
     "execution_count": 40,
     "metadata": {},
     "output_type": "execute_result"
    }
   ],
   "source": [
    "query = '''SELECT C.uid  from login_table as C\n",
    "            INNER JOIN login_table as B \n",
    "            on C.uid=B.uid where C.dt <= \"2017-02-21\" and C.uid in \n",
    "                (select X.uid from (select A.uid, min(A.ts),A.dt as First_date from login_table as A GROUP BY A.uid) as X\n",
    "                INNER JOIN login_table B on X.uid=B.uid \n",
    "                where X.First_date != B.dt AND \n",
    "                (SELECT julianday(B.dt) - julianday(X.First_date)=15) \n",
    "                order by First_date ASC) group by C.uid ''' \n",
    "\n",
    "ret15w1 = pd.read_sql(query, connection)\n",
    "print(\"Total New Week 1 users : 140, and Users that login on Fifteenth day: :\" ,len(ret10w1),\" Retention on Fifteenth Day of Week 1 Users: \",len(ret7w1)/140)\n",
    "ret15w1"
   ]
  },
  {
   "cell_type": "code",
   "execution_count": 41,
   "metadata": {},
   "outputs": [
    {
     "name": "stdout",
     "output_type": "stream",
     "text": [
      "Total New Week 1 users : 140, and # of Users that login on 20th day: : 4  Retention on 20th Day of Week 1 Users:  0.02857142857142857\n",
      "Total New Week 1 users : 140, and # of Users that login on 30th day: : 1  Retention on 30th Day of Week 1 Users:  0.02857142857142857\n"
     ]
    }
   ],
   "source": [
    "query = '''SELECT C.uid  from login_table as C\n",
    "            INNER JOIN login_table as B \n",
    "            on C.uid=B.uid where C.dt <= \"2017-02-21\" and C.uid in \n",
    "                (select X.uid from (select A.uid, min(A.ts),A.dt as First_date from login_table as A GROUP BY A.uid) as X\n",
    "                INNER JOIN login_table B on X.uid=B.uid \n",
    "                where X.First_date != B.dt AND \n",
    "                (SELECT julianday(B.dt) - julianday(X.First_date)=20) \n",
    "                order by First_date ASC) group by C.uid ''' \n",
    "\n",
    "ret20w1 = pd.read_sql(query, connection)\n",
    "print(\"Total New Week 1 users : 140, and # of Users that login on 20th day: :\" ,len(ret20w1),\" Retention on 20th Day of Week 1 Users: \",len(ret20w1)/140)\n",
    "ret20w1\n",
    "\n",
    "query = '''SELECT C.uid  from login_table as C\n",
    "            INNER JOIN login_table as B \n",
    "            on C.uid=B.uid where C.dt <= \"2017-02-21\" and C.uid in \n",
    "                (select X.uid from (select A.uid, min(A.ts),A.dt as First_date from login_table as A GROUP BY A.uid) as X\n",
    "                INNER JOIN login_table B on X.uid=B.uid \n",
    "                where X.First_date != B.dt AND \n",
    "                (SELECT julianday(B.dt) - julianday(X.First_date)=30) \n",
    "                order by First_date ASC) group by C.uid ''' \n",
    "\n",
    "ret30w1 = pd.read_sql(query, connection)\n",
    "print(\"Total New Week 1 users : 140, and # of Users that login on 30th day: :\" ,len(ret30w1),\" Retention on 30th Day of Week 1 Users: \",len(ret20w1)/140)\n"
   ]
  },
  {
   "cell_type": "code",
   "execution_count": 42,
   "metadata": {},
   "outputs": [
    {
     "name": "stdout",
     "output_type": "stream",
     "text": [
      "Total new unique users in week 2 (2017/02/22-2017/02/28 ):  2373\n",
      "Total New Week 2 users : 2373 , and # of Users that login on 1st day: : 735  Retention on 1st Day of Week 2 Users:  0.30973451327433627\n",
      "Total New Week 2 users : 2373 , and # of Users that login on 3rd day: : 382  Retention on 3rd Day of Week 2 Users:  0.16097766540244415\n",
      "Total New Week 2 users : 2373 , and # of Users that login on 5th day: : 262  Retention on 5th Day of Week 2 Users:  0.11040876527602192\n",
      "Total New Week 2 users : 2373 , and # of Users that login on 7th day: : 213  Retention on 7th Day of Week 2 Users:  0.0897597977243995\n",
      "Total New Week 2 users : 2373 , and # of Users that login on 10th day: : 148  Retention on 10th Day of Week 2 Users:  0.06236831015592077\n",
      "Total New Week 2 users : 2373 , and # of Users that login on 15th day: : 124  Retention on 15th Day of Week 2 Users:  0.05225453013063633\n",
      "Total New Week 2 users : 2373 , and # of Users that login on 20th day: : 94  Retention on 20th Day of Week 2 Users:  0.03961230509903076\n",
      "Total New Week 2 users : 2373 , and # of Users that login on 30th day: : 77  Retention on 30th Day of Week 2 Users:  0.032448377581120944\n"
     ]
    }
   ],
   "source": [
    "# Lets do same thing for New users For week 2 (First logged Users within 22/02/2017-28/02/2017)\n",
    "\n",
    "query = 'SELECT A.uid , min(A.ts),A.dt as First_Date from login_table as A INNER JOIN login_table as B on A.uid=B.uid where A.dt > \"2017-02-21\" and A.dt <= \"2017-02-28\" group by A.uid ' \n",
    "w2 = pd.read_sql(query, connection)\n",
    "print(\"Total new unique users in week 2 (2017/02/22-2017/02/28 ): \", len(w2))\n",
    "\n",
    "query = '''SELECT C.uid  from login_table as C\n",
    "            INNER JOIN login_table as B \n",
    "            on C.uid=B.uid where C.dt > \"2017-02-21\" and C.dt <= \"2017-02-28\" and C.uid in \n",
    "                (select X.uid from (select A.uid, min(A.ts),A.dt as First_date from login_table as A GROUP BY A.uid) as X\n",
    "                INNER JOIN login_table B on X.uid=B.uid \n",
    "                where X.First_date != B.dt AND \n",
    "                (SELECT julianday(B.dt) - julianday(X.First_date)=1) \n",
    "                order by First_date ASC) group by C.uid ''' \n",
    "\n",
    "ret1w2 = pd.read_sql(query, connection)\n",
    "print(\"Total New Week 2 users :\",len(w2),\", and # of Users that login on 1st day: :\" ,len(ret1w2),\" Retention on 1st Day of Week 2 Users: \",len(ret1w2)/len(w2))\n",
    "\n",
    "# Week 2 Third day ret\n",
    "\n",
    "query2 = '''SELECT C.uid  from login_table as C\n",
    "            INNER JOIN login_table as B \n",
    "            on C.uid=B.uid where C.dt > \"2017-02-21\" and C.dt <= \"2017-02-28\" and C.uid in \n",
    "                (select X.uid from (select A.uid, min(A.ts),A.dt as First_date from login_table as A GROUP BY A.uid) as X\n",
    "                INNER JOIN login_table B on X.uid=B.uid \n",
    "                where X.First_date != B.dt AND \n",
    "                (SELECT julianday(B.dt) - julianday(X.First_date)=3) \n",
    "                order by First_date ASC) group by C.uid ''' \n",
    "\n",
    "ret3w2 = pd.read_sql(query2, connection)\n",
    "print(\"Total New Week 2 users :\",len(w2),\", and # of Users that login on 3rd day: :\" ,len(ret3w2),\" Retention on 3rd Day of Week 2 Users: \",len(ret3w2)/len(w2))\n",
    "\n",
    "\n",
    "# Week 2 Fith day ret\n",
    "\n",
    "query3 = '''SELECT C.uid  from login_table as C\n",
    "            INNER JOIN login_table as B \n",
    "            on C.uid=B.uid where C.dt > \"2017-02-21\" and C.dt <= \"2017-02-28\" and C.uid in \n",
    "                (select X.uid from (select A.uid, min(A.ts),A.dt as First_date from login_table as A GROUP BY A.uid) as X\n",
    "                INNER JOIN login_table B on X.uid=B.uid \n",
    "                where X.First_date != B.dt AND \n",
    "                (SELECT julianday(B.dt) - julianday(X.First_date)=5) \n",
    "                order by First_date ASC) group by C.uid ''' \n",
    "\n",
    "ret5w2 = pd.read_sql(query3, connection)\n",
    "print(\"Total New Week 2 users :\",len(w2),\", and # of Users that login on 5th day: :\" ,len(ret5w2),\" Retention on 5th Day of Week 2 Users: \",len(ret5w2)/len(w2))\n",
    "\n",
    "# Week 2 Seventh day ret\n",
    "\n",
    "query4 = '''SELECT C.uid  from login_table as C\n",
    "            INNER JOIN login_table as B \n",
    "            on C.uid=B.uid where C.dt > \"2017-02-21\" and C.dt <= \"2017-02-28\" and C.uid in \n",
    "                (select X.uid from (select A.uid, min(A.ts),A.dt as First_date from login_table as A GROUP BY A.uid) as X\n",
    "                INNER JOIN login_table B on X.uid=B.uid \n",
    "                where X.First_date != B.dt AND \n",
    "                (SELECT julianday(B.dt) - julianday(X.First_date)=7) \n",
    "                order by First_date ASC) group by C.uid ''' \n",
    "\n",
    "ret7w2 = pd.read_sql(query4, connection)\n",
    "print(\"Total New Week 2 users :\",len(w2),\", and # of Users that login on 7th day: :\" ,len(ret7w2),\" Retention on 7th Day of Week 2 Users: \",len(ret7w2)/len(w2))\n",
    "\n",
    "\n",
    "# Week 2 Tenth day retention\n",
    "\n",
    "query5 = '''SELECT C.uid  from login_table as C\n",
    "            INNER JOIN login_table as B \n",
    "            on C.uid=B.uid where C.dt > \"2017-02-21\" and C.dt <= \"2017-02-28\" and C.uid in \n",
    "                (select X.uid from (select A.uid, min(A.ts),A.dt as First_date from login_table as A GROUP BY A.uid) as X\n",
    "                INNER JOIN login_table B on X.uid=B.uid \n",
    "                where X.First_date != B.dt AND \n",
    "                (SELECT julianday(B.dt) - julianday(X.First_date)=10) \n",
    "                order by First_date ASC) group by C.uid ''' \n",
    "\n",
    "ret10w2 = pd.read_sql(query5, connection)\n",
    "print(\"Total New Week 2 users :\",len(w2),\", and # of Users that login on 10th day: :\" ,len(ret10w2),\" Retention on 10th Day of Week 2 Users: \",len(ret10w2)/len(w2))\n",
    "\n",
    "\n",
    "# Week 2 15th day retention\n",
    "\n",
    "query6 = '''SELECT C.uid  from login_table as C\n",
    "            INNER JOIN login_table as B \n",
    "            on C.uid=B.uid where C.dt > \"2017-02-21\" and C.dt <= \"2017-02-28\" and C.uid in \n",
    "                (select X.uid from (select A.uid, min(A.ts),A.dt as First_date from login_table as A GROUP BY A.uid) as X\n",
    "                INNER JOIN login_table B on X.uid=B.uid \n",
    "                where X.First_date != B.dt AND \n",
    "                (SELECT julianday(B.dt) - julianday(X.First_date)=15) \n",
    "                order by First_date ASC) group by C.uid ''' \n",
    "\n",
    "ret15w2 = pd.read_sql(query6, connection)\n",
    "print(\"Total New Week 2 users :\",len(w2),\", and # of Users that login on 15th day: :\" ,len(ret15w2),\" Retention on 15th Day of Week 2 Users: \",len(ret15w2)/len(w2))\n",
    "\n",
    "# Week 2 20th day retention\n",
    "\n",
    "query7 = '''SELECT C.uid  from login_table as C\n",
    "            INNER JOIN login_table as B \n",
    "            on C.uid=B.uid where C.dt > \"2017-02-21\" and C.dt <= \"2017-02-28\" and C.uid in \n",
    "                (select X.uid from (select A.uid, min(A.ts),A.dt as First_date from login_table as A GROUP BY A.uid) as X\n",
    "                INNER JOIN login_table B on X.uid=B.uid \n",
    "                where X.First_date != B.dt AND \n",
    "                (SELECT julianday(B.dt) - julianday(X.First_date)=20) \n",
    "                order by First_date ASC) group by C.uid ''' \n",
    "\n",
    "ret20w2 = pd.read_sql(query7, connection)\n",
    "print(\"Total New Week 2 users :\",len(w2),\", and # of Users that login on 20th day: :\" ,len(ret20w2),\" Retention on 20th Day of Week 2 Users: \",len(ret20w2)/len(w2))\n",
    "\n",
    "# Week 2 30th day retention\n",
    "\n",
    "query8 = '''SELECT C.uid  from login_table as C\n",
    "            INNER JOIN login_table as B \n",
    "            on C.uid=B.uid where C.dt > \"2017-02-21\" and C.dt <= \"2017-02-28\" and C.uid in \n",
    "                (select X.uid from (select A.uid, min(A.ts),A.dt as First_date from login_table as A GROUP BY A.uid) as X\n",
    "                INNER JOIN login_table B on X.uid=B.uid \n",
    "                where X.First_date != B.dt AND \n",
    "                (SELECT julianday(B.dt) - julianday(X.First_date)=30) \n",
    "                order by First_date ASC) group by C.uid ''' \n",
    "\n",
    "ret30w2 = pd.read_sql(query8, connection)\n",
    "print(\"Total New Week 2 users :\",len(w2),\", and # of Users that login on 30th day: :\" ,len(ret30w2),\" Retention on 30th Day of Week 2 Users: \",len(ret30w2)/len(w2))"
   ]
  },
  {
   "cell_type": "code",
   "execution_count": null,
   "metadata": {
    "collapsed": true
   },
   "outputs": [],
   "source": []
  },
  {
   "cell_type": "code",
   "execution_count": 43,
   "metadata": {},
   "outputs": [
    {
     "name": "stdout",
     "output_type": "stream",
     "text": [
      "Total new unique users in week 3 (2017/02/28-2017/03/04 ):  683\n",
      "Total New Week 3 users : 683 , and # of Users that login on 1st day: : 395  Retention on 1st Day of Week 3 Users:  0.5783308931185944\n",
      "Total New Week 3 users : 683 , and # of Users that login on 3rd day: : 308  Retention on 3rd Day of Week 3 Users:  0.45095168374816985\n",
      "Total New Week 3 users : 683 , and # of Users that login on 5th day: : 250  Retention on 5th Day of Week 3 Users:  0.36603221083455345\n",
      "Total New Week 3 users : 683 , and # of Users that login on 7th day: : 214  Retention on 7th Day of Week 3 Users:  0.31332357247437775\n",
      "Total New Week 3 users : 683 , and # of Users that login on 10th day: : 141  Retention on 10th Day of Week 3 Users:  0.20644216691068815\n",
      "Total New Week 3 users : 683 , and # of Users that login on 15th day: : 119  Retention on 15th Day of Week 3 Users:  0.05225453013063633\n",
      "Total New Week 3 users : 683 , and # of Users that login on 20th day: : 80  Retention on 20th Day of Week 3 Users:  0.1171303074670571\n",
      "Total New Week 3 users : 683 , and # of Users that login on 30th day: : 68  Retention on 30th Day of Week 3 Users:  0.09956076134699854\n"
     ]
    }
   ],
   "source": [
    "# Lets do same thing for New users For week 3 (First logged Users within 28/02/2017-04/03/2017)\n",
    "\n",
    "query = 'SELECT A.uid , min(A.ts),A.dt as First_Date from login_table as A INNER JOIN login_table as B on A.uid=B.uid where A.dt > \"2017-02-28\" and A.dt <= \"2017-03-04\" group by A.uid ' \n",
    "w3 = pd.read_sql(query, connection)\n",
    "print(\"Total new unique users in week 3 (2017/02/28-2017/03/04 ): \", len(w3))\n",
    "\n",
    "query = '''SELECT C.uid  from login_table as C\n",
    "            INNER JOIN login_table as B \n",
    "            on C.uid=B.uid where C.dt > \"2017-02-28\" and C.dt <= \"2017-03-04\" and C.uid in \n",
    "                (select X.uid from (select A.uid, min(A.ts),A.dt as First_date from login_table as A GROUP BY A.uid) as X\n",
    "                INNER JOIN login_table B on X.uid=B.uid \n",
    "                where X.First_date != B.dt AND \n",
    "                (SELECT julianday(B.dt) - julianday(X.First_date)=1) \n",
    "                order by First_date ASC) group by C.uid ''' \n",
    "\n",
    "ret1w3 = pd.read_sql(query, connection)\n",
    "print(\"Total New Week 3 users :\",len(w3),\", and # of Users that login on 1st day: :\" ,len(ret1w3),\" Retention on 1st Day of Week 3 Users: \",len(ret1w3)/len(w3))\n",
    "\n",
    "# Week 3 Third day ret\n",
    "\n",
    "query2 = '''SELECT C.uid  from login_table as C\n",
    "            INNER JOIN login_table as B \n",
    "            on C.uid=B.uid where C.dt > \"2017-02-28\" and C.dt <= \"2017-03-04\" and C.uid in \n",
    "                (select X.uid from (select A.uid, min(A.ts),A.dt as First_date from login_table as A GROUP BY A.uid) as X\n",
    "                INNER JOIN login_table B on X.uid=B.uid \n",
    "                where X.First_date != B.dt AND \n",
    "                (SELECT julianday(B.dt) - julianday(X.First_date)=3) \n",
    "                order by First_date ASC) group by C.uid ''' \n",
    "\n",
    "ret3w3 = pd.read_sql(query2, connection)\n",
    "print(\"Total New Week 3 users :\",len(w3),\", and # of Users that login on 3rd day: :\" ,len(ret3w3),\" Retention on 3rd Day of Week 3 Users: \",len(ret3w3)/len(w3))\n",
    "\n",
    "\n",
    "# Week 3 Fith day ret\n",
    "\n",
    "query3 = '''SELECT C.uid  from login_table as C\n",
    "            INNER JOIN login_table as B \n",
    "            on C.uid=B.uid where C.dt > \"2017-02-28\" and C.dt <= \"2017-03-04\" and C.uid in \n",
    "                (select X.uid from (select A.uid, min(A.ts),A.dt as First_date from login_table as A GROUP BY A.uid) as X\n",
    "                INNER JOIN login_table B on X.uid=B.uid \n",
    "                where X.First_date != B.dt AND \n",
    "                (SELECT julianday(B.dt) - julianday(X.First_date)=5) \n",
    "                order by First_date ASC) group by C.uid ''' \n",
    "\n",
    "ret5w3 = pd.read_sql(query3, connection)\n",
    "print(\"Total New Week 3 users :\",len(w3),\", and # of Users that login on 5th day: :\" ,len(ret5w3),\" Retention on 5th Day of Week 3 Users: \",len(ret5w3)/len(w3))\n",
    "\n",
    "# Week 3 Seventh day ret\n",
    "\n",
    "query4 = '''SELECT C.uid  from login_table as C\n",
    "            INNER JOIN login_table as B \n",
    "            on C.uid=B.uid where C.dt > \"2017-02-28\" and C.dt <= \"2017-03-04\" and C.uid in \n",
    "                (select X.uid from (select A.uid, min(A.ts),A.dt as First_date from login_table as A GROUP BY A.uid) as X\n",
    "                INNER JOIN login_table B on X.uid=B.uid \n",
    "                where X.First_date != B.dt AND \n",
    "                (SELECT julianday(B.dt) - julianday(X.First_date)=7) \n",
    "                order by First_date ASC) group by C.uid ''' \n",
    "\n",
    "ret7w3 = pd.read_sql(query4, connection)\n",
    "print(\"Total New Week 3 users :\",len(w3),\", and # of Users that login on 7th day: :\" ,len(ret7w3),\" Retention on 7th Day of Week 3 Users: \",len(ret7w3)/len(w3))\n",
    "\n",
    "\n",
    "# Week 3 Tenth day retention\n",
    "\n",
    "query5 = '''SELECT C.uid  from login_table as C\n",
    "            INNER JOIN login_table as B \n",
    "            on C.uid=B.uid where C.dt > \"2017-02-28\" and C.dt <= \"2017-03-04\" and C.uid in \n",
    "                (select X.uid from (select A.uid, min(A.ts),A.dt as First_date from login_table as A GROUP BY A.uid) as X\n",
    "                INNER JOIN login_table B on X.uid=B.uid \n",
    "                where X.First_date != B.dt AND \n",
    "                (SELECT julianday(B.dt) - julianday(X.First_date)=10) \n",
    "                order by First_date ASC) group by C.uid ''' \n",
    "\n",
    "ret10w3 = pd.read_sql(query5, connection)\n",
    "print(\"Total New Week 3 users :\",len(w3),\", and # of Users that login on 10th day: :\" ,len(ret10w3),\" Retention on 10th Day of Week 3 Users: \",len(ret10w3)/len(w3))\n",
    "\n",
    "\n",
    "# Week 3 15th day retention\n",
    "\n",
    "query6 = '''SELECT C.uid  from login_table as C\n",
    "            INNER JOIN login_table as B \n",
    "            on C.uid=B.uid where C.dt > \"2017-02-28\" and C.dt <= \"2017-03-04\" and C.uid in \n",
    "                (select X.uid from (select A.uid, min(A.ts),A.dt as First_date from login_table as A GROUP BY A.uid) as X\n",
    "                INNER JOIN login_table B on X.uid=B.uid \n",
    "                where X.First_date != B.dt AND \n",
    "                (SELECT julianday(B.dt) - julianday(X.First_date)=15) \n",
    "                order by First_date ASC) group by C.uid ''' \n",
    "\n",
    "ret15w3 = pd.read_sql(query6, connection)\n",
    "print(\"Total New Week 3 users :\",len(w3),\", and # of Users that login on 15th day: :\" ,len(ret15w3),\" Retention on 15th Day of Week 3 Users: \",len(ret15w2)/len(w2))\n",
    "\n",
    "# Week 3 20th day retention\n",
    "\n",
    "query7 = '''SELECT C.uid  from login_table as C\n",
    "            INNER JOIN login_table as B \n",
    "            on C.uid=B.uid where C.dt > \"2017-02-28\" and C.dt <= \"2017-03-04\" and C.uid in \n",
    "                (select X.uid from (select A.uid, min(A.ts),A.dt as First_date from login_table as A GROUP BY A.uid) as X\n",
    "                INNER JOIN login_table B on X.uid=B.uid \n",
    "                where X.First_date != B.dt AND \n",
    "                (SELECT julianday(B.dt) - julianday(X.First_date)=20) \n",
    "                order by First_date ASC) group by C.uid ''' \n",
    "\n",
    "ret20w3 = pd.read_sql(query7, connection)\n",
    "print(\"Total New Week 3 users :\",len(w3),\", and # of Users that login on 20th day: :\" ,len(ret20w3),\" Retention on 20th Day of Week 3 Users: \",len(ret20w3)/len(w3))\n",
    "\n",
    "# Week 3 30th day retention\n",
    "\n",
    "query8 = '''SELECT C.uid  from login_table as C\n",
    "            INNER JOIN login_table as B \n",
    "            on C.uid=B.uid where C.dt > \"2017-02-28\" and C.dt <= \"2017-03-04\" and C.uid in \n",
    "                (select X.uid from (select A.uid, min(A.ts),A.dt as First_date from login_table as A GROUP BY A.uid) as X\n",
    "                INNER JOIN login_table B on X.uid=B.uid \n",
    "                where X.First_date != B.dt AND \n",
    "                (SELECT julianday(B.dt) - julianday(X.First_date)=30) \n",
    "                order by First_date ASC) group by C.uid ''' \n",
    "\n",
    "ret30w3 = pd.read_sql(query8, connection)\n",
    "print(\"Total New Week 3 users :\",len(w3),\", and # of Users that login on 30th day: :\" ,len(ret30w3),\" Retention on 30th Day of Week 3 Users: \",len(ret30w3)/len(w3))"
   ]
  },
  {
   "cell_type": "code",
   "execution_count": null,
   "metadata": {},
   "outputs": [],
   "source": []
  },
  {
   "cell_type": "code",
   "execution_count": 44,
   "metadata": {},
   "outputs": [
    {
     "name": "stdout",
     "output_type": "stream",
     "text": [
      "Total new unique users in week 4 (2017-03-04-2017-03-11 ):  582\n",
      "Total New Week 4 users : 582 , and # of Users that login on 1st day: : 316  Retention on 1st Day of Week 4 Users:  0.5429553264604811\n",
      "Total New Week 4 users : 582 , and # of Users that login on 3rd day: : 233  Retention on 3rd Day of Week 4 Users:  0.40034364261168387\n",
      "Total New Week 4 users : 582 , and # of Users that login on 5th day: : 199  Retention on 5th Day of Week 4 Users:  0.34192439862542956\n",
      "Total New Week 4 users : 582 , and # of Users that login on 7th day: : 206  Retention on 7th Day of Week 4 Users:  0.3539518900343643\n",
      "Total New Week 4 users : 582 , and # of Users that login on 10th day: : 159  Retention on 10th Day of Week 4 Users:  0.27319587628865977\n",
      "Total New Week 4 users : 582 , and # of Users that login on 15th day: : 130  Retention on 15th Day of Week 4 Users:  0.21305841924398625\n",
      "Total New Week 4 users : 582 , and # of Users that login on 20th day: : 91  Retention on 20th Day of Week 4 Users:  0.1563573883161512\n",
      "Total New Week 4 users : 582 , and # of Users that login on 30th day: : 72  Retention on 30th Day of Week 4 Users:  0.12371134020618557\n"
     ]
    }
   ],
   "source": [
    "# Lets do same thing for New users For week 4 (First logged Users within 05/03/2017-11/03/2017)\n",
    "\n",
    "query = 'SELECT A.uid , min(A.ts),A.dt as First_Date from login_table as A INNER JOIN login_table as B on A.uid=B.uid where A.dt > \"2017-03-04\" and A.dt <= \"2017-03-11\" group by A.uid ' \n",
    "w4 = pd.read_sql(query, connection)\n",
    "print(\"Total new unique users in week 4 (2017-03-04-2017-03-11 ): \", len(w4))\n",
    "\n",
    "query = '''SELECT C.uid  from login_table as C\n",
    "            INNER JOIN login_table as B \n",
    "            on C.uid=B.uid where C.dt > \"2017-03-04\" and C.dt <= \"2017-03-11\" and C.uid in \n",
    "                (select X.uid from (select A.uid, min(A.ts),A.dt as First_date from login_table as A GROUP BY A.uid) as X\n",
    "                INNER JOIN login_table B on X.uid=B.uid \n",
    "                where X.First_date != B.dt AND \n",
    "                (SELECT julianday(B.dt) - julianday(X.First_date)=1) \n",
    "                order by First_date ASC) group by C.uid ''' \n",
    "\n",
    "ret1w4 = pd.read_sql(query, connection)\n",
    "print(\"Total New Week 4 users :\",len(w4),\", and # of Users that login on 1st day: :\" ,len(ret1w4),\" Retention on 1st Day of Week 4 Users: \",len(ret1w4)/len(w4))\n",
    "\n",
    "# Week 4 Third day ret\n",
    "\n",
    "query2 = '''SELECT C.uid  from login_table as C\n",
    "            INNER JOIN login_table as B \n",
    "            on C.uid=B.uid where C.dt > \"2017-03-04\" and C.dt <= \"2017-03-11\" and C.uid in \n",
    "                (select X.uid from (select A.uid, min(A.ts),A.dt as First_date from login_table as A GROUP BY A.uid) as X\n",
    "                INNER JOIN login_table B on X.uid=B.uid \n",
    "                where X.First_date != B.dt AND \n",
    "                (SELECT julianday(B.dt) - julianday(X.First_date)=3) \n",
    "                order by First_date ASC) group by C.uid ''' \n",
    "\n",
    "ret3w4 = pd.read_sql(query2, connection)\n",
    "print(\"Total New Week 4 users :\",len(w4),\", and # of Users that login on 3rd day: :\" ,len(ret3w4),\" Retention on 3rd Day of Week 4 Users: \",len(ret3w4)/len(w4))\n",
    "\n",
    "\n",
    "# Week 4 Fith day ret\n",
    "\n",
    "query3 = '''SELECT C.uid  from login_table as C\n",
    "            INNER JOIN login_table as B \n",
    "            on C.uid=B.uid where C.dt > \"2017-03-04\" and C.dt <= \"2017-03-11\" and C.uid in \n",
    "                (select X.uid from (select A.uid, min(A.ts),A.dt as First_date from login_table as A GROUP BY A.uid) as X\n",
    "                INNER JOIN login_table B on X.uid=B.uid \n",
    "                where X.First_date != B.dt AND \n",
    "                (SELECT julianday(B.dt) - julianday(X.First_date)=5) \n",
    "                order by First_date ASC) group by C.uid ''' \n",
    "\n",
    "ret5w4 = pd.read_sql(query3, connection)\n",
    "print(\"Total New Week 4 users :\",len(w4),\", and # of Users that login on 5th day: :\" ,len(ret5w4),\" Retention on 5th Day of Week 4 Users: \",len(ret5w4)/len(w4))\n",
    "\n",
    "# Week 4 Seventh day ret\n",
    "\n",
    "query4 = '''SELECT C.uid  from login_table as C\n",
    "            INNER JOIN login_table as B \n",
    "            on C.uid=B.uid where C.dt > \"2017-03-04\" and C.dt <= \"2017-03-11\" and C.uid in \n",
    "                (select X.uid from (select A.uid, min(A.ts),A.dt as First_date from login_table as A GROUP BY A.uid) as X\n",
    "                INNER JOIN login_table B on X.uid=B.uid \n",
    "                where X.First_date != B.dt AND \n",
    "                (SELECT julianday(B.dt) - julianday(X.First_date)=7) \n",
    "                order by First_date ASC) group by C.uid ''' \n",
    "\n",
    "ret7w4 = pd.read_sql(query4, connection)\n",
    "print(\"Total New Week 4 users :\",len(w4),\", and # of Users that login on 7th day: :\" ,len(ret7w4),\" Retention on 7th Day of Week 4 Users: \",len(ret7w4)/len(w4))\n",
    "\n",
    "\n",
    "# Week 4 Tenth day retention\n",
    "\n",
    "query5 = '''SELECT C.uid  from login_table as C\n",
    "            INNER JOIN login_table as B \n",
    "            on C.uid=B.uid where C.dt > \"2017-03-04\" and C.dt <= \"2017-03-11\" and C.uid in \n",
    "                (select X.uid from (select A.uid, min(A.ts),A.dt as First_date from login_table as A GROUP BY A.uid) as X\n",
    "                INNER JOIN login_table B on X.uid=B.uid \n",
    "                where X.First_date != B.dt AND \n",
    "                (SELECT julianday(B.dt) - julianday(X.First_date)=10) \n",
    "                order by First_date ASC) group by C.uid ''' \n",
    "\n",
    "ret10w4 = pd.read_sql(query5, connection)\n",
    "print(\"Total New Week 4 users :\",len(w4),\", and # of Users that login on 10th day: :\" ,len(ret10w4),\" Retention on 10th Day of Week 4 Users: \",len(ret10w4)/len(w4))\n",
    "\n",
    "\n",
    "# Week 4 15th day retention\n",
    "\n",
    "query6 = '''SELECT C.uid  from login_table as C\n",
    "            INNER JOIN login_table as B \n",
    "            on C.uid=B.uid where C.dt > \"2017-03-04\" and C.dt <= \"2017-03-11\" and C.uid in \n",
    "                (select X.uid from (select A.uid, min(A.ts),A.dt as First_date from login_table as A GROUP BY A.uid) as X\n",
    "                INNER JOIN login_table B on X.uid=B.uid \n",
    "                where X.First_date != B.dt AND \n",
    "                (SELECT julianday(B.dt) - julianday(X.First_date)=15) \n",
    "                order by First_date ASC) group by C.uid ''' \n",
    "\n",
    "ret15w4 = pd.read_sql(query6, connection)\n",
    "print(\"Total New Week 4 users :\",len(w4),\", and # of Users that login on 15th day: :\" ,len(ret15w4),\" Retention on 15th Day of Week 4 Users: \",len(ret15w2)/len(w4))\n",
    "\n",
    "# Week 4 20th day retention\n",
    "\n",
    "query7 = '''SELECT C.uid  from login_table as C\n",
    "            INNER JOIN login_table as B \n",
    "            on C.uid=B.uid where C.dt > \"2017-03-04\" and C.dt <= \"2017-03-11\" and C.uid in \n",
    "                (select X.uid from (select A.uid, min(A.ts),A.dt as First_date from login_table as A GROUP BY A.uid) as X\n",
    "                INNER JOIN login_table B on X.uid=B.uid \n",
    "                where X.First_date != B.dt AND \n",
    "                (SELECT julianday(B.dt) - julianday(X.First_date)=20) \n",
    "                order by First_date ASC) group by C.uid ''' \n",
    "\n",
    "ret20w4 = pd.read_sql(query7, connection)\n",
    "print(\"Total New Week 4 users :\",len(w4),\", and # of Users that login on 20th day: :\" ,len(ret20w4),\" Retention on 20th Day of Week 4 Users: \",len(ret20w4)/len(w4))\n",
    "\n",
    "# Week 4 30th day retention\n",
    "\n",
    "query8 = '''SELECT C.uid  from login_table as C\n",
    "            INNER JOIN login_table as B \n",
    "            on C.uid=B.uid where C.dt > \"2017-03-04\" and C.dt <= \"2017-03-11\" and C.uid in \n",
    "                (select X.uid from (select A.uid, min(A.ts),A.dt as First_date from login_table as A GROUP BY A.uid) as X\n",
    "                INNER JOIN login_table B on X.uid=B.uid \n",
    "                where X.First_date != B.dt AND \n",
    "                (SELECT julianday(B.dt) - julianday(X.First_date)=30) \n",
    "                order by First_date ASC) group by C.uid ''' \n",
    "\n",
    "ret30w4 = pd.read_sql(query8, connection)\n",
    "print(\"Total New Week 4 users :\",len(w4),\", and # of Users that login on 30th day: :\" ,len(ret30w4),\" Retention on 30th Day of Week 4 Users: \",len(ret30w4)/len(w4))"
   ]
  },
  {
   "cell_type": "code",
   "execution_count": 45,
   "metadata": {},
   "outputs": [
    {
     "name": "stdout",
     "output_type": "stream",
     "text": [
      "Total new unique users in week 5 (2017-03-12 - 2017-03-18 ):  399\n",
      "Total New Week 5 users : 399 , and # of Users that login on 1st day: : 236  Retention on 1st Day of Week 5 Users:  0.5914786967418546\n",
      "Total New Week 5 users : 399 , and # of Users that login on 3rd day: : 171  Retention on 3rd Day of Week 5 Users:  0.42857142857142855\n",
      "Total New Week 5 users : 399 , and # of Users that login on 5th day: : 142  Retention on 5th Day of Week 5 Users:  0.3558897243107769\n",
      "Total New Week 5 users : 399 , and # of Users that login on 7th day: : 152  Retention on 7th Day of Week 5 Users:  0.38095238095238093\n",
      "Total New Week 5 users : 399 , and # of Users that login on 10th day: : 116  Retention on 10th Day of Week 5 Users:  0.2907268170426065\n",
      "Total New Week 5 users : 399 , and # of Users that login on 15th day: : 127  Retention on 15th Day of Week 5 Users:  0.05225453013063633\n",
      "Total New Week 5 users : 399 , and # of Users that login on 20th day: : 105  Retention on 20th Day of Week 5 Users:  0.2631578947368421\n",
      "Total New Week 5 users : 399 , and # of Users that login on 30th day: : 64  Retention on 30th Day of Week 5 Users:  0.16040100250626566\n"
     ]
    }
   ],
   "source": [
    "# Lets do same thing for New users For week 5 (First logged Users within 12/03/2017-18/03/2017)\n",
    "\n",
    "query = 'SELECT A.uid , min(A.ts),A.dt as First_Date from login_table as A INNER JOIN login_table as B on A.uid=B.uid where A.dt > \"2017-03-11\" and A.dt <= \"2017-03-18\" group by A.uid ' \n",
    "w5 = pd.read_sql(query, connection)\n",
    "print(\"Total new unique users in week 5 (2017-03-12 - 2017-03-18 ): \", len(w5))\n",
    "\n",
    "query = '''SELECT C.uid  from login_table as C\n",
    "            INNER JOIN login_table as B \n",
    "            on C.uid=B.uid where C.dt > \"2017-03-11\" and C.dt <= \"2017-03-18\" and C.uid in \n",
    "                (select X.uid from (select A.uid, min(A.ts),A.dt as First_date from login_table as A GROUP BY A.uid) as X\n",
    "                INNER JOIN login_table B on X.uid=B.uid \n",
    "                where X.First_date != B.dt AND \n",
    "                (SELECT julianday(B.dt) - julianday(X.First_date)=1) \n",
    "                order by First_date ASC) group by C.uid ''' \n",
    "\n",
    "ret1w5 = pd.read_sql(query, connection)\n",
    "print(\"Total New Week 5 users :\",len(w5),\", and # of Users that login on 1st day: :\" ,len(ret1w5),\" Retention on 1st Day of Week 5 Users: \",len(ret1w5)/len(w5))\n",
    "\n",
    "# Week 5 Third day ret\n",
    "\n",
    "query2 = '''SELECT C.uid  from login_table as C\n",
    "            INNER JOIN login_table as B \n",
    "            on C.uid=B.uid where C.dt > \"2017-03-11\" and C.dt <= \"2017-03-18\" and C.uid in \n",
    "                (select X.uid from (select A.uid, min(A.ts),A.dt as First_date from login_table as A GROUP BY A.uid) as X\n",
    "                INNER JOIN login_table B on X.uid=B.uid \n",
    "                where X.First_date != B.dt AND \n",
    "                (SELECT julianday(B.dt) - julianday(X.First_date)=3) \n",
    "                order by First_date ASC) group by C.uid ''' \n",
    "\n",
    "ret3w5 = pd.read_sql(query2, connection)\n",
    "print(\"Total New Week 5 users :\",len(w5),\", and # of Users that login on 3rd day: :\" ,len(ret3w5),\" Retention on 3rd Day of Week 5 Users: \",len(ret3w5)/len(w5))\n",
    "\n",
    "\n",
    "# Week 5 Fith day ret\n",
    "\n",
    "query3 = '''SELECT C.uid  from login_table as C\n",
    "            INNER JOIN login_table as B \n",
    "            on C.uid=B.uid where C.dt > \"2017-03-11\" and C.dt <= \"2017-03-18\" and C.uid in \n",
    "                (select X.uid from (select A.uid, min(A.ts),A.dt as First_date from login_table as A GROUP BY A.uid) as X\n",
    "                INNER JOIN login_table B on X.uid=B.uid \n",
    "                where X.First_date != B.dt AND \n",
    "                (SELECT julianday(B.dt) - julianday(X.First_date)=5) \n",
    "                order by First_date ASC) group by C.uid ''' \n",
    "\n",
    "ret5w5 = pd.read_sql(query3, connection)\n",
    "print(\"Total New Week 5 users :\",len(w5),\", and # of Users that login on 5th day: :\" ,len(ret5w5),\" Retention on 5th Day of Week 5 Users: \",len(ret5w5)/len(w5))\n",
    "\n",
    "# Week 5 Seventh day ret\n",
    "\n",
    "query4 = '''SELECT C.uid  from login_table as C\n",
    "            INNER JOIN login_table as B \n",
    "            on C.uid=B.uid where C.dt > \"2017-03-11\" and C.dt <= \"2017-03-18\" and C.uid in \n",
    "                (select X.uid from (select A.uid, min(A.ts),A.dt as First_date from login_table as A GROUP BY A.uid) as X\n",
    "                INNER JOIN login_table B on X.uid=B.uid \n",
    "                where X.First_date != B.dt AND \n",
    "                (SELECT julianday(B.dt) - julianday(X.First_date)=7) \n",
    "                order by First_date ASC) group by C.uid ''' \n",
    "\n",
    "ret7w5 = pd.read_sql(query4, connection)\n",
    "print(\"Total New Week 5 users :\",len(w5),\", and # of Users that login on 7th day: :\" ,len(ret7w5),\" Retention on 7th Day of Week 5 Users: \",len(ret7w5)/len(w5))\n",
    "\n",
    "\n",
    "# Week 5 Tenth day retention\n",
    "\n",
    "query5 = '''SELECT C.uid  from login_table as C\n",
    "            INNER JOIN login_table as B \n",
    "            on C.uid=B.uid where C.dt > \"2017-03-11\" and C.dt <= \"2017-03-18\" and C.uid in \n",
    "                (select X.uid from (select A.uid, min(A.ts),A.dt as First_date from login_table as A GROUP BY A.uid) as X\n",
    "                INNER JOIN login_table B on X.uid=B.uid \n",
    "                where X.First_date != B.dt AND \n",
    "                (SELECT julianday(B.dt) - julianday(X.First_date)=10) \n",
    "                order by First_date ASC) group by C.uid ''' \n",
    "\n",
    "ret10w5 = pd.read_sql(query5, connection)\n",
    "print(\"Total New Week 5 users :\",len(w5),\", and # of Users that login on 10th day: :\" ,len(ret10w5),\" Retention on 10th Day of Week 5 Users: \",len(ret10w5)/len(w5))\n",
    "\n",
    "\n",
    "# Week 5 15th day retention\n",
    "\n",
    "query6 = '''SELECT C.uid  from login_table as C\n",
    "            INNER JOIN login_table as B \n",
    "            on C.uid=B.uid where C.dt > \"2017-03-11\" and C.dt <= \"2017-03-18\" and C.uid in \n",
    "                (select X.uid from (select A.uid, min(A.ts),A.dt as First_date from login_table as A GROUP BY A.uid) as X\n",
    "                INNER JOIN login_table B on X.uid=B.uid \n",
    "                where X.First_date != B.dt AND \n",
    "                (SELECT julianday(B.dt) - julianday(X.First_date)=15) \n",
    "                order by First_date ASC) group by C.uid ''' \n",
    "\n",
    "ret15w5 = pd.read_sql(query6, connection)\n",
    "print(\"Total New Week 5 users :\",len(w5),\", and # of Users that login on 15th day: :\" ,len(ret15w5),\" Retention on 15th Day of Week 5 Users: \",len(ret15w2)/len(w2))\n",
    "\n",
    "# Week 5 20th day retention\n",
    "\n",
    "query7 = '''SELECT C.uid  from login_table as C\n",
    "            INNER JOIN login_table as B \n",
    "            on C.uid=B.uid where C.dt > \"2017-03-11\" and C.dt <= \"2017-03-18\" and C.uid in \n",
    "                (select X.uid from (select A.uid, min(A.ts),A.dt as First_date from login_table as A GROUP BY A.uid) as X\n",
    "                INNER JOIN login_table B on X.uid=B.uid \n",
    "                where X.First_date != B.dt AND \n",
    "                (SELECT julianday(B.dt) - julianday(X.First_date)=20) \n",
    "                order by First_date ASC) group by C.uid ''' \n",
    "\n",
    "ret20w5 = pd.read_sql(query7, connection)\n",
    "print(\"Total New Week 5 users :\",len(w5),\", and # of Users that login on 20th day: :\" ,len(ret20w5),\" Retention on 20th Day of Week 5 Users: \",len(ret20w5)/len(w5))\n",
    "\n",
    "# Week 5 30th day retention\n",
    "\n",
    "query8 = '''SELECT C.uid  from login_table as C\n",
    "            INNER JOIN login_table as B \n",
    "            on C.uid=B.uid where C.dt > \"2017-03-11\" and C.dt <= \"2017-03-18\" and C.uid in \n",
    "                (select X.uid from (select A.uid, min(A.ts),A.dt as First_date from login_table as A GROUP BY A.uid) as X\n",
    "                INNER JOIN login_table B on X.uid=B.uid \n",
    "                where X.First_date != B.dt AND \n",
    "                (SELECT julianday(B.dt) - julianday(X.First_date)=30) \n",
    "                order by First_date ASC) group by C.uid ''' \n",
    "\n",
    "ret30w5 = pd.read_sql(query8, connection)\n",
    "print(\"Total New Week 5 users :\",len(w5),\", and # of Users that login on 30th day: :\" ,len(ret30w5),\" Retention on 30th Day of Week 5 Users: \",len(ret30w5)/len(w5))"
   ]
  },
  {
   "cell_type": "markdown",
   "metadata": {},
   "source": [
    "Currently, we calculated the 1st,3rd,5th,7th,10th,15th,20th,30th retention for new users in  First,second,third ,fourth and fifth week\n",
    "\n",
    "\n",
    "### Let's Visualize it "
   ]
  },
  {
   "cell_type": "code",
   "execution_count": 46,
   "metadata": {},
   "outputs": [
    {
     "data": {
      "application/vnd.plotly.v1+json": {
       "config": {
        "linkText": "Export to plot.ly",
        "plotlyServerURL": "https://plot.ly",
        "showLink": false
       },
       "data": [
        {
         "marker": {
          "color": "#598AC6"
         },
         "mode": "lines",
         "name": "Week1",
         "type": "scatter",
         "uid": "9fb6f7ab-e6d4-4471-b419-94bceb48b940",
         "x": [
          1,
          3,
          5,
          7,
          10,
          15,
          20,
          30
         ],
         "y": [
          0.3142857142857143,
          0.12142857142857143,
          0.09285714285714286,
          0.05,
          0.03571428571428571,
          0.04285714285714286,
          0.02857142857142857,
          0.007142857142857143
         ]
        },
        {
         "marker": {
          "color": "#E25D29"
         },
         "mode": "lines",
         "name": "Week2",
         "type": "scatter",
         "uid": "ff30aa92-43b0-40dc-81f2-89ebdd41d35f",
         "x": [
          1,
          3,
          5,
          7,
          10,
          15,
          20,
          30
         ],
         "y": [
          0.30973451327433627,
          0.16097766540244415,
          0.11040876527602192,
          0.0897597977243995,
          0.06236831015592077,
          0.05225453013063633,
          0.03961230509903076,
          0.032448377581120944
         ]
        },
        {
         "marker": {
          "color": "#497D40"
         },
         "mode": "lines",
         "name": "Week3",
         "type": "scatter",
         "uid": "a46908d8-115f-4b7c-8499-a410ae094cae",
         "x": [
          1,
          3,
          5,
          7,
          10,
          15,
          20,
          30
         ],
         "y": [
          0.5783308931185944,
          0.45095168374816985,
          0.36603221083455345,
          0.31332357247437775,
          0.20644216691068815,
          0.17423133235724744,
          0.1171303074670571,
          0.09956076134699854
         ]
        },
        {
         "marker": {
          "color": "#ca5462"
         },
         "mode": "lines",
         "name": "Week4",
         "type": "scatter",
         "uid": "37f67fa4-c919-4472-a6ec-ffef2c8c294a",
         "x": [
          1,
          3,
          5,
          7,
          10,
          15,
          20,
          30
         ],
         "y": [
          0.5429553264604811,
          0.40034364261168387,
          0.34192439862542956,
          0.3539518900343643,
          0.27319587628865977,
          0.22336769759450173,
          0.1563573883161512,
          0.12371134020618557
         ]
        },
        {
         "marker": {
          "color": "#000000"
         },
         "mode": "lines",
         "name": "Week5",
         "type": "scatter",
         "uid": "cbfaaa1d-6dab-4dc8-aaea-eca67936a5e7",
         "x": [
          1,
          3,
          5,
          7,
          10,
          15,
          20,
          30
         ],
         "y": [
          0.5914786967418546,
          0.42857142857142855,
          0.3558897243107769,
          0.38095238095238093,
          0.2907268170426065,
          0.3182957393483709,
          0.2631578947368421,
          0.16040100250626566
         ]
        }
       ],
       "layout": {
        "height": 750,
        "legend": {
         "orientation": "h",
         "x": -0.01,
         "y": 1
        },
        "title": {
         "text": "Range Retention"
        },
        "xaxis": {
         "ticklen": 1,
         "title": {
          "text": " n'th day later "
         }
        }
       }
      },
      "text/html": [
       "<div id=\"77fe3cc1-df9a-4984-8d7e-feaecd769611\" style=\"height: 750px; width: 100%;\" class=\"plotly-graph-div\"></div><script type=\"text/javascript\">require([\"plotly\"], function(Plotly) { window.PLOTLYENV=window.PLOTLYENV || {};window.PLOTLYENV.BASE_URL=\"https://plot.ly\";Plotly.newPlot(\"77fe3cc1-df9a-4984-8d7e-feaecd769611\", [{\"marker\": {\"color\": \"#598AC6\"}, \"mode\": \"lines\", \"name\": \"Week1\", \"x\": [1, 3, 5, 7, 10, 15, 20, 30], \"y\": [0.3142857142857143, 0.12142857142857143, 0.09285714285714286, 0.05, 0.03571428571428571, 0.04285714285714286, 0.02857142857142857, 0.007142857142857143], \"type\": \"scatter\", \"uid\": \"cb75c84b-2109-4084-944d-a702e8625264\"}, {\"marker\": {\"color\": \"#E25D29\"}, \"mode\": \"lines\", \"name\": \"Week2\", \"x\": [1, 3, 5, 7, 10, 15, 20, 30], \"y\": [0.30973451327433627, 0.16097766540244415, 0.11040876527602192, 0.0897597977243995, 0.06236831015592077, 0.05225453013063633, 0.03961230509903076, 0.032448377581120944], \"type\": \"scatter\", \"uid\": \"69b90756-a489-4543-b1eb-3ed0a6a33fb8\"}, {\"marker\": {\"color\": \"#497D40\"}, \"mode\": \"lines\", \"name\": \"Week3\", \"x\": [1, 3, 5, 7, 10, 15, 20, 30], \"y\": [0.5783308931185944, 0.45095168374816985, 0.36603221083455345, 0.31332357247437775, 0.20644216691068815, 0.17423133235724744, 0.1171303074670571, 0.09956076134699854], \"type\": \"scatter\", \"uid\": \"855a9567-5e90-4dd0-a9f3-9a15308748b2\"}, {\"marker\": {\"color\": \"#ca5462\"}, \"mode\": \"lines\", \"name\": \"Week4\", \"x\": [1, 3, 5, 7, 10, 15, 20, 30], \"y\": [0.5429553264604811, 0.40034364261168387, 0.34192439862542956, 0.3539518900343643, 0.27319587628865977, 0.22336769759450173, 0.1563573883161512, 0.12371134020618557], \"type\": \"scatter\", \"uid\": \"c41b03a3-7458-4587-a9d9-f9eb909ee0f5\"}, {\"marker\": {\"color\": \"#000000\"}, \"mode\": \"lines\", \"name\": \"Week5\", \"x\": [1, 3, 5, 7, 10, 15, 20, 30], \"y\": [0.5914786967418546, 0.42857142857142855, 0.3558897243107769, 0.38095238095238093, 0.2907268170426065, 0.3182957393483709, 0.2631578947368421, 0.16040100250626566], \"type\": \"scatter\", \"uid\": \"dd5468ae-115d-40ed-a549-e1653d912738\"}], {\"height\": 750, \"legend\": {\"orientation\": \"h\", \"x\": -0.01, \"y\": 1}, \"title\": {\"text\": \"Range Retention\"}, \"xaxis\": {\"ticklen\": 1, \"title\": {\"text\": \" n'th day later \"}}}, {\"showLink\": false, \"linkText\": \"Export to plot.ly\", \"plotlyServerURL\": \"https://plot.ly\"})});</script><script type=\"text/javascript\">window.addEventListener(\"resize\", function(){window._Plotly.Plots.resize(document.getElementById(\"77fe3cc1-df9a-4984-8d7e-feaecd769611\"));});</script>"
      ],
      "text/vnd.plotly.v1+html": [
       "<div id=\"77fe3cc1-df9a-4984-8d7e-feaecd769611\" style=\"height: 750px; width: 100%;\" class=\"plotly-graph-div\"></div><script type=\"text/javascript\">require([\"plotly\"], function(Plotly) { window.PLOTLYENV=window.PLOTLYENV || {};window.PLOTLYENV.BASE_URL=\"https://plot.ly\";Plotly.newPlot(\"77fe3cc1-df9a-4984-8d7e-feaecd769611\", [{\"marker\": {\"color\": \"#598AC6\"}, \"mode\": \"lines\", \"name\": \"Week1\", \"x\": [1, 3, 5, 7, 10, 15, 20, 30], \"y\": [0.3142857142857143, 0.12142857142857143, 0.09285714285714286, 0.05, 0.03571428571428571, 0.04285714285714286, 0.02857142857142857, 0.007142857142857143], \"type\": \"scatter\", \"uid\": \"cb75c84b-2109-4084-944d-a702e8625264\"}, {\"marker\": {\"color\": \"#E25D29\"}, \"mode\": \"lines\", \"name\": \"Week2\", \"x\": [1, 3, 5, 7, 10, 15, 20, 30], \"y\": [0.30973451327433627, 0.16097766540244415, 0.11040876527602192, 0.0897597977243995, 0.06236831015592077, 0.05225453013063633, 0.03961230509903076, 0.032448377581120944], \"type\": \"scatter\", \"uid\": \"69b90756-a489-4543-b1eb-3ed0a6a33fb8\"}, {\"marker\": {\"color\": \"#497D40\"}, \"mode\": \"lines\", \"name\": \"Week3\", \"x\": [1, 3, 5, 7, 10, 15, 20, 30], \"y\": [0.5783308931185944, 0.45095168374816985, 0.36603221083455345, 0.31332357247437775, 0.20644216691068815, 0.17423133235724744, 0.1171303074670571, 0.09956076134699854], \"type\": \"scatter\", \"uid\": \"855a9567-5e90-4dd0-a9f3-9a15308748b2\"}, {\"marker\": {\"color\": \"#ca5462\"}, \"mode\": \"lines\", \"name\": \"Week4\", \"x\": [1, 3, 5, 7, 10, 15, 20, 30], \"y\": [0.5429553264604811, 0.40034364261168387, 0.34192439862542956, 0.3539518900343643, 0.27319587628865977, 0.22336769759450173, 0.1563573883161512, 0.12371134020618557], \"type\": \"scatter\", \"uid\": \"c41b03a3-7458-4587-a9d9-f9eb909ee0f5\"}, {\"marker\": {\"color\": \"#000000\"}, \"mode\": \"lines\", \"name\": \"Week5\", \"x\": [1, 3, 5, 7, 10, 15, 20, 30], \"y\": [0.5914786967418546, 0.42857142857142855, 0.3558897243107769, 0.38095238095238093, 0.2907268170426065, 0.3182957393483709, 0.2631578947368421, 0.16040100250626566], \"type\": \"scatter\", \"uid\": \"dd5468ae-115d-40ed-a549-e1653d912738\"}], {\"height\": 750, \"legend\": {\"orientation\": \"h\", \"x\": -0.01, \"y\": 1}, \"title\": {\"text\": \"Range Retention\"}, \"xaxis\": {\"ticklen\": 1, \"title\": {\"text\": \" n'th day later \"}}}, {\"showLink\": false, \"linkText\": \"Export to plot.ly\", \"plotlyServerURL\": \"https://plot.ly\"})});</script><script type=\"text/javascript\">window.addEventListener(\"resize\", function(){window._Plotly.Plots.resize(document.getElementById(\"77fe3cc1-df9a-4984-8d7e-feaecd769611\"));});</script>"
      ]
     },
     "metadata": {},
     "output_type": "display_data"
    }
   ],
   "source": [
    "\n",
    "retw1=[len(ret1w1)/len(w1),len(ret3w1)/len(w1),len(ret5w1)/len(w1),len(ret7w1)/len(w1),len(ret10w1)/len(w1),len(ret15w1)/len(w1),len(ret20w1)/len(w1),len(ret30w1)/len(w1)]\n",
    "retw2=[len(ret1w2)/len(w2),len(ret3w2)/len(w2),len(ret5w2)/len(w2),len(ret7w2)/len(w2),len(ret10w2)/len(w2),len(ret15w2)/len(w2),len(ret20w2)/len(w2),len(ret30w2)/len(w2)]\n",
    "retw3=[len(ret1w3)/len(w3),len(ret3w3)/len(w3),len(ret5w3)/len(w3),len(ret7w3)/len(w3),len(ret10w3)/len(w3),len(ret15w3)/len(w3),len(ret20w3)/len(w3),len(ret30w3)/len(w3)]\n",
    "retw4=[len(ret1w4)/len(w4),len(ret3w4)/len(w4),len(ret5w4)/len(w4),len(ret7w4)/len(w4),len(ret10w4)/len(w4),len(ret15w4)/len(w4),len(ret20w4)/len(w4),len(ret30w4)/len(w4)]\n",
    "retw5=[len(ret1w5)/len(w5),len(ret3w5)/len(w5),len(ret5w5)/len(w5),len(ret7w5)/len(w5),len(ret10w5)/len(w5),len(ret15w5)/len(w5),len(ret20w5)/len(w5),len(ret30w5)/len(w5)]\n",
    "\n",
    "\n",
    "d = {'Week1': retw1, 'Week2': retw2,'Week3':retw3,'Week4':retw4,'Week5':retw5, 'Day': [1,3,5,7,10,15,20,30]}\n",
    "dummy = pd.DataFrame(data=d)\n",
    "\n",
    "\n",
    "trace1 = go.Scatter(x = dummy['Day'], y = dummy['Week1'], name='Week1', mode = \"lines\", marker = dict(color = '#598AC6'))\n",
    "trace2 = go.Scatter(x = dummy['Day'], y = dummy['Week2'], name=\"Week2\", mode = \"lines\", marker = dict(color = '#E25D29'))\n",
    "trace3 = go.Scatter(x = dummy['Day'], y = dummy['Week3'], name=\"Week3\", mode = \"lines\", marker = dict(color = '#497D40'))\n",
    "trace4 = go.Scatter(x = dummy['Day'], y = dummy['Week4'], name=\"Week4\", mode = \"lines\", marker = dict(color = '#ca5462'))\n",
    "trace5 = go.Scatter(x = dummy['Day'], y = dummy['Week5'], name=\"Week5\", mode = \"lines\", marker = dict(color = '#000000'))\n",
    "\n",
    "data = [trace1, trace2,trace3,trace4,trace5]\n",
    "layout = dict(height=750, title = 'Range Retention', legend=dict(orientation=\"h\", x=-.01, y=1), xaxis= dict(title=\" n'th day later \", ticklen= 1))\n",
    "fig = dict(data = data, layout = layout)\n",
    "iplot(fig)\n"
   ]
  },
  {
   "cell_type": "markdown",
   "metadata": {},
   "source": [
    "In the first and second week retention started with %30 , while in week 3,4,5 started with above 40% , this means that  i some actions  might be affected  to user behaviour or it is due magnetitude of numbers from different weeks. For example, week 2 pool is approxiately 2000 user while weeek 3,4 and 5 is lied around 500. This means that week 2 gave more consistent results.\n",
    "However,even there are different retention values in different weeks, but they all converge after a certain number of days."
   ]
  },
  {
   "cell_type": "markdown",
   "metadata": {},
   "source": [
    "<br><br>\n",
    "\n",
    "## <a id=\"4\">4.  Game Metrics </a>"
   ]
  },
  {
   "cell_type": "markdown",
   "metadata": {},
   "source": [
    "### <a id=\"4.1\">4.1. Average Game Duration </a>\n",
    "\n",
    "Duration information has already supported in end-game table, so i can easily group them by day and  calculate the mean of it. \n"
   ]
  },
  {
   "cell_type": "code",
   "execution_count": 47,
   "metadata": {},
   "outputs": [
    {
     "data": {
      "text/html": [
       "<div>\n",
       "<style scoped>\n",
       "    .dataframe tbody tr th:only-of-type {\n",
       "        vertical-align: middle;\n",
       "    }\n",
       "\n",
       "    .dataframe tbody tr th {\n",
       "        vertical-align: top;\n",
       "    }\n",
       "\n",
       "    .dataframe thead th {\n",
       "        text-align: right;\n",
       "    }\n",
       "</style>\n",
       "<table border=\"1\" class=\"dataframe\">\n",
       "  <thead>\n",
       "    <tr style=\"text-align: right;\">\n",
       "      <th></th>\n",
       "      <th>Average_duration</th>\n",
       "      <th>dt</th>\n",
       "    </tr>\n",
       "  </thead>\n",
       "  <tbody>\n",
       "    <tr>\n",
       "      <th>0</th>\n",
       "      <td>229.832467</td>\n",
       "      <td>14/02/17</td>\n",
       "    </tr>\n",
       "    <tr>\n",
       "      <th>1</th>\n",
       "      <td>215.271250</td>\n",
       "      <td>16/02/17</td>\n",
       "    </tr>\n",
       "    <tr>\n",
       "      <th>2</th>\n",
       "      <td>225.244665</td>\n",
       "      <td>20/02/17</td>\n",
       "    </tr>\n",
       "  </tbody>\n",
       "</table>\n",
       "</div>"
      ],
      "text/plain": [
       "   Average_duration        dt\n",
       "0        229.832467  14/02/17\n",
       "1        215.271250  16/02/17\n",
       "2        225.244665  20/02/17"
      ]
     },
     "execution_count": 47,
     "metadata": {},
     "output_type": "execute_result"
    }
   ],
   "source": [
    "query = 'SELECT  AVG(duration) as Average_duration, dt from end_table  group by dt ORDER BY ts asc' #\n",
    "end_info = pd.read_sql(query, connection)\n",
    "end_info.head(3)"
   ]
  },
  {
   "cell_type": "code",
   "execution_count": 48,
   "metadata": {},
   "outputs": [
    {
     "data": {
      "text/plain": [
       "278.7908108513283"
      ]
     },
     "execution_count": 48,
     "metadata": {},
     "output_type": "execute_result"
    }
   ],
   "source": [
    "AVG_GAME_DUR=end_info['Average_duration'].mean()\n",
    "AVG_GAME_DUR"
   ]
  },
  {
   "cell_type": "markdown",
   "metadata": {},
   "source": [
    "### Daily Average Game Duration Graph\n",
    "<br>\n",
    "\n"
   ]
  },
  {
   "cell_type": "code",
   "execution_count": 49,
   "metadata": {},
   "outputs": [
    {
     "data": {
      "application/vnd.plotly.v1+json": {
       "config": {
        "linkText": "Export to plot.ly",
        "plotlyServerURL": "https://plot.ly",
        "showLink": false
       },
       "data": [
        {
         "marker": {
          "color": "#598AC6"
         },
         "mode": "lines",
         "name": "Duration",
         "type": "scatter",
         "uid": "bedf6c9b-3d00-4ef6-bc65-da669e497798",
         "x": [
          "2017-02-14",
          "2017-02-16",
          "2017-02-20",
          "2017-02-21",
          "2017-02-22",
          "2017-02-23",
          "2017-02-24",
          "2017-02-25",
          "2017-02-26",
          "2017-02-27",
          "2017-02-28",
          "2017-03-01",
          "2017-03-02",
          "2017-03-03",
          "2017-03-04",
          "2017-03-05",
          "2017-03-06",
          "2017-03-07",
          "2017-03-08",
          "2017-03-09",
          "2017-03-10",
          "2017-03-11",
          "2017-03-12",
          "2017-03-13",
          "2017-03-14",
          "2017-03-15",
          "2017-03-16",
          "2017-03-17",
          "2017-03-18",
          "2017-03-19",
          "2017-03-20",
          "2017-03-21",
          "2017-03-22",
          "2017-03-23",
          "2017-03-24",
          "2017-03-25",
          "2017-03-26",
          "2017-03-27",
          "2017-03-28",
          "2017-03-29",
          "2017-03-30",
          "2017-03-31",
          "2017-04-01",
          "2017-04-02",
          "2017-04-03",
          "2017-04-04",
          "2017-04-05",
          "2017-04-06",
          "2017-04-07",
          "2017-04-08",
          "2017-04-09",
          "2017-04-10",
          "2017-04-11",
          "2017-04-12",
          "2017-04-13",
          "2017-04-14"
         ],
         "y": [
          229.83246666666665,
          215.27125,
          225.24466458333336,
          278.1897964552241,
          269.6920259612509,
          271.76448636663025,
          264.2327819356868,
          272.3833235976865,
          277.05022317569495,
          268.6521556759708,
          274.106614863957,
          321.75657290287006,
          278.9569382823356,
          271.2067535775177,
          264.43544600713426,
          287.0618040519158,
          284.21234100465045,
          289.75547827230446,
          297.89371429117955,
          289.6764259672244,
          271.25778582153276,
          299.36776919712514,
          283.1243711926604,
          296.5077963219022,
          288.4643736200002,
          273.33132140176593,
          293.88892746217317,
          267.45133008838366,
          266.09061011722616,
          279.8117618029345,
          287.61198075016364,
          281.8084840404186,
          284.6232194465407,
          299.5446348821291,
          292.3699609024791,
          267.36135994566433,
          282.21358827968743,
          311.1909802027291,
          283.6187175581395,
          279.8632820286127,
          299.6805186285714,
          292.207067964427,
          268.47837410373427,
          272.56188045540796,
          274.72056953020126,
          309.8606593821992,
          283.8009638574939,
          281.609592729805,
          256.7227299489983,
          275.55259686084906,
          293.71087058656343,
          283.60261513589734,
          272.16742977715904,
          275.17287668796075,
          272.3868009104116,
          279.17234241320295
         ]
        }
       ],
       "layout": {
        "height": 750,
        "legend": {
         "orientation": "h",
         "x": -0.01,
         "y": 1
        },
        "title": {
         "text": "Daily Average Duration (Second)"
        },
        "xaxis": {
         "ticklen": 1,
         "title": {
          "text": "Datetime"
         }
        }
       }
      },
      "text/html": [
       "<div id=\"29a59211-f372-4a3a-b6fa-79badd3bed8a\" style=\"height: 750px; width: 100%;\" class=\"plotly-graph-div\"></div><script type=\"text/javascript\">require([\"plotly\"], function(Plotly) { window.PLOTLYENV=window.PLOTLYENV || {};window.PLOTLYENV.BASE_URL=\"https://plot.ly\";Plotly.newPlot(\"29a59211-f372-4a3a-b6fa-79badd3bed8a\", [{\"marker\": {\"color\": \"#598AC6\"}, \"mode\": \"lines\", \"name\": \"Duration\", \"x\": [\"2017-02-14\", \"2017-02-16\", \"2017-02-20\", \"2017-02-21\", \"2017-02-22\", \"2017-02-23\", \"2017-02-24\", \"2017-02-25\", \"2017-02-26\", \"2017-02-27\", \"2017-02-28\", \"2017-03-01\", \"2017-03-02\", \"2017-03-03\", \"2017-03-04\", \"2017-03-05\", \"2017-03-06\", \"2017-03-07\", \"2017-03-08\", \"2017-03-09\", \"2017-03-10\", \"2017-03-11\", \"2017-03-12\", \"2017-03-13\", \"2017-03-14\", \"2017-03-15\", \"2017-03-16\", \"2017-03-17\", \"2017-03-18\", \"2017-03-19\", \"2017-03-20\", \"2017-03-21\", \"2017-03-22\", \"2017-03-23\", \"2017-03-24\", \"2017-03-25\", \"2017-03-26\", \"2017-03-27\", \"2017-03-28\", \"2017-03-29\", \"2017-03-30\", \"2017-03-31\", \"2017-04-01\", \"2017-04-02\", \"2017-04-03\", \"2017-04-04\", \"2017-04-05\", \"2017-04-06\", \"2017-04-07\", \"2017-04-08\", \"2017-04-09\", \"2017-04-10\", \"2017-04-11\", \"2017-04-12\", \"2017-04-13\", \"2017-04-14\"], \"y\": [229.83246666666665, 215.27125, 225.24466458333336, 278.1897964552241, 269.6920259612509, 271.76448636663025, 264.2327819356868, 272.3833235976865, 277.05022317569495, 268.6521556759708, 274.106614863957, 321.75657290287006, 278.9569382823356, 271.2067535775177, 264.43544600713426, 287.0618040519158, 284.21234100465045, 289.75547827230446, 297.89371429117955, 289.6764259672244, 271.25778582153276, 299.36776919712514, 283.1243711926604, 296.5077963219022, 288.4643736200002, 273.33132140176593, 293.88892746217317, 267.45133008838366, 266.09061011722616, 279.8117618029345, 287.61198075016364, 281.8084840404186, 284.6232194465407, 299.5446348821291, 292.3699609024791, 267.36135994566433, 282.21358827968743, 311.1909802027291, 283.6187175581395, 279.8632820286127, 299.6805186285714, 292.207067964427, 268.47837410373427, 272.56188045540796, 274.72056953020126, 309.8606593821992, 283.8009638574939, 281.609592729805, 256.7227299489983, 275.55259686084906, 293.71087058656343, 283.60261513589734, 272.16742977715904, 275.17287668796075, 272.3868009104116, 279.17234241320295], \"type\": \"scatter\", \"uid\": \"c582d916-f3c6-4721-8ca9-bef58168a198\"}], {\"height\": 750, \"legend\": {\"orientation\": \"h\", \"x\": -0.01, \"y\": 1}, \"title\": {\"text\": \"Daily Average Duration (Second)\"}, \"xaxis\": {\"ticklen\": 1, \"title\": {\"text\": \"Datetime\"}}}, {\"showLink\": false, \"linkText\": \"Export to plot.ly\", \"plotlyServerURL\": \"https://plot.ly\"})});</script><script type=\"text/javascript\">window.addEventListener(\"resize\", function(){window._Plotly.Plots.resize(document.getElementById(\"29a59211-f372-4a3a-b6fa-79badd3bed8a\"));});</script>"
      ],
      "text/vnd.plotly.v1+html": [
       "<div id=\"29a59211-f372-4a3a-b6fa-79badd3bed8a\" style=\"height: 750px; width: 100%;\" class=\"plotly-graph-div\"></div><script type=\"text/javascript\">require([\"plotly\"], function(Plotly) { window.PLOTLYENV=window.PLOTLYENV || {};window.PLOTLYENV.BASE_URL=\"https://plot.ly\";Plotly.newPlot(\"29a59211-f372-4a3a-b6fa-79badd3bed8a\", [{\"marker\": {\"color\": \"#598AC6\"}, \"mode\": \"lines\", \"name\": \"Duration\", \"x\": [\"2017-02-14\", \"2017-02-16\", \"2017-02-20\", \"2017-02-21\", \"2017-02-22\", \"2017-02-23\", \"2017-02-24\", \"2017-02-25\", \"2017-02-26\", \"2017-02-27\", \"2017-02-28\", \"2017-03-01\", \"2017-03-02\", \"2017-03-03\", \"2017-03-04\", \"2017-03-05\", \"2017-03-06\", \"2017-03-07\", \"2017-03-08\", \"2017-03-09\", \"2017-03-10\", \"2017-03-11\", \"2017-03-12\", \"2017-03-13\", \"2017-03-14\", \"2017-03-15\", \"2017-03-16\", \"2017-03-17\", \"2017-03-18\", \"2017-03-19\", \"2017-03-20\", \"2017-03-21\", \"2017-03-22\", \"2017-03-23\", \"2017-03-24\", \"2017-03-25\", \"2017-03-26\", \"2017-03-27\", \"2017-03-28\", \"2017-03-29\", \"2017-03-30\", \"2017-03-31\", \"2017-04-01\", \"2017-04-02\", \"2017-04-03\", \"2017-04-04\", \"2017-04-05\", \"2017-04-06\", \"2017-04-07\", \"2017-04-08\", \"2017-04-09\", \"2017-04-10\", \"2017-04-11\", \"2017-04-12\", \"2017-04-13\", \"2017-04-14\"], \"y\": [229.83246666666665, 215.27125, 225.24466458333336, 278.1897964552241, 269.6920259612509, 271.76448636663025, 264.2327819356868, 272.3833235976865, 277.05022317569495, 268.6521556759708, 274.106614863957, 321.75657290287006, 278.9569382823356, 271.2067535775177, 264.43544600713426, 287.0618040519158, 284.21234100465045, 289.75547827230446, 297.89371429117955, 289.6764259672244, 271.25778582153276, 299.36776919712514, 283.1243711926604, 296.5077963219022, 288.4643736200002, 273.33132140176593, 293.88892746217317, 267.45133008838366, 266.09061011722616, 279.8117618029345, 287.61198075016364, 281.8084840404186, 284.6232194465407, 299.5446348821291, 292.3699609024791, 267.36135994566433, 282.21358827968743, 311.1909802027291, 283.6187175581395, 279.8632820286127, 299.6805186285714, 292.207067964427, 268.47837410373427, 272.56188045540796, 274.72056953020126, 309.8606593821992, 283.8009638574939, 281.609592729805, 256.7227299489983, 275.55259686084906, 293.71087058656343, 283.60261513589734, 272.16742977715904, 275.17287668796075, 272.3868009104116, 279.17234241320295], \"type\": \"scatter\", \"uid\": \"c582d916-f3c6-4721-8ca9-bef58168a198\"}], {\"height\": 750, \"legend\": {\"orientation\": \"h\", \"x\": -0.01, \"y\": 1}, \"title\": {\"text\": \"Daily Average Duration (Second)\"}, \"xaxis\": {\"ticklen\": 1, \"title\": {\"text\": \"Datetime\"}}}, {\"showLink\": false, \"linkText\": \"Export to plot.ly\", \"plotlyServerURL\": \"https://plot.ly\"})});</script><script type=\"text/javascript\">window.addEventListener(\"resize\", function(){window._Plotly.Plots.resize(document.getElementById(\"29a59211-f372-4a3a-b6fa-79badd3bed8a\"));});</script>"
      ]
     },
     "metadata": {},
     "output_type": "display_data"
    }
   ],
   "source": [
    "trace1 = go.Scatter(x =  pd.to_datetime(end_info['dt'],format='%d/%m/%y'), y = end_info['Average_duration'], name='Duration', mode = \"lines\", marker = dict(color = '#598AC6'))\n",
    "\n",
    "data = [trace1]\n",
    "layout = dict(height=750, title = 'Daily Average Duration (Second)', legend=dict(orientation=\"h\", x=-.01, y=1), xaxis= dict(title=\"Datetime\", ticklen= 1))\n",
    "fig = dict(data = data, layout = layout)\n",
    "iplot(fig)\n",
    "\n"
   ]
  },
  {
   "cell_type": "markdown",
   "metadata": {},
   "source": [
    "### Game Duration Distribution"
   ]
  },
  {
   "cell_type": "markdown",
   "metadata": {},
   "source": [
    "Seaborn  already take care it for me by applying kernel density function."
   ]
  },
  {
   "cell_type": "code",
   "execution_count": 50,
   "metadata": {},
   "outputs": [
    {
     "data": {
      "image/png": "[encoded data removed]",
      "text/plain": [
       "<matplotlib.figure.Figure at 0x22fd87c4160>"
      ]
     },
     "metadata": {
      "needs_background": "light"
     },
     "output_type": "display_data"
    }
   ],
   "source": [
    "\n",
    "import matplotlib.pyplot as plt\n",
    "import seaborn as sns\n",
    "sns.set_style(\"darkgrid\")\n",
    "import warnings \n",
    "warnings.simplefilter('ignore')\n",
    "%matplotlib inline\n",
    "\n",
    "fig, ax = plt.subplots(1, 2, figsize=(14,6))  # a figure with 1 row and 3 columns\n",
    "                                              # ax variable stores a list with 3 elements\n",
    "                                              # each element in ax correspons to chart\n",
    "end_info['Average_duration'].plot(kind=\"hist\", ax=ax[0], bins=40, label=\"\", color=\"c\")\n",
    "ax[0].set_title(\"Average Game Duration Histogram\")\n",
    "sns.kdeplot(end_info['Average_duration'], shade=True, label=\"Probability Density\", ax=ax[1], color=\"c\")\n",
    "ax[1].set_title(\"Duration- KDE Distribution\")\n",
    "plt.suptitle(\"Average Game Duration\")\n",
    "plt.show()"
   ]
  },
  {
   "cell_type": "markdown",
   "metadata": {},
   "source": [
    "<br><br>\n",
    "### <a id=\"4.2\">4.2. Average Game Score </a>\n",
    "<br>\n",
    "\n",
    "Just like calculation of mean game duration, i can calculate average game score in a same way."
   ]
  },
  {
   "cell_type": "code",
   "execution_count": 51,
   "metadata": {},
   "outputs": [
    {
     "data": {
      "text/html": [
       "<div>\n",
       "<style scoped>\n",
       "    .dataframe tbody tr th:only-of-type {\n",
       "        vertical-align: middle;\n",
       "    }\n",
       "\n",
       "    .dataframe tbody tr th {\n",
       "        vertical-align: top;\n",
       "    }\n",
       "\n",
       "    .dataframe thead th {\n",
       "        text-align: right;\n",
       "    }\n",
       "</style>\n",
       "<table border=\"1\" class=\"dataframe\">\n",
       "  <thead>\n",
       "    <tr style=\"text-align: right;\">\n",
       "      <th></th>\n",
       "      <th>Avg(score)</th>\n",
       "    </tr>\n",
       "  </thead>\n",
       "  <tbody>\n",
       "    <tr>\n",
       "      <th>0</th>\n",
       "      <td>846.872881</td>\n",
       "    </tr>\n",
       "  </tbody>\n",
       "</table>\n",
       "</div>"
      ],
      "text/plain": [
       "   Avg(score)\n",
       "0  846.872881"
      ]
     },
     "execution_count": 51,
     "metadata": {},
     "output_type": "execute_result"
    }
   ],
   "source": [
    "# Sample Mean game score ->\n",
    "query = 'SELECT  Avg(score) from end_table'\n",
    "end_info = pd.read_sql(query, connection)\n",
    "end_info\n"
   ]
  },
  {
   "cell_type": "code",
   "execution_count": 52,
   "metadata": {},
   "outputs": [
    {
     "data": {
      "text/html": [
       "<div>\n",
       "<style scoped>\n",
       "    .dataframe tbody tr th:only-of-type {\n",
       "        vertical-align: middle;\n",
       "    }\n",
       "\n",
       "    .dataframe tbody tr th {\n",
       "        vertical-align: top;\n",
       "    }\n",
       "\n",
       "    .dataframe thead th {\n",
       "        text-align: right;\n",
       "    }\n",
       "</style>\n",
       "<table border=\"1\" class=\"dataframe\">\n",
       "  <thead>\n",
       "    <tr style=\"text-align: right;\">\n",
       "      <th></th>\n",
       "      <th>Average_Score</th>\n",
       "      <th>dt</th>\n",
       "    </tr>\n",
       "  </thead>\n",
       "  <tbody>\n",
       "    <tr>\n",
       "      <th>0</th>\n",
       "      <td>762.666667</td>\n",
       "      <td>14/02/17</td>\n",
       "    </tr>\n",
       "    <tr>\n",
       "      <th>1</th>\n",
       "      <td>767.000000</td>\n",
       "      <td>16/02/17</td>\n",
       "    </tr>\n",
       "    <tr>\n",
       "      <th>2</th>\n",
       "      <td>501.375000</td>\n",
       "      <td>20/02/17</td>\n",
       "    </tr>\n",
       "    <tr>\n",
       "      <th>3</th>\n",
       "      <td>659.564677</td>\n",
       "      <td>21/02/17</td>\n",
       "    </tr>\n",
       "    <tr>\n",
       "      <th>4</th>\n",
       "      <td>677.422162</td>\n",
       "      <td>22/02/17</td>\n",
       "    </tr>\n",
       "  </tbody>\n",
       "</table>\n",
       "</div>"
      ],
      "text/plain": [
       "   Average_Score        dt\n",
       "0     762.666667  14/02/17\n",
       "1     767.000000  16/02/17\n",
       "2     501.375000  20/02/17\n",
       "3     659.564677  21/02/17\n",
       "4     677.422162  22/02/17"
      ]
     },
     "execution_count": 52,
     "metadata": {},
     "output_type": "execute_result"
    }
   ],
   "source": [
    "query = 'SELECT AVG(score) as Average_Score, dt from end_table  group by dt ORDER BY ts asc' #\n",
    "end_info = pd.read_sql(query, connection)\n",
    "end_info.head(5)\n",
    "\n",
    "\n"
   ]
  },
  {
   "cell_type": "markdown",
   "metadata": {},
   "source": []
  },
  {
   "cell_type": "code",
   "execution_count": 53,
   "metadata": {},
   "outputs": [
    {
     "data": {
      "application/vnd.plotly.v1+json": {
       "config": {
        "linkText": "Export to plot.ly",
        "plotlyServerURL": "https://plot.ly",
        "showLink": false
       },
       "data": [
        {
         "marker": {
          "color": "#598AC6"
         },
         "mode": "lines",
         "name": "Game Score",
         "type": "scatter",
         "uid": "225da94b-af7c-408c-9c39-9acf9e0e56d0",
         "x": [
          "2017-02-14",
          "2017-02-16",
          "2017-02-20",
          "2017-02-21",
          "2017-02-22",
          "2017-02-23",
          "2017-02-24",
          "2017-02-25",
          "2017-02-26",
          "2017-02-27",
          "2017-02-28",
          "2017-03-01",
          "2017-03-02",
          "2017-03-03",
          "2017-03-04",
          "2017-03-05",
          "2017-03-06",
          "2017-03-07",
          "2017-03-08",
          "2017-03-09",
          "2017-03-10",
          "2017-03-11",
          "2017-03-12",
          "2017-03-13",
          "2017-03-14",
          "2017-03-15",
          "2017-03-16",
          "2017-03-17",
          "2017-03-18",
          "2017-03-19",
          "2017-03-20",
          "2017-03-21",
          "2017-03-22",
          "2017-03-23",
          "2017-03-24",
          "2017-03-25",
          "2017-03-26",
          "2017-03-27",
          "2017-03-28",
          "2017-03-29",
          "2017-03-30",
          "2017-03-31",
          "2017-04-01",
          "2017-04-02",
          "2017-04-03",
          "2017-04-04",
          "2017-04-05",
          "2017-04-06",
          "2017-04-07",
          "2017-04-08",
          "2017-04-09",
          "2017-04-10",
          "2017-04-11",
          "2017-04-12",
          "2017-04-13",
          "2017-04-14"
         ],
         "y": [
          762.6666666666666,
          767,
          501.375,
          659.5646766169154,
          677.4221617946974,
          695.890928725702,
          696.334432717678,
          703.0324365099322,
          730.8753008094509,
          733.9553398058252,
          807.6145081655906,
          843.3153078202995,
          816.6321087065928,
          829.7528579205226,
          798.4980544747082,
          874.2880098887515,
          881.8573643410853,
          912.0511152416357,
          905.1891604675877,
          956.7037401574803,
          834.9699321047526,
          1012.9014373716633,
          912.1892201834862,
          1032.3716814159293,
          948.9705263157895,
          907.1379690949227,
          896.6629986244842,
          865.0037878787879,
          881.7215601300109,
          936.2415349887133,
          1014.3986928104575,
          971.4715568862275,
          961.6776729559748,
          1052.3821292775665,
          1028.095867768595,
          949.9872832369942,
          1006.759375,
          1042.6101364522417,
          1013.2635658914729,
          927.752503576538,
          993.1828571428572,
          977.0889328063241,
          899.2510373443984,
          913.9468690702088,
          941.917225950783,
          1142.193717277487,
          1033.6339066339067,
          984.8607242339833,
          937.7832422586521,
          988.558962264151,
          1013.0387596899225,
          1072.5282051282052,
          1012.1030640668523,
          1040.7444717444716,
          972.9273607748185,
          998.2909535452322
         ]
        }
       ],
       "layout": {
        "height": 750,
        "legend": {
         "orientation": "h",
         "x": -0.01,
         "y": 1
        },
        "title": {
         "text": "Daily Average Game Score"
        },
        "xaxis": {
         "ticklen": 1,
         "title": {
          "text": "Datetime"
         }
        }
       }
      },
      "text/html": [
       "<div id=\"1ec0b02e-97e3-4c47-ae59-860deb6dd2c0\" style=\"height: 750px; width: 100%;\" class=\"plotly-graph-div\"></div><script type=\"text/javascript\">require([\"plotly\"], function(Plotly) { window.PLOTLYENV=window.PLOTLYENV || {};window.PLOTLYENV.BASE_URL=\"https://plot.ly\";Plotly.newPlot(\"1ec0b02e-97e3-4c47-ae59-860deb6dd2c0\", [{\"marker\": {\"color\": \"#598AC6\"}, \"mode\": \"lines\", \"name\": \"Game Score\", \"x\": [\"2017-02-14\", \"2017-02-16\", \"2017-02-20\", \"2017-02-21\", \"2017-02-22\", \"2017-02-23\", \"2017-02-24\", \"2017-02-25\", \"2017-02-26\", \"2017-02-27\", \"2017-02-28\", \"2017-03-01\", \"2017-03-02\", \"2017-03-03\", \"2017-03-04\", \"2017-03-05\", \"2017-03-06\", \"2017-03-07\", \"2017-03-08\", \"2017-03-09\", \"2017-03-10\", \"2017-03-11\", \"2017-03-12\", \"2017-03-13\", \"2017-03-14\", \"2017-03-15\", \"2017-03-16\", \"2017-03-17\", \"2017-03-18\", \"2017-03-19\", \"2017-03-20\", \"2017-03-21\", \"2017-03-22\", \"2017-03-23\", \"2017-03-24\", \"2017-03-25\", \"2017-03-26\", \"2017-03-27\", \"2017-03-28\", \"2017-03-29\", \"2017-03-30\", \"2017-03-31\", \"2017-04-01\", \"2017-04-02\", \"2017-04-03\", \"2017-04-04\", \"2017-04-05\", \"2017-04-06\", \"2017-04-07\", \"2017-04-08\", \"2017-04-09\", \"2017-04-10\", \"2017-04-11\", \"2017-04-12\", \"2017-04-13\", \"2017-04-14\"], \"y\": [762.6666666666666, 767.0, 501.375, 659.5646766169154, 677.4221617946974, 695.890928725702, 696.334432717678, 703.0324365099322, 730.8753008094509, 733.9553398058252, 807.6145081655906, 843.3153078202995, 816.6321087065928, 829.7528579205226, 798.4980544747082, 874.2880098887515, 881.8573643410853, 912.0511152416357, 905.1891604675877, 956.7037401574803, 834.9699321047526, 1012.9014373716633, 912.1892201834862, 1032.3716814159293, 948.9705263157895, 907.1379690949227, 896.6629986244842, 865.0037878787879, 881.7215601300109, 936.2415349887133, 1014.3986928104575, 971.4715568862275, 961.6776729559748, 1052.3821292775665, 1028.095867768595, 949.9872832369942, 1006.759375, 1042.6101364522417, 1013.2635658914729, 927.752503576538, 993.1828571428572, 977.0889328063241, 899.2510373443984, 913.9468690702088, 941.917225950783, 1142.193717277487, 1033.6339066339067, 984.8607242339833, 937.7832422586521, 988.558962264151, 1013.0387596899225, 1072.5282051282052, 1012.1030640668523, 1040.7444717444716, 972.9273607748185, 998.2909535452322], \"type\": \"scatter\", \"uid\": \"bf962d1b-9804-4890-8612-4f8744fe7cce\"}], {\"height\": 750, \"legend\": {\"orientation\": \"h\", \"x\": -0.01, \"y\": 1}, \"title\": {\"text\": \"Daily Average Game Score\"}, \"xaxis\": {\"ticklen\": 1, \"title\": {\"text\": \"Datetime\"}}}, {\"showLink\": false, \"linkText\": \"Export to plot.ly\", \"plotlyServerURL\": \"https://plot.ly\"})});</script><script type=\"text/javascript\">window.addEventListener(\"resize\", function(){window._Plotly.Plots.resize(document.getElementById(\"1ec0b02e-97e3-4c47-ae59-860deb6dd2c0\"));});</script>"
      ],
      "text/vnd.plotly.v1+html": [
       "<div id=\"1ec0b02e-97e3-4c47-ae59-860deb6dd2c0\" style=\"height: 750px; width: 100%;\" class=\"plotly-graph-div\"></div><script type=\"text/javascript\">require([\"plotly\"], function(Plotly) { window.PLOTLYENV=window.PLOTLYENV || {};window.PLOTLYENV.BASE_URL=\"https://plot.ly\";Plotly.newPlot(\"1ec0b02e-97e3-4c47-ae59-860deb6dd2c0\", [{\"marker\": {\"color\": \"#598AC6\"}, \"mode\": \"lines\", \"name\": \"Game Score\", \"x\": [\"2017-02-14\", \"2017-02-16\", \"2017-02-20\", \"2017-02-21\", \"2017-02-22\", \"2017-02-23\", \"2017-02-24\", \"2017-02-25\", \"2017-02-26\", \"2017-02-27\", \"2017-02-28\", \"2017-03-01\", \"2017-03-02\", \"2017-03-03\", \"2017-03-04\", \"2017-03-05\", \"2017-03-06\", \"2017-03-07\", \"2017-03-08\", \"2017-03-09\", \"2017-03-10\", \"2017-03-11\", \"2017-03-12\", \"2017-03-13\", \"2017-03-14\", \"2017-03-15\", \"2017-03-16\", \"2017-03-17\", \"2017-03-18\", \"2017-03-19\", \"2017-03-20\", \"2017-03-21\", \"2017-03-22\", \"2017-03-23\", \"2017-03-24\", \"2017-03-25\", \"2017-03-26\", \"2017-03-27\", \"2017-03-28\", \"2017-03-29\", \"2017-03-30\", \"2017-03-31\", \"2017-04-01\", \"2017-04-02\", \"2017-04-03\", \"2017-04-04\", \"2017-04-05\", \"2017-04-06\", \"2017-04-07\", \"2017-04-08\", \"2017-04-09\", \"2017-04-10\", \"2017-04-11\", \"2017-04-12\", \"2017-04-13\", \"2017-04-14\"], \"y\": [762.6666666666666, 767.0, 501.375, 659.5646766169154, 677.4221617946974, 695.890928725702, 696.334432717678, 703.0324365099322, 730.8753008094509, 733.9553398058252, 807.6145081655906, 843.3153078202995, 816.6321087065928, 829.7528579205226, 798.4980544747082, 874.2880098887515, 881.8573643410853, 912.0511152416357, 905.1891604675877, 956.7037401574803, 834.9699321047526, 1012.9014373716633, 912.1892201834862, 1032.3716814159293, 948.9705263157895, 907.1379690949227, 896.6629986244842, 865.0037878787879, 881.7215601300109, 936.2415349887133, 1014.3986928104575, 971.4715568862275, 961.6776729559748, 1052.3821292775665, 1028.095867768595, 949.9872832369942, 1006.759375, 1042.6101364522417, 1013.2635658914729, 927.752503576538, 993.1828571428572, 977.0889328063241, 899.2510373443984, 913.9468690702088, 941.917225950783, 1142.193717277487, 1033.6339066339067, 984.8607242339833, 937.7832422586521, 988.558962264151, 1013.0387596899225, 1072.5282051282052, 1012.1030640668523, 1040.7444717444716, 972.9273607748185, 998.2909535452322], \"type\": \"scatter\", \"uid\": \"bf962d1b-9804-4890-8612-4f8744fe7cce\"}], {\"height\": 750, \"legend\": {\"orientation\": \"h\", \"x\": -0.01, \"y\": 1}, \"title\": {\"text\": \"Daily Average Game Score\"}, \"xaxis\": {\"ticklen\": 1, \"title\": {\"text\": \"Datetime\"}}}, {\"showLink\": false, \"linkText\": \"Export to plot.ly\", \"plotlyServerURL\": \"https://plot.ly\"})});</script><script type=\"text/javascript\">window.addEventListener(\"resize\", function(){window._Plotly.Plots.resize(document.getElementById(\"1ec0b02e-97e3-4c47-ae59-860deb6dd2c0\"));});</script>"
      ]
     },
     "metadata": {},
     "output_type": "display_data"
    }
   ],
   "source": [
    "\n",
    "trace1 = go.Scatter(x =  pd.to_datetime(end_info['dt'],format='%d/%m/%y'), y = end_info['Average_Score'], name='Game Score', mode = \"lines\", marker = dict(color = '#598AC6'))\n",
    "\n",
    "data = [trace1]\n",
    "layout = dict(height=750, title = 'Daily Average Game Score', legend=dict(orientation=\"h\", x=-.01, y=1), xaxis= dict(title=\"Datetime\", ticklen= 1))\n",
    "fig = dict(data = data, layout = layout)\n",
    "iplot(fig)\n",
    "\n",
    "\n"
   ]
  },
  {
   "cell_type": "code",
   "execution_count": 54,
   "metadata": {},
   "outputs": [
    {
     "data": {
      "image/png": "[encoded data removed]",
      "text/plain": [
       "<matplotlib.figure.Figure at 0x22fdf0bad30>"
      ]
     },
     "metadata": {
      "needs_background": "light"
     },
     "output_type": "display_data"
    }
   ],
   "source": [
    "fig, ax = plt.subplots(1, 2, figsize=(14,6))  # a figure with 1 row and 3 columns\n",
    "                                              # ax variable stores a list with 3 elements\n",
    "                                              # each element in ax correspons to chart\n",
    "end_info['Average_Score'].plot(kind=\"hist\", ax=ax[0], bins=40, label=\"\", color=\"c\")\n",
    "ax[0].set_title(\"Average Game Score Histogram\")\n",
    "sns.kdeplot(end_info['Average_Score'], shade=True, label=\"Probability Density\", ax=ax[1], color=\"c\")\n",
    "ax[1].set_title(\"Game Score- KDE Distribution\")\n",
    "plt.suptitle(\"Average Game Score\")\n",
    "plt.show()"
   ]
  },
  {
   "cell_type": "markdown",
   "metadata": {},
   "source": [
    "<br><br>\n",
    "### <a id=\"4.3\">4.3 Session per User </a>\n",
    "<br>"
   ]
  },
  {
   "cell_type": "code",
   "execution_count": 55,
   "metadata": {},
   "outputs": [
    {
     "data": {
      "text/html": [
       "<div>\n",
       "<style scoped>\n",
       "    .dataframe tbody tr th:only-of-type {\n",
       "        vertical-align: middle;\n",
       "    }\n",
       "\n",
       "    .dataframe tbody tr th {\n",
       "        vertical-align: top;\n",
       "    }\n",
       "\n",
       "    .dataframe thead th {\n",
       "        text-align: right;\n",
       "    }\n",
       "</style>\n",
       "<table border=\"1\" class=\"dataframe\">\n",
       "  <thead>\n",
       "    <tr style=\"text-align: right;\">\n",
       "      <th></th>\n",
       "      <th>uid</th>\n",
       "      <th>max_session_num</th>\n",
       "    </tr>\n",
       "  </thead>\n",
       "  <tbody>\n",
       "    <tr>\n",
       "      <th>0</th>\n",
       "      <td>2550</td>\n",
       "      <td>4</td>\n",
       "    </tr>\n",
       "    <tr>\n",
       "      <th>1</th>\n",
       "      <td>706</td>\n",
       "      <td>96</td>\n",
       "    </tr>\n",
       "    <tr>\n",
       "      <th>2</th>\n",
       "      <td>1067</td>\n",
       "      <td>6</td>\n",
       "    </tr>\n",
       "    <tr>\n",
       "      <th>3</th>\n",
       "      <td>1138</td>\n",
       "      <td>1</td>\n",
       "    </tr>\n",
       "  </tbody>\n",
       "</table>\n",
       "</div>"
      ],
      "text/plain": [
       "    uid  max_session_num\n",
       "0  2550                4\n",
       "1   706               96\n",
       "2  1067                6\n",
       "3  1138                1"
      ]
     },
     "execution_count": 55,
     "metadata": {},
     "output_type": "execute_result"
    }
   ],
   "source": [
    "# We can calculate session per user by looking Login table, because when user login the game , s_index is incremented.\n",
    "#User a göre gruplayıp , s_index in maxını alman lazım\n",
    "query = 'select uid,max(s_index) as max_session_num from login_table  group by uid ORDER BY ts asc' #\n",
    "log_info = pd.read_sql(query, connection)\n",
    "log_info.head(4)\n",
    "#Now we maximum session numbers that particular user has reached."
   ]
  },
  {
   "cell_type": "code",
   "execution_count": 56,
   "metadata": {},
   "outputs": [
    {
     "data": {
      "text/plain": [
       "7.6723247232472325"
      ]
     },
     "execution_count": 56,
     "metadata": {},
     "output_type": "execute_result"
    }
   ],
   "source": [
    "#So we can measure mean session number that cover user lifetime.\n",
    "log_info[\"max_session_num\"].mean()\n",
    "#Which is 7.67 session per user.\n",
    "\n"
   ]
  },
  {
   "cell_type": "markdown",
   "metadata": {},
   "source": [
    "<br><br>\n",
    "### <a id=\"4.4\">4.4 Games per Session </a>\n",
    "\n",
    "For finding games per session, we have to relationship between the session index and game index in users. In other words, we need max game index and max session index for that user. Keep in mind that , session and game_index  must be highly correlated due to when session number increases, this implicitly increase the game_index because users must be play the game during sessions. What would mean if they didn't play ? Consequently we must get max session index and max game index that user has."
   ]
  },
  {
   "cell_type": "code",
   "execution_count": 57,
   "metadata": {
    "scrolled": true
   },
   "outputs": [
    {
     "data": {
      "text/html": [
       "<div>\n",
       "<style scoped>\n",
       "    .dataframe tbody tr th:only-of-type {\n",
       "        vertical-align: middle;\n",
       "    }\n",
       "\n",
       "    .dataframe tbody tr th {\n",
       "        vertical-align: top;\n",
       "    }\n",
       "\n",
       "    .dataframe thead th {\n",
       "        text-align: right;\n",
       "    }\n",
       "</style>\n",
       "<table border=\"1\" class=\"dataframe\">\n",
       "  <thead>\n",
       "    <tr style=\"text-align: right;\">\n",
       "      <th></th>\n",
       "      <th>uid</th>\n",
       "      <th>max_game_number</th>\n",
       "      <th>max_session_number</th>\n",
       "      <th>games_per_session</th>\n",
       "    </tr>\n",
       "  </thead>\n",
       "  <tbody>\n",
       "    <tr>\n",
       "      <th>0</th>\n",
       "      <td>1</td>\n",
       "      <td>7</td>\n",
       "      <td>3</td>\n",
       "      <td>2.333333</td>\n",
       "    </tr>\n",
       "    <tr>\n",
       "      <th>1</th>\n",
       "      <td>2</td>\n",
       "      <td>1</td>\n",
       "      <td>1</td>\n",
       "      <td>1.000000</td>\n",
       "    </tr>\n",
       "    <tr>\n",
       "      <th>2</th>\n",
       "      <td>3</td>\n",
       "      <td>7</td>\n",
       "      <td>5</td>\n",
       "      <td>1.400000</td>\n",
       "    </tr>\n",
       "    <tr>\n",
       "      <th>3</th>\n",
       "      <td>4</td>\n",
       "      <td>28</td>\n",
       "      <td>9</td>\n",
       "      <td>3.111111</td>\n",
       "    </tr>\n",
       "    <tr>\n",
       "      <th>4</th>\n",
       "      <td>5</td>\n",
       "      <td>18</td>\n",
       "      <td>3</td>\n",
       "      <td>6.000000</td>\n",
       "    </tr>\n",
       "  </tbody>\n",
       "</table>\n",
       "</div>"
      ],
      "text/plain": [
       "   uid  max_game_number  max_session_number  games_per_session\n",
       "0    1                7                   3           2.333333\n",
       "1    2                1                   1           1.000000\n",
       "2    3                7                   5           1.400000\n",
       "3    4               28                   9           3.111111\n",
       "4    5               18                   3           6.000000"
      ]
     },
     "execution_count": 57,
     "metadata": {},
     "output_type": "execute_result"
    }
   ],
   "source": [
    "query2 = 'select uid,max(game_index) as max_game_number, max(s_index) as max_session_number, max(game_index)*1.0 / max(s_index) as games_per_session from start_table group by uid ' #\n",
    "start_info = pd.read_sql(query2, connection)\n",
    "start_info.head(5)"
   ]
  },
  {
   "cell_type": "code",
   "execution_count": 58,
   "metadata": {},
   "outputs": [
    {
     "data": {
      "text/plain": [
       "2.1101583449169867"
      ]
     },
     "execution_count": 58,
     "metadata": {},
     "output_type": "execute_result"
    }
   ],
   "source": [
    "MEAN_GAME_PER_SESSION=start_info[\"games_per_session\"].mean()\n",
    "MEAN_GAME_PER_SESSION\n",
    "#This number is the sample mean of games per session"
   ]
  },
  {
   "cell_type": "markdown",
   "metadata": {},
   "source": [
    "<br><br>\n",
    "### <a id=\"4.5\">4.5 Average Session Duration </a>"
   ]
  },
  {
   "cell_type": "markdown",
   "metadata": {},
   "source": [
    "Until now, we already now average game duration and games per session,Hence when we multiply it with each other , we can estimate in a naive way.\n",
    "\n",
    "Avg Game Duration * Games Per Session = Avg Session Duration.\n",
    "\n",
    "However, we ignore the gap between install and playing game, also ignoring gap between games etc\n"
   ]
  },
  {
   "cell_type": "code",
   "execution_count": 59,
   "metadata": {},
   "outputs": [
    {
     "data": {
      "text/plain": [
       "588.2927560041036"
      ]
     },
     "execution_count": 59,
     "metadata": {},
     "output_type": "execute_result"
    }
   ],
   "source": [
    "AVG_SESSION_DUR=AVG_GAME_DUR * MEAN_GAME_PER_SESSION\n",
    "AVG_SESSION_DUR"
   ]
  },
  {
   "cell_type": "code",
   "execution_count": null,
   "metadata": {
    "collapsed": true
   },
   "outputs": [],
   "source": []
  },
  {
   "cell_type": "markdown",
   "metadata": {},
   "source": [
    "<br><br>\n",
    "### <a id=\"4.6\">4.6 Percentage of Users that Finished Tutorial </a>"
   ]
  },
  {
   "cell_type": "markdown",
   "metadata": {},
   "source": [
    "In the Tutorial table, we already have information  of how many steps users forwarded. When they reach 8 , this means they succesfully completed the tutorial. What i did is basically find the proportion of reach the step 8 and divide it by unique user number."
   ]
  },
  {
   "cell_type": "code",
   "execution_count": 60,
   "metadata": {},
   "outputs": [
    {
     "data": {
      "text/html": [
       "<div>\n",
       "<style scoped>\n",
       "    .dataframe tbody tr th:only-of-type {\n",
       "        vertical-align: middle;\n",
       "    }\n",
       "\n",
       "    .dataframe tbody tr th {\n",
       "        vertical-align: top;\n",
       "    }\n",
       "\n",
       "    .dataframe thead th {\n",
       "        text-align: right;\n",
       "    }\n",
       "</style>\n",
       "<table border=\"1\" class=\"dataframe\">\n",
       "  <thead>\n",
       "    <tr style=\"text-align: right;\">\n",
       "      <th></th>\n",
       "      <th>index</th>\n",
       "      <th>event_id</th>\n",
       "      <th>ts</th>\n",
       "      <th>dt</th>\n",
       "      <th>uid</th>\n",
       "      <th>s_index</th>\n",
       "      <th>s_time</th>\n",
       "      <th>game_index</th>\n",
       "      <th>step</th>\n",
       "    </tr>\n",
       "  </thead>\n",
       "  <tbody>\n",
       "    <tr>\n",
       "      <th>0</th>\n",
       "      <td>0</td>\n",
       "      <td>fcd7a8bd-921e-5878-8a50-1e7f88b46d50</td>\n",
       "      <td>1488007754</td>\n",
       "      <td>2017-02-25</td>\n",
       "      <td>1356</td>\n",
       "      <td>1</td>\n",
       "      <td>93</td>\n",
       "      <td>1</td>\n",
       "      <td>8</td>\n",
       "    </tr>\n",
       "    <tr>\n",
       "      <th>1</th>\n",
       "      <td>1</td>\n",
       "      <td>a3fb3bdc-73bd-a1b6-760c-23afbafceacf</td>\n",
       "      <td>1487946568</td>\n",
       "      <td>2017-02-24</td>\n",
       "      <td>1259</td>\n",
       "      <td>1</td>\n",
       "      <td>143</td>\n",
       "      <td>1</td>\n",
       "      <td>5</td>\n",
       "    </tr>\n",
       "    <tr>\n",
       "      <th>2</th>\n",
       "      <td>2</td>\n",
       "      <td>f44c7c86-2485-4d3e-8f55-a42c2855ac0d</td>\n",
       "      <td>1488043101</td>\n",
       "      <td>2017-02-25</td>\n",
       "      <td>292</td>\n",
       "      <td>1</td>\n",
       "      <td>295</td>\n",
       "      <td>1</td>\n",
       "      <td>6</td>\n",
       "    </tr>\n",
       "    <tr>\n",
       "      <th>3</th>\n",
       "      <td>3</td>\n",
       "      <td>c15f2770-fe2b-c78e-8064-6192fc7749dd</td>\n",
       "      <td>1487873187</td>\n",
       "      <td>2017-02-23</td>\n",
       "      <td>2742</td>\n",
       "      <td>1</td>\n",
       "      <td>27</td>\n",
       "      <td>1</td>\n",
       "      <td>4</td>\n",
       "    </tr>\n",
       "    <tr>\n",
       "      <th>4</th>\n",
       "      <td>4</td>\n",
       "      <td>dac609e8-fddc-3495-05f9-049abd6c0f51</td>\n",
       "      <td>1487694226</td>\n",
       "      <td>2017-02-21</td>\n",
       "      <td>112</td>\n",
       "      <td>1</td>\n",
       "      <td>175</td>\n",
       "      <td>1</td>\n",
       "      <td>7</td>\n",
       "    </tr>\n",
       "  </tbody>\n",
       "</table>\n",
       "</div>"
      ],
      "text/plain": [
       "   index                              event_id          ts          dt   uid  \\\n",
       "0      0  fcd7a8bd-921e-5878-8a50-1e7f88b46d50  1488007754  2017-02-25  1356   \n",
       "1      1  a3fb3bdc-73bd-a1b6-760c-23afbafceacf  1487946568  2017-02-24  1259   \n",
       "2      2  f44c7c86-2485-4d3e-8f55-a42c2855ac0d  1488043101  2017-02-25   292   \n",
       "3      3  c15f2770-fe2b-c78e-8064-6192fc7749dd  1487873187  2017-02-23  2742   \n",
       "4      4  dac609e8-fddc-3495-05f9-049abd6c0f51  1487694226  2017-02-21   112   \n",
       "\n",
       "   s_index  s_time  game_index  step  \n",
       "0        1      93           1     8  \n",
       "1        1     143           1     5  \n",
       "2        1     295           1     6  \n",
       "3        1      27           1     4  \n",
       "4        1     175           1     7  "
      ]
     },
     "execution_count": 60,
     "metadata": {},
     "output_type": "execute_result"
    }
   ],
   "source": [
    "#read a SQL Query out of your database and into a pandas dataframe\n",
    "query = 'SELECT * from tutorial_table' #\n",
    "tutor_info = pd.read_sql(query, connection)\n",
    "tutor_info.head(5)"
   ]
  },
  {
   "cell_type": "markdown",
   "metadata": {},
   "source": [
    "To find maximum step number that particular user reach below query works well."
   ]
  },
  {
   "cell_type": "code",
   "execution_count": 61,
   "metadata": {},
   "outputs": [
    {
     "data": {
      "text/html": [
       "<div>\n",
       "<style scoped>\n",
       "    .dataframe tbody tr th:only-of-type {\n",
       "        vertical-align: middle;\n",
       "    }\n",
       "\n",
       "    .dataframe tbody tr th {\n",
       "        vertical-align: top;\n",
       "    }\n",
       "\n",
       "    .dataframe thead th {\n",
       "        text-align: right;\n",
       "    }\n",
       "</style>\n",
       "<table border=\"1\" class=\"dataframe\">\n",
       "  <thead>\n",
       "    <tr style=\"text-align: right;\">\n",
       "      <th></th>\n",
       "      <th>finished_tutorial</th>\n",
       "    </tr>\n",
       "  </thead>\n",
       "  <tbody>\n",
       "    <tr>\n",
       "      <th>0</th>\n",
       "      <td>2189</td>\n",
       "    </tr>\n",
       "  </tbody>\n",
       "</table>\n",
       "</div>"
      ],
      "text/plain": [
       "   finished_tutorial\n",
       "0               2189"
      ]
     },
     "execution_count": 61,
     "metadata": {},
     "output_type": "execute_result"
    }
   ],
   "source": [
    "query = ''' \n",
    " \n",
    "select count(*) as finished_tutorial  from\n",
    "\n",
    "(SELECT  max(step) as stepNum,uid from tutorial_table  group by uid)\n",
    "\n",
    "where stepNum=8''' #\n",
    "a = pd.read_sql(query, connection)\n",
    "a\n",
    "\n"
   ]
  },
  {
   "cell_type": "markdown",
   "metadata": {},
   "source": [
    "We already find the # of users that succesfully completed the tutorial,  now divide it by unique user number."
   ]
  },
  {
   "cell_type": "code",
   "execution_count": 62,
   "metadata": {},
   "outputs": [
    {
     "data": {
      "text/html": [
       "<div>\n",
       "<style scoped>\n",
       "    .dataframe tbody tr th:only-of-type {\n",
       "        vertical-align: middle;\n",
       "    }\n",
       "\n",
       "    .dataframe tbody tr th {\n",
       "        vertical-align: top;\n",
       "    }\n",
       "\n",
       "    .dataframe thead th {\n",
       "        text-align: right;\n",
       "    }\n",
       "</style>\n",
       "<table border=\"1\" class=\"dataframe\">\n",
       "  <thead>\n",
       "    <tr style=\"text-align: right;\">\n",
       "      <th></th>\n",
       "      <th>Total</th>\n",
       "    </tr>\n",
       "  </thead>\n",
       "  <tbody>\n",
       "    <tr>\n",
       "      <th>0</th>\n",
       "      <td>2642</td>\n",
       "    </tr>\n",
       "  </tbody>\n",
       "</table>\n",
       "</div>"
      ],
      "text/plain": [
       "   Total\n",
       "0   2642"
      ]
     },
     "execution_count": 62,
     "metadata": {},
     "output_type": "execute_result"
    }
   ],
   "source": [
    "query = 'select count(*) as Total from (SELECT  count(*) from tutorial_table group by uid)' #\n",
    "b = pd.read_sql(query, connection)\n",
    "b\n",
    "#This there is 2682 user exist in tutorial_taable"
   ]
  },
  {
   "cell_type": "code",
   "execution_count": 63,
   "metadata": {},
   "outputs": [
    {
     "name": "stdout",
     "output_type": "stream",
     "text": [
      "83% of User has succesfully completed the Tutorial\n"
     ]
    }
   ],
   "source": [
    "PER_USER_FINISH_TUTORIAL=a['finished_tutorial'][0]/b['Total'][0]\n",
    "\n",
    "print (\"{0:.0f}%\".format(PER_USER_FINISH_TUTORIAL * 100), \"of User has succesfully completed the Tutorial\")"
   ]
  },
  {
   "cell_type": "code",
   "execution_count": null,
   "metadata": {
    "collapsed": true
   },
   "outputs": [],
   "source": []
  },
  {
   "cell_type": "code",
   "execution_count": null,
   "metadata": {
    "collapsed": true
   },
   "outputs": [],
   "source": []
  },
  {
   "cell_type": "code",
   "execution_count": null,
   "metadata": {
    "collapsed": true
   },
   "outputs": [],
   "source": []
  },
  {
   "cell_type": "code",
   "execution_count": null,
   "metadata": {
    "collapsed": true
   },
   "outputs": [],
   "source": []
  },
  {
   "cell_type": "code",
   "execution_count": null,
   "metadata": {
    "collapsed": true
   },
   "outputs": [],
   "source": []
  },
  {
   "cell_type": "code",
   "execution_count": null,
   "metadata": {
    "collapsed": true
   },
   "outputs": [],
   "source": []
  },
  {
   "cell_type": "code",
   "execution_count": null,
   "metadata": {
    "collapsed": true
   },
   "outputs": [],
   "source": []
  },
  {
   "cell_type": "code",
   "execution_count": null,
   "metadata": {
    "collapsed": true
   },
   "outputs": [],
   "source": []
  },
  {
   "cell_type": "code",
   "execution_count": null,
   "metadata": {
    "collapsed": true
   },
   "outputs": [],
   "source": []
  },
  {
   "cell_type": "code",
   "execution_count": null,
   "metadata": {
    "collapsed": true
   },
   "outputs": [],
   "source": []
  },
  {
   "cell_type": "code",
   "execution_count": null,
   "metadata": {
    "collapsed": true
   },
   "outputs": [],
   "source": []
  },
  {
   "cell_type": "code",
   "execution_count": null,
   "metadata": {
    "collapsed": true
   },
   "outputs": [],
   "source": []
  },
  {
   "cell_type": "code",
   "execution_count": null,
   "metadata": {
    "collapsed": true
   },
   "outputs": [],
   "source": []
  },
  {
   "cell_type": "code",
   "execution_count": null,
   "metadata": {
    "collapsed": true
   },
   "outputs": [],
   "source": []
  },
  {
   "cell_type": "code",
   "execution_count": null,
   "metadata": {
    "collapsed": true
   },
   "outputs": [],
   "source": []
  },
  {
   "cell_type": "code",
   "execution_count": null,
   "metadata": {
    "collapsed": true
   },
   "outputs": [],
   "source": []
  },
  {
   "cell_type": "code",
   "execution_count": null,
   "metadata": {
    "collapsed": true
   },
   "outputs": [],
   "source": []
  },
  {
   "cell_type": "code",
   "execution_count": null,
   "metadata": {
    "collapsed": true
   },
   "outputs": [],
   "source": []
  },
  {
   "cell_type": "code",
   "execution_count": null,
   "metadata": {
    "collapsed": true
   },
   "outputs": [],
   "source": []
  },
  {
   "cell_type": "code",
   "execution_count": null,
   "metadata": {
    "collapsed": true
   },
   "outputs": [],
   "source": []
  },
  {
   "cell_type": "code",
   "execution_count": null,
   "metadata": {
    "collapsed": true
   },
   "outputs": [],
   "source": []
  },
  {
   "cell_type": "code",
   "execution_count": null,
   "metadata": {
    "collapsed": true
   },
   "outputs": [],
   "source": []
  },
  {
   "cell_type": "code",
   "execution_count": null,
   "metadata": {
    "collapsed": true
   },
   "outputs": [],
   "source": []
  },
  {
   "cell_type": "code",
   "execution_count": null,
   "metadata": {
    "collapsed": true
   },
   "outputs": [],
   "source": []
  },
  {
   "cell_type": "code",
   "execution_count": null,
   "metadata": {
    "collapsed": true
   },
   "outputs": [],
   "source": []
  },
  {
   "cell_type": "code",
   "execution_count": null,
   "metadata": {
    "collapsed": true
   },
   "outputs": [],
   "source": []
  },
  {
   "cell_type": "code",
   "execution_count": null,
   "metadata": {
    "collapsed": true
   },
   "outputs": [],
   "source": []
  },
  {
   "cell_type": "code",
   "execution_count": null,
   "metadata": {
    "collapsed": true
   },
   "outputs": [],
   "source": []
  },
  {
   "cell_type": "code",
   "execution_count": null,
   "metadata": {
    "collapsed": true
   },
   "outputs": [],
   "source": []
  },
  {
   "cell_type": "code",
   "execution_count": null,
   "metadata": {
    "collapsed": true
   },
   "outputs": [],
   "source": []
  },
  {
   "cell_type": "code",
   "execution_count": null,
   "metadata": {
    "collapsed": true
   },
   "outputs": [],
   "source": []
  },
  {
   "cell_type": "code",
   "execution_count": null,
   "metadata": {
    "collapsed": true
   },
   "outputs": [],
   "source": []
  },
  {
   "cell_type": "code",
   "execution_count": null,
   "metadata": {
    "collapsed": true
   },
   "outputs": [],
   "source": []
  },
  {
   "cell_type": "code",
   "execution_count": null,
   "metadata": {
    "collapsed": true
   },
   "outputs": [],
   "source": []
  },
  {
   "cell_type": "code",
   "execution_count": null,
   "metadata": {
    "collapsed": true
   },
   "outputs": [],
   "source": []
  },
  {
   "cell_type": "code",
   "execution_count": null,
   "metadata": {
    "collapsed": true
   },
   "outputs": [],
   "source": []
  },
  {
   "cell_type": "code",
   "execution_count": null,
   "metadata": {
    "collapsed": true
   },
   "outputs": [],
   "source": []
  },
  {
   "cell_type": "code",
   "execution_count": null,
   "metadata": {
    "collapsed": true
   },
   "outputs": [],
   "source": []
  },
  {
   "cell_type": "code",
   "execution_count": null,
   "metadata": {
    "collapsed": true
   },
   "outputs": [],
   "source": []
  },
  {
   "cell_type": "code",
   "execution_count": null,
   "metadata": {
    "collapsed": true
   },
   "outputs": [],
   "source": []
  },
  {
   "cell_type": "code",
   "execution_count": null,
   "metadata": {
    "collapsed": true
   },
   "outputs": [],
   "source": []
  },
  {
   "cell_type": "code",
   "execution_count": null,
   "metadata": {
    "collapsed": true
   },
   "outputs": [],
   "source": []
  },
  {
   "cell_type": "code",
   "execution_count": null,
   "metadata": {
    "collapsed": true
   },
   "outputs": [],
   "source": []
  },
  {
   "cell_type": "code",
   "execution_count": null,
   "metadata": {
    "collapsed": true
   },
   "outputs": [],
   "source": []
  },
  {
   "cell_type": "code",
   "execution_count": null,
   "metadata": {
    "collapsed": true
   },
   "outputs": [],
   "source": []
  },
  {
   "cell_type": "code",
   "execution_count": null,
   "metadata": {
    "collapsed": true
   },
   "outputs": [],
   "source": []
  },
  {
   "cell_type": "code",
   "execution_count": null,
   "metadata": {
    "collapsed": true
   },
   "outputs": [],
   "source": []
  },
  {
   "cell_type": "code",
   "execution_count": null,
   "metadata": {
    "collapsed": true
   },
   "outputs": [],
   "source": []
  },
  {
   "cell_type": "code",
   "execution_count": null,
   "metadata": {
    "collapsed": true
   },
   "outputs": [],
   "source": []
  },
  {
   "cell_type": "code",
   "execution_count": null,
   "metadata": {
    "collapsed": true
   },
   "outputs": [],
   "source": []
  },
  {
   "cell_type": "code",
   "execution_count": null,
   "metadata": {
    "collapsed": true
   },
   "outputs": [],
   "source": []
  },
  {
   "cell_type": "code",
   "execution_count": null,
   "metadata": {
    "collapsed": true
   },
   "outputs": [],
   "source": []
  },
  {
   "cell_type": "code",
   "execution_count": null,
   "metadata": {
    "collapsed": true
   },
   "outputs": [],
   "source": []
  },
  {
   "cell_type": "code",
   "execution_count": null,
   "metadata": {
    "collapsed": true
   },
   "outputs": [],
   "source": []
  },
  {
   "cell_type": "code",
   "execution_count": null,
   "metadata": {
    "collapsed": true
   },
   "outputs": [],
   "source": []
  },
  {
   "cell_type": "code",
   "execution_count": null,
   "metadata": {
    "collapsed": true
   },
   "outputs": [],
   "source": []
  },
  {
   "cell_type": "code",
   "execution_count": null,
   "metadata": {
    "collapsed": true
   },
   "outputs": [],
   "source": []
  },
  {
   "cell_type": "code",
   "execution_count": null,
   "metadata": {
    "collapsed": true
   },
   "outputs": [],
   "source": []
  },
  {
   "cell_type": "code",
   "execution_count": null,
   "metadata": {
    "collapsed": true
   },
   "outputs": [],
   "source": []
  },
  {
   "cell_type": "code",
   "execution_count": null,
   "metadata": {
    "collapsed": true
   },
   "outputs": [],
   "source": []
  },
  {
   "cell_type": "code",
   "execution_count": null,
   "metadata": {
    "collapsed": true
   },
   "outputs": [],
   "source": []
  },
  {
   "cell_type": "code",
   "execution_count": null,
   "metadata": {
    "collapsed": true
   },
   "outputs": [],
   "source": []
  },
  {
   "cell_type": "code",
   "execution_count": null,
   "metadata": {
    "collapsed": true
   },
   "outputs": [],
   "source": []
  },
  {
   "cell_type": "code",
   "execution_count": null,
   "metadata": {
    "collapsed": true
   },
   "outputs": [],
   "source": []
  },
  {
   "cell_type": "code",
   "execution_count": null,
   "metadata": {
    "collapsed": true
   },
   "outputs": [],
   "source": []
  },
  {
   "cell_type": "code",
   "execution_count": null,
   "metadata": {
    "collapsed": true
   },
   "outputs": [],
   "source": []
  },
  {
   "cell_type": "code",
   "execution_count": null,
   "metadata": {
    "collapsed": true
   },
   "outputs": [],
   "source": []
  },
  {
   "cell_type": "code",
   "execution_count": null,
   "metadata": {
    "collapsed": true
   },
   "outputs": [],
   "source": []
  },
  {
   "cell_type": "code",
   "execution_count": null,
   "metadata": {
    "collapsed": true
   },
   "outputs": [],
   "source": []
  },
  {
   "cell_type": "code",
   "execution_count": null,
   "metadata": {
    "collapsed": true
   },
   "outputs": [],
   "source": []
  },
  {
   "cell_type": "code",
   "execution_count": null,
   "metadata": {
    "collapsed": true
   },
   "outputs": [],
   "source": []
  },
  {
   "cell_type": "code",
   "execution_count": null,
   "metadata": {
    "collapsed": true
   },
   "outputs": [],
   "source": []
  },
  {
   "cell_type": "code",
   "execution_count": null,
   "metadata": {
    "collapsed": true
   },
   "outputs": [],
   "source": []
  },
  {
   "cell_type": "code",
   "execution_count": null,
   "metadata": {
    "collapsed": true
   },
   "outputs": [],
   "source": []
  },
  {
   "cell_type": "code",
   "execution_count": null,
   "metadata": {
    "collapsed": true
   },
   "outputs": [],
   "source": []
  },
  {
   "cell_type": "code",
   "execution_count": null,
   "metadata": {
    "collapsed": true
   },
   "outputs": [],
   "source": []
  },
  {
   "cell_type": "code",
   "execution_count": null,
   "metadata": {
    "collapsed": true
   },
   "outputs": [],
   "source": []
  },
  {
   "cell_type": "code",
   "execution_count": null,
   "metadata": {
    "collapsed": true
   },
   "outputs": [],
   "source": []
  },
  {
   "cell_type": "code",
   "execution_count": null,
   "metadata": {
    "collapsed": true
   },
   "outputs": [],
   "source": []
  },
  {
   "cell_type": "code",
   "execution_count": null,
   "metadata": {
    "collapsed": true
   },
   "outputs": [],
   "source": []
  },
  {
   "cell_type": "code",
   "execution_count": null,
   "metadata": {
    "collapsed": true
   },
   "outputs": [],
   "source": []
  },
  {
   "cell_type": "code",
   "execution_count": null,
   "metadata": {
    "collapsed": true
   },
   "outputs": [],
   "source": []
  },
  {
   "cell_type": "code",
   "execution_count": null,
   "metadata": {
    "collapsed": true
   },
   "outputs": [],
   "source": []
  },
  {
   "cell_type": "code",
   "execution_count": null,
   "metadata": {
    "collapsed": true
   },
   "outputs": [],
   "source": [
    "\n"
   ]
  }
 ],
 "metadata": {
  "kernelspec": {
   "display_name": "Python 3",
   "language": "python",
   "name": "python3"
  },
  "language_info": {
   "codemirror_mode": {
    "name": "ipython",
    "version": 3
   },
   "file_extension": ".py",
   "mimetype": "text/x-python",
   "name": "python",
   "nbconvert_exporter": "python",
   "pygments_lexer": "ipython3",
   "version": "3.6.3"
  },
  "varInspector": {
   "cols": {
    "lenName": 16,
    "lenType": 16,
    "lenVar": 40
   },
   "kernels_config": {
    "python": {
     "delete_cmd_postfix": "",
     "delete_cmd_prefix": "del ",
     "library": "var_list.py",
     "varRefreshCmd": "print(var_dic_list())"
    },
    "r": {
     "delete_cmd_postfix": ") ",
     "delete_cmd_prefix": "rm(",
     "library": "var_list.r",
     "varRefreshCmd": "cat(var_dic_list()) "
    }
   },
   "types_to_exclude": [
    "module",
    "function",
    "builtin_function_or_method",
    "instance",
    "_Feature"
   ],
   "window_display": false
  }
 },
 "nbformat": 4,
 "nbformat_minor": 2
}
